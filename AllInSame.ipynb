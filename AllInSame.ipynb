{
 "cells": [
  {
   "cell_type": "markdown",
   "metadata": {},
   "source": [
    "### Process\n",
    "- import dependencies\n",
    "- load data\n",
    "- data preprocessing\n",
    "    - feature selection\n",
    "    - pearson correlation\n",
    "    - \n",
    "- test-train split\n",
    "- do classification\n",
    "    - bagging\n",
    "    - boosting\n",
    "    - stacking\n",
    "    - traditional ml techniques\n",
    "- tables comparing accuracies, precesion, recall, f1\n",
    "- different graphs"
   ]
  },
  {
   "cell_type": "code",
   "execution_count": 89,
   "metadata": {},
   "outputs": [],
   "source": [
    "import pandas as pd\n",
    "import numpy as np\n",
    "import sklearn\n",
    "import matplotlib.pyplot as plt"
   ]
  },
  {
   "cell_type": "code",
   "execution_count": 90,
   "metadata": {},
   "outputs": [],
   "source": [
    "clinical_data = pd.read_csv('data/recent-data.csv', index_col=False)"
   ]
  },
  {
   "cell_type": "code",
   "execution_count": 91,
   "metadata": {},
   "outputs": [
    {
     "data": {
      "text/plain": [
       "49"
      ]
     },
     "execution_count": 91,
     "metadata": {},
     "output_type": "execute_result"
    }
   ],
   "source": [
    "clinical_data['Case ID'].str.startswith('AMC').sum()"
   ]
  },
  {
   "cell_type": "code",
   "execution_count": 92,
   "metadata": {},
   "outputs": [
    {
     "data": {
      "text/html": [
       "<div>\n",
       "<style scoped>\n",
       "    .dataframe tbody tr th:only-of-type {\n",
       "        vertical-align: middle;\n",
       "    }\n",
       "\n",
       "    .dataframe tbody tr th {\n",
       "        vertical-align: top;\n",
       "    }\n",
       "\n",
       "    .dataframe thead th {\n",
       "        text-align: right;\n",
       "    }\n",
       "</style>\n",
       "<table border=\"1\" class=\"dataframe\">\n",
       "  <thead>\n",
       "    <tr style=\"text-align: right;\">\n",
       "      <th></th>\n",
       "      <th>Case ID</th>\n",
       "      <th>Patient affiliation</th>\n",
       "      <th>Age at Histological Diagnosis</th>\n",
       "      <th>Weight (lbs)</th>\n",
       "      <th>Gender</th>\n",
       "      <th>Ethnicity</th>\n",
       "      <th>Smoking status</th>\n",
       "      <th>Pack Years</th>\n",
       "      <th>Quit Smoking Year</th>\n",
       "      <th>%GG</th>\n",
       "      <th>...</th>\n",
       "      <th>Recurrence</th>\n",
       "      <th>Recurrence Location</th>\n",
       "      <th>Date of Recurrence</th>\n",
       "      <th>Date of Last Known Alive</th>\n",
       "      <th>Survival Status</th>\n",
       "      <th>Date of Death</th>\n",
       "      <th>Time to Death (days)</th>\n",
       "      <th>CT Date</th>\n",
       "      <th>Days between CT and surgery</th>\n",
       "      <th>PET Date</th>\n",
       "    </tr>\n",
       "  </thead>\n",
       "  <tbody>\n",
       "    <tr>\n",
       "      <th>0</th>\n",
       "      <td>AMC-001</td>\n",
       "      <td>Stanford</td>\n",
       "      <td>34</td>\n",
       "      <td>Not Collected</td>\n",
       "      <td>Male</td>\n",
       "      <td>Not Recorded In Database</td>\n",
       "      <td>Nonsmoker</td>\n",
       "      <td>NaN</td>\n",
       "      <td>NaN</td>\n",
       "      <td>Not Assessed</td>\n",
       "      <td>...</td>\n",
       "      <td>yes</td>\n",
       "      <td>distant</td>\n",
       "      <td>10/7/1994</td>\n",
       "      <td>1/7/1997</td>\n",
       "      <td>Dead</td>\n",
       "      <td>1/7/1997</td>\n",
       "      <td>872.0</td>\n",
       "      <td>8/10/1994</td>\n",
       "      <td>9</td>\n",
       "      <td>Not Collected</td>\n",
       "    </tr>\n",
       "    <tr>\n",
       "      <th>1</th>\n",
       "      <td>AMC-002</td>\n",
       "      <td>Stanford</td>\n",
       "      <td>33</td>\n",
       "      <td>Not Collected</td>\n",
       "      <td>Female</td>\n",
       "      <td>Not Recorded In Database</td>\n",
       "      <td>Nonsmoker</td>\n",
       "      <td>NaN</td>\n",
       "      <td>NaN</td>\n",
       "      <td>Not Assessed</td>\n",
       "      <td>...</td>\n",
       "      <td>no</td>\n",
       "      <td>NaN</td>\n",
       "      <td>NaN</td>\n",
       "      <td>3/20/1992</td>\n",
       "      <td>Alive</td>\n",
       "      <td>NaN</td>\n",
       "      <td>NaN</td>\n",
       "      <td>2/19/1992</td>\n",
       "      <td>3</td>\n",
       "      <td>Not Collected</td>\n",
       "    </tr>\n",
       "  </tbody>\n",
       "</table>\n",
       "<p>2 rows × 40 columns</p>\n",
       "</div>"
      ],
      "text/plain": [
       "   Case ID Patient affiliation  Age at Histological Diagnosis   Weight (lbs)  \\\n",
       "0  AMC-001            Stanford                             34  Not Collected   \n",
       "1  AMC-002            Stanford                             33  Not Collected   \n",
       "\n",
       "   Gender                 Ethnicity Smoking status Pack Years  \\\n",
       "0    Male  Not Recorded In Database      Nonsmoker        NaN   \n",
       "1  Female  Not Recorded In Database      Nonsmoker        NaN   \n",
       "\n",
       "   Quit Smoking Year           %GG  ... Recurrence Recurrence Location  \\\n",
       "0                NaN  Not Assessed  ...        yes             distant   \n",
       "1                NaN  Not Assessed  ...         no                 NaN   \n",
       "\n",
       "  Date of Recurrence Date of Last Known Alive Survival Status Date of Death  \\\n",
       "0          10/7/1994                 1/7/1997            Dead      1/7/1997   \n",
       "1                NaN                3/20/1992           Alive           NaN   \n",
       "\n",
       "  Time to Death (days)    CT Date Days between CT and surgery       PET Date  \n",
       "0                872.0  8/10/1994                           9  Not Collected  \n",
       "1                  NaN  2/19/1992                           3  Not Collected  \n",
       "\n",
       "[2 rows x 40 columns]"
      ]
     },
     "execution_count": 92,
     "metadata": {},
     "output_type": "execute_result"
    }
   ],
   "source": [
    "clinical_data.head(2)"
   ]
  },
  {
   "cell_type": "markdown",
   "metadata": {},
   "source": [
    "## Data Pre-processing"
   ]
  },
  {
   "cell_type": "code",
   "execution_count": 93,
   "metadata": {},
   "outputs": [
    {
     "data": {
      "text/plain": [
       "Index(['Case ID', 'Patient affiliation', 'Age at Histological Diagnosis',\n",
       "       'Weight (lbs)', 'Gender', 'Ethnicity', 'Smoking status', 'Pack Years',\n",
       "       'Quit Smoking Year', '%GG', 'Tumor Location (choice=RUL)',\n",
       "       'Tumor Location (choice=RML)', 'Tumor Location (choice=RLL)',\n",
       "       'Tumor Location (choice=LUL)', 'Tumor Location (choice=LLL)',\n",
       "       'Tumor Location (choice=L Lingula)', 'Tumor Location (choice=Unknown)',\n",
       "       'Histology ', 'Pathological T stage', 'Pathological N stage',\n",
       "       'Pathological M stage', 'Histopathological Grade',\n",
       "       'Lymphovascular invasion',\n",
       "       'Pleural invasion (elastic, visceral, or parietal)',\n",
       "       'EGFR mutation status', 'KRAS mutation status',\n",
       "       'ALK translocation status', 'Adjuvant Treatment', 'Chemotherapy',\n",
       "       'Radiation', 'Recurrence', 'Recurrence Location', 'Date of Recurrence',\n",
       "       'Date of Last Known Alive', 'Survival Status', 'Date of Death',\n",
       "       'Time to Death (days)', 'CT Date', 'Days between CT and surgery',\n",
       "       'PET Date'],\n",
       "      dtype='object')"
      ]
     },
     "execution_count": 93,
     "metadata": {},
     "output_type": "execute_result"
    }
   ],
   "source": [
    "clinical_data.columns"
   ]
  },
  {
   "cell_type": "code",
   "execution_count": 94,
   "metadata": {},
   "outputs": [],
   "source": [
    "#remove caseid and patient affiliation\n",
    "clinical_data.drop(columns=['Case ID', 'Patient affiliation'], inplace=True)\n"
   ]
  },
  {
   "cell_type": "code",
   "execution_count": 95,
   "metadata": {},
   "outputs": [
    {
     "data": {
      "text/plain": [
       "'Not collected'"
      ]
     },
     "execution_count": 95,
     "metadata": {},
     "output_type": "execute_result"
    }
   ],
   "source": [
    "clinical_data.iloc[48]['Recurrence']"
   ]
  },
  {
   "cell_type": "code",
   "execution_count": 96,
   "metadata": {},
   "outputs": [],
   "source": [
    "clinical_data.drop(index=[48], inplace=True)"
   ]
  },
  {
   "cell_type": "code",
   "execution_count": 97,
   "metadata": {},
   "outputs": [
    {
     "data": {
      "text/plain": [
       "'no'"
      ]
     },
     "execution_count": 97,
     "metadata": {},
     "output_type": "execute_result"
    }
   ],
   "source": [
    "clinical_data.iloc[48]['Recurrence']"
   ]
  },
  {
   "cell_type": "code",
   "execution_count": null,
   "metadata": {},
   "outputs": [],
   "source": []
  },
  {
   "cell_type": "code",
   "execution_count": 98,
   "metadata": {},
   "outputs": [
    {
     "data": {
      "text/plain": [
       "Index(['Age at Histological Diagnosis', 'Weight (lbs)', 'Gender', 'Ethnicity',\n",
       "       'Smoking status', 'Pack Years', 'Quit Smoking Year', '%GG',\n",
       "       'Tumor Location (choice=RUL)', 'Tumor Location (choice=RML)',\n",
       "       'Tumor Location (choice=RLL)', 'Tumor Location (choice=LUL)',\n",
       "       'Tumor Location (choice=LLL)', 'Tumor Location (choice=L Lingula)',\n",
       "       'Tumor Location (choice=Unknown)', 'Histology ', 'Pathological T stage',\n",
       "       'Pathological N stage', 'Pathological M stage',\n",
       "       'Histopathological Grade', 'Lymphovascular invasion',\n",
       "       'Pleural invasion (elastic, visceral, or parietal)',\n",
       "       'EGFR mutation status', 'KRAS mutation status',\n",
       "       'ALK translocation status', 'Adjuvant Treatment', 'Chemotherapy',\n",
       "       'Radiation', 'Recurrence', 'Recurrence Location', 'Date of Recurrence',\n",
       "       'Date of Last Known Alive', 'Survival Status', 'Date of Death',\n",
       "       'Time to Death (days)', 'CT Date', 'Days between CT and surgery',\n",
       "       'PET Date'],\n",
       "      dtype='object')"
      ]
     },
     "execution_count": 98,
     "metadata": {},
     "output_type": "execute_result"
    }
   ],
   "source": [
    "clinical_data.columns"
   ]
  },
  {
   "cell_type": "code",
   "execution_count": 99,
   "metadata": {},
   "outputs": [
    {
     "data": {
      "text/plain": [
       "<bound method NDFrame.describe of 0      Not Collected\n",
       "1      Not Collected\n",
       "2      Not Collected\n",
       "3      Not Collected\n",
       "4      Not Collected\n",
       "           ...      \n",
       "206              184\n",
       "207            231.5\n",
       "208    Not Collected\n",
       "209              158\n",
       "210              229\n",
       "Name: Weight (lbs), Length: 210, dtype: object>"
      ]
     },
     "execution_count": 99,
     "metadata": {},
     "output_type": "execute_result"
    }
   ],
   "source": [
    "clinical_data['Weight (lbs)'].describe"
   ]
  },
  {
   "cell_type": "code",
   "execution_count": 100,
   "metadata": {},
   "outputs": [],
   "source": [
    "#repacing not collected with nan and calculating medeian to replace nan\n",
    "clinical_data['Weight (lbs)'].replace('Not Collected', 'NaN', inplace=True)\n",
    "clinical_data['Weight (lbs)'].replace('NaN', np.nan, inplace=True)"
   ]
  },
  {
   "cell_type": "code",
   "execution_count": 101,
   "metadata": {},
   "outputs": [],
   "source": [
    "#replace Not Collected with NaN\n",
    "clinical_data.replace('Not Collected', 'NaN', inplace=True)\n",
    "clinical_data.replace('Not collected', 'NaN', inplace=True)\n",
    "clinical_data.replace('Not Recorded In Database', 'NaN', inplace=True)\n",
    "clinical_data.replace('NaN', np.nan, inplace=True)"
   ]
  },
  {
   "cell_type": "code",
   "execution_count": 102,
   "metadata": {},
   "outputs": [
    {
     "data": {
      "text/plain": [
       "count         152\n",
       "unique        101\n",
       "top       200.655\n",
       "freq            7\n",
       "Name: Weight (lbs), dtype: object"
      ]
     },
     "execution_count": 102,
     "metadata": {},
     "output_type": "execute_result"
    }
   ],
   "source": [
    "clinical_data['Weight (lbs)'].describe()"
   ]
  },
  {
   "cell_type": "code",
   "execution_count": 103,
   "metadata": {},
   "outputs": [],
   "source": [
    "median_value = clinical_data['Weight (lbs)'].median()"
   ]
  },
  {
   "cell_type": "code",
   "execution_count": 104,
   "metadata": {},
   "outputs": [],
   "source": [
    "clinical_data['Weight (lbs)'].replace(np.nan, median_value, inplace=True)"
   ]
  },
  {
   "cell_type": "code",
   "execution_count": 105,
   "metadata": {},
   "outputs": [
    {
     "data": {
      "text/plain": [
       "count     210.0\n",
       "unique    102.0\n",
       "top       171.0\n",
       "freq       58.0\n",
       "Name: Weight (lbs), dtype: float64"
      ]
     },
     "execution_count": 105,
     "metadata": {},
     "output_type": "execute_result"
    }
   ],
   "source": [
    "clinical_data['Weight (lbs)'].describe()"
   ]
  },
  {
   "cell_type": "code",
   "execution_count": 106,
   "metadata": {},
   "outputs": [
    {
     "data": {
      "text/plain": [
       "Index(['Age at Histological Diagnosis', 'Weight (lbs)', 'Gender', 'Ethnicity',\n",
       "       'Smoking status', 'Pack Years', 'Quit Smoking Year', '%GG',\n",
       "       'Tumor Location (choice=RUL)', 'Tumor Location (choice=RML)',\n",
       "       'Tumor Location (choice=RLL)', 'Tumor Location (choice=LUL)',\n",
       "       'Tumor Location (choice=LLL)', 'Tumor Location (choice=L Lingula)',\n",
       "       'Tumor Location (choice=Unknown)', 'Histology ', 'Pathological T stage',\n",
       "       'Pathological N stage', 'Pathological M stage',\n",
       "       'Histopathological Grade', 'Lymphovascular invasion',\n",
       "       'Pleural invasion (elastic, visceral, or parietal)',\n",
       "       'EGFR mutation status', 'KRAS mutation status',\n",
       "       'ALK translocation status', 'Adjuvant Treatment', 'Chemotherapy',\n",
       "       'Radiation', 'Recurrence', 'Recurrence Location', 'Date of Recurrence',\n",
       "       'Date of Last Known Alive', 'Survival Status', 'Date of Death',\n",
       "       'Time to Death (days)', 'CT Date', 'Days between CT and surgery',\n",
       "       'PET Date'],\n",
       "      dtype='object')"
      ]
     },
     "execution_count": 106,
     "metadata": {},
     "output_type": "execute_result"
    }
   ],
   "source": [
    "clinical_data.columns"
   ]
  },
  {
   "cell_type": "code",
   "execution_count": 107,
   "metadata": {},
   "outputs": [],
   "source": [
    "gender = pd.Categorical(clinical_data['Gender'])\n",
    "#remove old gender column\n",
    "clinical_data.drop(columns=['Gender'])\n",
    "\n",
    "#create new gender column\n",
    "clinical_data['Gender'] = gender"
   ]
  },
  {
   "cell_type": "code",
   "execution_count": 108,
   "metadata": {},
   "outputs": [
    {
     "data": {
      "text/plain": [
       "0        Male\n",
       "1      Female\n",
       "2      Female\n",
       "3      Female\n",
       "4        Male\n",
       "        ...  \n",
       "206      Male\n",
       "207      Male\n",
       "208    Female\n",
       "209      Male\n",
       "210      Male\n",
       "Name: Gender, Length: 210, dtype: category\n",
       "Categories (2, object): ['Female', 'Male']"
      ]
     },
     "execution_count": 108,
     "metadata": {},
     "output_type": "execute_result"
    }
   ],
   "source": [
    "clinical_data.Gender"
   ]
  },
  {
   "cell_type": "code",
   "execution_count": 109,
   "metadata": {},
   "outputs": [
    {
     "data": {
      "text/plain": [
       "Index(['Age at Histological Diagnosis', 'Weight (lbs)', 'Gender', 'Ethnicity',\n",
       "       'Smoking status', 'Pack Years', 'Quit Smoking Year', '%GG',\n",
       "       'Tumor Location (choice=RUL)', 'Tumor Location (choice=RML)',\n",
       "       'Tumor Location (choice=RLL)', 'Tumor Location (choice=LUL)',\n",
       "       'Tumor Location (choice=LLL)', 'Tumor Location (choice=L Lingula)',\n",
       "       'Tumor Location (choice=Unknown)', 'Histology ', 'Pathological T stage',\n",
       "       'Pathological N stage', 'Pathological M stage',\n",
       "       'Histopathological Grade', 'Lymphovascular invasion',\n",
       "       'Pleural invasion (elastic, visceral, or parietal)',\n",
       "       'EGFR mutation status', 'KRAS mutation status',\n",
       "       'ALK translocation status', 'Adjuvant Treatment', 'Chemotherapy',\n",
       "       'Radiation', 'Recurrence', 'Recurrence Location', 'Date of Recurrence',\n",
       "       'Date of Last Known Alive', 'Survival Status', 'Date of Death',\n",
       "       'Time to Death (days)', 'CT Date', 'Days between CT and surgery',\n",
       "       'PET Date'],\n",
       "      dtype='object')"
      ]
     },
     "execution_count": 109,
     "metadata": {},
     "output_type": "execute_result"
    }
   ],
   "source": [
    "clinical_data.columns"
   ]
  },
  {
   "cell_type": "code",
   "execution_count": 110,
   "metadata": {},
   "outputs": [],
   "source": [
    "smoking_status = pd.Categorical(clinical_data['Smoking status'])\n",
    "#remove old smoking_status column\n",
    "clinical_data.drop(columns=['Smoking status'])\n",
    "\n",
    "#create new smoking_status column\n",
    "clinical_data['Smoking status'] = smoking_status"
   ]
  },
  {
   "cell_type": "code",
   "execution_count": 111,
   "metadata": {},
   "outputs": [],
   "source": [
    "gg = pd.Categorical(clinical_data['%GG'])\n",
    "#remove old gg column\n",
    "clinical_data.drop(columns=['%GG'])\n",
    "\n",
    "#create new gg column\n",
    "clinical_data['%GG'] = gg"
   ]
  },
  {
   "cell_type": "code",
   "execution_count": 112,
   "metadata": {},
   "outputs": [],
   "source": [
    "from numpy import NaN\n",
    "\n",
    "\n",
    "clinical_data['Tumor Location'] = NaN"
   ]
  },
  {
   "cell_type": "code",
   "execution_count": null,
   "metadata": {},
   "outputs": [],
   "source": []
  },
  {
   "cell_type": "code",
   "execution_count": null,
   "metadata": {},
   "outputs": [],
   "source": []
  },
  {
   "cell_type": "markdown",
   "metadata": {},
   "source": [
    "## Functions"
   ]
  },
  {
   "cell_type": "code",
   "execution_count": 113,
   "metadata": {},
   "outputs": [],
   "source": [
    "def To_Categorical(column_name):\n",
    "    column = pd.Categorical(clinical_data[column_name])\n",
    "    #remove old smoking_status column\n",
    "    clinical_data.drop(columns=[column_name])\n",
    "\n",
    "    #create new smoking_status column\n",
    "    clinical_data[column_name] = column"
   ]
  },
  {
   "cell_type": "code",
   "execution_count": 114,
   "metadata": {},
   "outputs": [],
   "source": [
    "# To_Categorical('Tumor Location (choice=RUL)')\n",
    "# To_Categorical('Tumor Location (choice=RML)')\n",
    "# To_Categorical('Tumor Location (choice=RLL)')\n",
    "# To_Categorical('Tumor Location (choice=LUL)')\n",
    "# To_Categorical('Tumor Location (choice=LLL)')\n",
    "# To_Categorical('Tumor Location (choice=Unknown)')\n",
    "# To_Categorical('Tumor Location (choice=L Lingula)')"
   ]
  },
  {
   "cell_type": "code",
   "execution_count": 115,
   "metadata": {},
   "outputs": [],
   "source": [
    "clinical_data.replace({'Tumor Location (choice=L Lingula)': {'Checked':1, 'Unchecked':0}}, inplace=True)\n",
    "clinical_data.replace({'Tumor Location (choice=RUL)': {'Checked':1, 'Unchecked':0}}, inplace=True)\n",
    "clinical_data.replace({'Tumor Location (choice=RML)': {'Checked':1, 'Unchecked':0}}, inplace=True)\n",
    "clinical_data.replace({'Tumor Location (choice=RLL)': {'Checked':1, 'Unchecked':0}}, inplace=True)\n",
    "clinical_data.replace({'Tumor Location (choice=LUL)': {'Checked':1, 'Unchecked':0}}, inplace=True)\n",
    "clinical_data.replace({'Tumor Location (choice=LLL)': {'Checked':1, 'Unchecked':0}}, inplace=True)\n",
    "clinical_data.replace({'Tumor Location (choice=Unknown)': {'Checked':1, 'Unchecked':0}}, inplace=True)"
   ]
  },
  {
   "cell_type": "code",
   "execution_count": 116,
   "metadata": {},
   "outputs": [],
   "source": [
    "clinical_data.drop(columns=['Tumor Location'], inplace=True)"
   ]
  },
  {
   "cell_type": "code",
   "execution_count": 117,
   "metadata": {},
   "outputs": [],
   "source": [
    "clinical_data['Histology'] = clinical_data['Histology ']\n",
    "clinical_data.drop(columns=['Histology '], inplace=True)"
   ]
  },
  {
   "cell_type": "code",
   "execution_count": 118,
   "metadata": {},
   "outputs": [],
   "source": [
    "To_Categorical('Histology')"
   ]
  },
  {
   "cell_type": "code",
   "execution_count": 119,
   "metadata": {},
   "outputs": [],
   "source": [
    "To_Categorical('Pathological T stage')\n",
    "To_Categorical('Pathological M stage')\n",
    "To_Categorical('Pathological N stage')"
   ]
  },
  {
   "cell_type": "code",
   "execution_count": 120,
   "metadata": {},
   "outputs": [],
   "source": [
    "To_Categorical('Histopathological Grade')"
   ]
  },
  {
   "cell_type": "code",
   "execution_count": 121,
   "metadata": {},
   "outputs": [],
   "source": [
    "To_Categorical('Lymphovascular invasion')"
   ]
  },
  {
   "cell_type": "code",
   "execution_count": 122,
   "metadata": {},
   "outputs": [],
   "source": [
    "# clinical_data['Pleural invasion (elastic, visceral, or parietal)'].value_counts()\n",
    "To_Categorical('Pleural invasion (elastic, visceral, or parietal)')"
   ]
  },
  {
   "cell_type": "code",
   "execution_count": 123,
   "metadata": {},
   "outputs": [],
   "source": [
    "# clinical_data['EGFR mutation status'].value_counts()\n",
    "To_Categorical('EGFR mutation status')"
   ]
  },
  {
   "cell_type": "code",
   "execution_count": 124,
   "metadata": {},
   "outputs": [],
   "source": [
    "# clinical_data['KRAS mutation status'].value_counts()\n",
    "To_Categorical('KRAS mutation status')"
   ]
  },
  {
   "cell_type": "code",
   "execution_count": 125,
   "metadata": {},
   "outputs": [],
   "source": [
    "clinical_data['Adjuvant Treatment'].value_counts()\n",
    "# To_Categorical('Adjuvant Treatment')\n",
    "clinical_data.replace({'Adjuvant Treatment': {'Yes':1, 'No':0}}, inplace=True)"
   ]
  },
  {
   "cell_type": "code",
   "execution_count": 126,
   "metadata": {},
   "outputs": [],
   "source": [
    "clinical_data['Chemotherapy'].value_counts()\n",
    "clinical_data.replace({'Chemotherapy': {'Yes':1, 'No':0}}, inplace=True)"
   ]
  },
  {
   "cell_type": "code",
   "execution_count": 127,
   "metadata": {},
   "outputs": [],
   "source": [
    "clinical_data['Radiation'].value_counts()\n",
    "clinical_data.replace({'Radiation': {'Yes':1, 'No':0}}, inplace=True)"
   ]
  },
  {
   "cell_type": "code",
   "execution_count": 128,
   "metadata": {},
   "outputs": [],
   "source": [
    "clinical_data['Recurrence'].value_counts()\n",
    "clinical_data.replace({'Recurrence': {'yes':1, 'no':0}}, inplace=True)\n",
    "# To_Categorical('Recurrence')"
   ]
  },
  {
   "cell_type": "code",
   "execution_count": 129,
   "metadata": {},
   "outputs": [],
   "source": [
    "\n",
    "# clinical_data['Recurrence Location'].value_counts()\n",
    "To_Categorical('Recurrence Location')"
   ]
  },
  {
   "cell_type": "code",
   "execution_count": 130,
   "metadata": {},
   "outputs": [],
   "source": [
    "# remove columns 'Date of Recurrence','Date of Last Known Alive', 'Survival Status', 'Date of Death',\n",
    "\n",
    "clinical_data.drop(columns=['Date of Recurrence','Date of Last Known Alive', 'Survival Status', 'Date of Death', 'Time to Death (days)', 'Recurrence Location'], inplace=True)\n",
    "clinical_data.drop(columns=['PET Date', 'CT Date'], inplace=True)\n",
    "clinical_data.drop(columns=['Quit Smoking Year'], inplace=True)"
   ]
  },
  {
   "cell_type": "code",
   "execution_count": 132,
   "metadata": {},
   "outputs": [
    {
     "data": {
      "text/plain": [
       "Adenocarcinoma                         171\n",
       "Squamous cell carcinoma                 35\n",
       "NSCLC NOS (not otherwise specified)      4\n",
       "Name: Histology, dtype: int64"
      ]
     },
     "execution_count": 132,
     "metadata": {},
     "output_type": "execute_result"
    }
   ],
   "source": [
    "\n",
    "clinical_data['Histology'].value_counts()\n",
    "# To_Categorical('Histology')"
   ]
  },
  {
   "cell_type": "code",
   "execution_count": 133,
   "metadata": {},
   "outputs": [
    {
     "data": {
      "text/plain": [
       "Index(['Age at Histological Diagnosis', 'Weight (lbs)', 'Gender', 'Ethnicity',\n",
       "       'Smoking status', 'Pack Years', '%GG', 'Tumor Location (choice=RUL)',\n",
       "       'Tumor Location (choice=RML)', 'Tumor Location (choice=RLL)',\n",
       "       'Tumor Location (choice=LUL)', 'Tumor Location (choice=LLL)',\n",
       "       'Tumor Location (choice=L Lingula)', 'Tumor Location (choice=Unknown)',\n",
       "       'Pathological T stage', 'Pathological N stage', 'Pathological M stage',\n",
       "       'Histopathological Grade', 'Lymphovascular invasion',\n",
       "       'Pleural invasion (elastic, visceral, or parietal)',\n",
       "       'EGFR mutation status', 'KRAS mutation status',\n",
       "       'ALK translocation status', 'Adjuvant Treatment', 'Chemotherapy',\n",
       "       'Radiation', 'Recurrence', 'Days between CT and surgery', 'Histology'],\n",
       "      dtype='object')"
      ]
     },
     "execution_count": 133,
     "metadata": {},
     "output_type": "execute_result"
    }
   ],
   "source": [
    "clinical_data.columns"
   ]
  },
  {
   "cell_type": "code",
   "execution_count": 134,
   "metadata": {},
   "outputs": [],
   "source": [
    "# # ethnicity 49 not recorded\n",
    "# clinical_data.Ethnicity.vaalue_counts()['Not Recorded In Database']\n",
    "\n",
    "# #pack years - total 163\n",
    "# clinical_data['Pack Years'].count()\n",
    "\n",
    "# #Quit Smoking years - total 108\n",
    "# clinical_data['Quit Smoking Year'].count()\n",
    "\n"
   ]
  },
  {
   "cell_type": "code",
   "execution_count": null,
   "metadata": {},
   "outputs": [],
   "source": []
  },
  {
   "cell_type": "code",
   "execution_count": null,
   "metadata": {},
   "outputs": [],
   "source": []
  },
  {
   "cell_type": "code",
   "execution_count": 135,
   "metadata": {},
   "outputs": [
    {
     "data": {
      "text/html": [
       "<div>\n",
       "<style scoped>\n",
       "    .dataframe tbody tr th:only-of-type {\n",
       "        vertical-align: middle;\n",
       "    }\n",
       "\n",
       "    .dataframe tbody tr th {\n",
       "        vertical-align: top;\n",
       "    }\n",
       "\n",
       "    .dataframe thead th {\n",
       "        text-align: right;\n",
       "    }\n",
       "</style>\n",
       "<table border=\"1\" class=\"dataframe\">\n",
       "  <thead>\n",
       "    <tr style=\"text-align: right;\">\n",
       "      <th></th>\n",
       "      <th>Age at Histological Diagnosis</th>\n",
       "      <th>Weight (lbs)</th>\n",
       "      <th>Gender</th>\n",
       "      <th>Ethnicity</th>\n",
       "      <th>Smoking status</th>\n",
       "      <th>Pack Years</th>\n",
       "      <th>%GG</th>\n",
       "      <th>Tumor Location (choice=RUL)</th>\n",
       "      <th>Tumor Location (choice=RML)</th>\n",
       "      <th>Tumor Location (choice=RLL)</th>\n",
       "      <th>...</th>\n",
       "      <th>Pleural invasion (elastic, visceral, or parietal)</th>\n",
       "      <th>EGFR mutation status</th>\n",
       "      <th>KRAS mutation status</th>\n",
       "      <th>ALK translocation status</th>\n",
       "      <th>Adjuvant Treatment</th>\n",
       "      <th>Chemotherapy</th>\n",
       "      <th>Radiation</th>\n",
       "      <th>Recurrence</th>\n",
       "      <th>Days between CT and surgery</th>\n",
       "      <th>Histology</th>\n",
       "    </tr>\n",
       "  </thead>\n",
       "  <tbody>\n",
       "    <tr>\n",
       "      <th>0</th>\n",
       "      <td>34</td>\n",
       "      <td>171.0</td>\n",
       "      <td>Male</td>\n",
       "      <td>NaN</td>\n",
       "      <td>Nonsmoker</td>\n",
       "      <td>NaN</td>\n",
       "      <td>Not Assessed</td>\n",
       "      <td>0</td>\n",
       "      <td>0</td>\n",
       "      <td>1</td>\n",
       "      <td>...</td>\n",
       "      <td>NaN</td>\n",
       "      <td>Wildtype</td>\n",
       "      <td>Mutant</td>\n",
       "      <td>Wildtype</td>\n",
       "      <td>0</td>\n",
       "      <td>0</td>\n",
       "      <td>0</td>\n",
       "      <td>1</td>\n",
       "      <td>9</td>\n",
       "      <td>Adenocarcinoma</td>\n",
       "    </tr>\n",
       "    <tr>\n",
       "      <th>1</th>\n",
       "      <td>33</td>\n",
       "      <td>171.0</td>\n",
       "      <td>Female</td>\n",
       "      <td>NaN</td>\n",
       "      <td>Nonsmoker</td>\n",
       "      <td>NaN</td>\n",
       "      <td>Not Assessed</td>\n",
       "      <td>0</td>\n",
       "      <td>0</td>\n",
       "      <td>0</td>\n",
       "      <td>...</td>\n",
       "      <td>NaN</td>\n",
       "      <td>Wildtype</td>\n",
       "      <td>Wildtype</td>\n",
       "      <td>NaN</td>\n",
       "      <td>0</td>\n",
       "      <td>0</td>\n",
       "      <td>0</td>\n",
       "      <td>0</td>\n",
       "      <td>3</td>\n",
       "      <td>Adenocarcinoma</td>\n",
       "    </tr>\n",
       "    <tr>\n",
       "      <th>2</th>\n",
       "      <td>69</td>\n",
       "      <td>171.0</td>\n",
       "      <td>Female</td>\n",
       "      <td>NaN</td>\n",
       "      <td>Nonsmoker</td>\n",
       "      <td>NaN</td>\n",
       "      <td>Not Assessed</td>\n",
       "      <td>0</td>\n",
       "      <td>0</td>\n",
       "      <td>1</td>\n",
       "      <td>...</td>\n",
       "      <td>NaN</td>\n",
       "      <td>Mutant</td>\n",
       "      <td>Wildtype</td>\n",
       "      <td>Wildtype</td>\n",
       "      <td>0</td>\n",
       "      <td>0</td>\n",
       "      <td>0</td>\n",
       "      <td>0</td>\n",
       "      <td>28</td>\n",
       "      <td>Adenocarcinoma</td>\n",
       "    </tr>\n",
       "    <tr>\n",
       "      <th>3</th>\n",
       "      <td>80</td>\n",
       "      <td>171.0</td>\n",
       "      <td>Female</td>\n",
       "      <td>NaN</td>\n",
       "      <td>Nonsmoker</td>\n",
       "      <td>NaN</td>\n",
       "      <td>Not Assessed</td>\n",
       "      <td>0</td>\n",
       "      <td>0</td>\n",
       "      <td>0</td>\n",
       "      <td>...</td>\n",
       "      <td>NaN</td>\n",
       "      <td>Wildtype</td>\n",
       "      <td>Wildtype</td>\n",
       "      <td>Wildtype</td>\n",
       "      <td>0</td>\n",
       "      <td>0</td>\n",
       "      <td>0</td>\n",
       "      <td>0</td>\n",
       "      <td>47</td>\n",
       "      <td>Adenocarcinoma</td>\n",
       "    </tr>\n",
       "    <tr>\n",
       "      <th>4</th>\n",
       "      <td>76</td>\n",
       "      <td>171.0</td>\n",
       "      <td>Male</td>\n",
       "      <td>NaN</td>\n",
       "      <td>Former</td>\n",
       "      <td>30</td>\n",
       "      <td>Not Assessed</td>\n",
       "      <td>0</td>\n",
       "      <td>0</td>\n",
       "      <td>0</td>\n",
       "      <td>...</td>\n",
       "      <td>NaN</td>\n",
       "      <td>Mutant</td>\n",
       "      <td>Wildtype</td>\n",
       "      <td>Wildtype</td>\n",
       "      <td>0</td>\n",
       "      <td>0</td>\n",
       "      <td>0</td>\n",
       "      <td>1</td>\n",
       "      <td>2</td>\n",
       "      <td>Adenocarcinoma</td>\n",
       "    </tr>\n",
       "    <tr>\n",
       "      <th>...</th>\n",
       "      <td>...</td>\n",
       "      <td>...</td>\n",
       "      <td>...</td>\n",
       "      <td>...</td>\n",
       "      <td>...</td>\n",
       "      <td>...</td>\n",
       "      <td>...</td>\n",
       "      <td>...</td>\n",
       "      <td>...</td>\n",
       "      <td>...</td>\n",
       "      <td>...</td>\n",
       "      <td>...</td>\n",
       "      <td>...</td>\n",
       "      <td>...</td>\n",
       "      <td>...</td>\n",
       "      <td>...</td>\n",
       "      <td>...</td>\n",
       "      <td>...</td>\n",
       "      <td>...</td>\n",
       "      <td>...</td>\n",
       "      <td>...</td>\n",
       "    </tr>\n",
       "    <tr>\n",
       "      <th>206</th>\n",
       "      <td>75</td>\n",
       "      <td>184</td>\n",
       "      <td>Male</td>\n",
       "      <td>Caucasian</td>\n",
       "      <td>Former</td>\n",
       "      <td>55</td>\n",
       "      <td>Not Assessed</td>\n",
       "      <td>0</td>\n",
       "      <td>0</td>\n",
       "      <td>0</td>\n",
       "      <td>...</td>\n",
       "      <td>No</td>\n",
       "      <td>Unknown</td>\n",
       "      <td>Unknown</td>\n",
       "      <td>Unknown</td>\n",
       "      <td>0</td>\n",
       "      <td>0</td>\n",
       "      <td>0</td>\n",
       "      <td>0</td>\n",
       "      <td>14</td>\n",
       "      <td>Squamous cell carcinoma</td>\n",
       "    </tr>\n",
       "    <tr>\n",
       "      <th>207</th>\n",
       "      <td>61</td>\n",
       "      <td>231.5</td>\n",
       "      <td>Male</td>\n",
       "      <td>Caucasian</td>\n",
       "      <td>Former</td>\n",
       "      <td>12</td>\n",
       "      <td>Not Assessed</td>\n",
       "      <td>1</td>\n",
       "      <td>0</td>\n",
       "      <td>0</td>\n",
       "      <td>...</td>\n",
       "      <td>No</td>\n",
       "      <td>Unknown</td>\n",
       "      <td>Mutant</td>\n",
       "      <td>Unknown</td>\n",
       "      <td>1</td>\n",
       "      <td>1</td>\n",
       "      <td>0</td>\n",
       "      <td>0</td>\n",
       "      <td>72</td>\n",
       "      <td>Adenocarcinoma</td>\n",
       "    </tr>\n",
       "    <tr>\n",
       "      <th>208</th>\n",
       "      <td>52</td>\n",
       "      <td>171.0</td>\n",
       "      <td>Female</td>\n",
       "      <td>Caucasian</td>\n",
       "      <td>Former</td>\n",
       "      <td>7</td>\n",
       "      <td>Not Assessed</td>\n",
       "      <td>0</td>\n",
       "      <td>0</td>\n",
       "      <td>0</td>\n",
       "      <td>...</td>\n",
       "      <td>No</td>\n",
       "      <td>Wildtype</td>\n",
       "      <td>Wildtype</td>\n",
       "      <td>Wildtype</td>\n",
       "      <td>0</td>\n",
       "      <td>0</td>\n",
       "      <td>0</td>\n",
       "      <td>0</td>\n",
       "      <td>8</td>\n",
       "      <td>Adenocarcinoma</td>\n",
       "    </tr>\n",
       "    <tr>\n",
       "      <th>209</th>\n",
       "      <td>67</td>\n",
       "      <td>158</td>\n",
       "      <td>Male</td>\n",
       "      <td>Asian</td>\n",
       "      <td>Former</td>\n",
       "      <td>15</td>\n",
       "      <td>Not Assessed</td>\n",
       "      <td>0</td>\n",
       "      <td>0</td>\n",
       "      <td>0</td>\n",
       "      <td>...</td>\n",
       "      <td>No</td>\n",
       "      <td>Mutant</td>\n",
       "      <td>Wildtype</td>\n",
       "      <td>Wildtype</td>\n",
       "      <td>0</td>\n",
       "      <td>0</td>\n",
       "      <td>0</td>\n",
       "      <td>0</td>\n",
       "      <td>65</td>\n",
       "      <td>Adenocarcinoma</td>\n",
       "    </tr>\n",
       "    <tr>\n",
       "      <th>210</th>\n",
       "      <td>68</td>\n",
       "      <td>229</td>\n",
       "      <td>Male</td>\n",
       "      <td>Caucasian</td>\n",
       "      <td>Current</td>\n",
       "      <td>30</td>\n",
       "      <td>Not Assessed</td>\n",
       "      <td>0</td>\n",
       "      <td>0</td>\n",
       "      <td>0</td>\n",
       "      <td>...</td>\n",
       "      <td>NaN</td>\n",
       "      <td>NaN</td>\n",
       "      <td>NaN</td>\n",
       "      <td>NaN</td>\n",
       "      <td>1</td>\n",
       "      <td>1</td>\n",
       "      <td>0</td>\n",
       "      <td>1</td>\n",
       "      <td>51</td>\n",
       "      <td>NSCLC NOS (not otherwise specified)</td>\n",
       "    </tr>\n",
       "  </tbody>\n",
       "</table>\n",
       "<p>210 rows × 29 columns</p>\n",
       "</div>"
      ],
      "text/plain": [
       "     Age at Histological Diagnosis Weight (lbs)  Gender  Ethnicity  \\\n",
       "0                               34        171.0    Male        NaN   \n",
       "1                               33        171.0  Female        NaN   \n",
       "2                               69        171.0  Female        NaN   \n",
       "3                               80        171.0  Female        NaN   \n",
       "4                               76        171.0    Male        NaN   \n",
       "..                             ...          ...     ...        ...   \n",
       "206                             75          184    Male  Caucasian   \n",
       "207                             61        231.5    Male  Caucasian   \n",
       "208                             52        171.0  Female  Caucasian   \n",
       "209                             67          158    Male      Asian   \n",
       "210                             68          229    Male  Caucasian   \n",
       "\n",
       "    Smoking status Pack Years           %GG  Tumor Location (choice=RUL)  \\\n",
       "0        Nonsmoker        NaN  Not Assessed                            0   \n",
       "1        Nonsmoker        NaN  Not Assessed                            0   \n",
       "2        Nonsmoker        NaN  Not Assessed                            0   \n",
       "3        Nonsmoker        NaN  Not Assessed                            0   \n",
       "4           Former         30  Not Assessed                            0   \n",
       "..             ...        ...           ...                          ...   \n",
       "206         Former         55  Not Assessed                            0   \n",
       "207         Former         12  Not Assessed                            1   \n",
       "208         Former          7  Not Assessed                            0   \n",
       "209         Former         15  Not Assessed                            0   \n",
       "210        Current         30  Not Assessed                            0   \n",
       "\n",
       "     Tumor Location (choice=RML)  Tumor Location (choice=RLL)  ...  \\\n",
       "0                              0                            1  ...   \n",
       "1                              0                            0  ...   \n",
       "2                              0                            1  ...   \n",
       "3                              0                            0  ...   \n",
       "4                              0                            0  ...   \n",
       "..                           ...                          ...  ...   \n",
       "206                            0                            0  ...   \n",
       "207                            0                            0  ...   \n",
       "208                            0                            0  ...   \n",
       "209                            0                            0  ...   \n",
       "210                            0                            0  ...   \n",
       "\n",
       "     Pleural invasion (elastic, visceral, or parietal)  EGFR mutation status  \\\n",
       "0                                                  NaN              Wildtype   \n",
       "1                                                  NaN              Wildtype   \n",
       "2                                                  NaN                Mutant   \n",
       "3                                                  NaN              Wildtype   \n",
       "4                                                  NaN                Mutant   \n",
       "..                                                 ...                   ...   \n",
       "206                                                 No               Unknown   \n",
       "207                                                 No               Unknown   \n",
       "208                                                 No              Wildtype   \n",
       "209                                                 No                Mutant   \n",
       "210                                                NaN                   NaN   \n",
       "\n",
       "     KRAS mutation status  ALK translocation status Adjuvant Treatment  \\\n",
       "0                  Mutant                  Wildtype                  0   \n",
       "1                Wildtype                       NaN                  0   \n",
       "2                Wildtype                  Wildtype                  0   \n",
       "3                Wildtype                  Wildtype                  0   \n",
       "4                Wildtype                  Wildtype                  0   \n",
       "..                    ...                       ...                ...   \n",
       "206               Unknown                   Unknown                  0   \n",
       "207                Mutant                   Unknown                  1   \n",
       "208              Wildtype                  Wildtype                  0   \n",
       "209              Wildtype                  Wildtype                  0   \n",
       "210                   NaN                       NaN                  1   \n",
       "\n",
       "    Chemotherapy Radiation Recurrence Days between CT and surgery  \\\n",
       "0              0         0          1                           9   \n",
       "1              0         0          0                           3   \n",
       "2              0         0          0                          28   \n",
       "3              0         0          0                          47   \n",
       "4              0         0          1                           2   \n",
       "..           ...       ...        ...                         ...   \n",
       "206            0         0          0                          14   \n",
       "207            1         0          0                          72   \n",
       "208            0         0          0                           8   \n",
       "209            0         0          0                          65   \n",
       "210            1         0          1                          51   \n",
       "\n",
       "                               Histology  \n",
       "0                         Adenocarcinoma  \n",
       "1                         Adenocarcinoma  \n",
       "2                         Adenocarcinoma  \n",
       "3                         Adenocarcinoma  \n",
       "4                         Adenocarcinoma  \n",
       "..                                   ...  \n",
       "206              Squamous cell carcinoma  \n",
       "207                       Adenocarcinoma  \n",
       "208                       Adenocarcinoma  \n",
       "209                       Adenocarcinoma  \n",
       "210  NSCLC NOS (not otherwise specified)  \n",
       "\n",
       "[210 rows x 29 columns]"
      ]
     },
     "execution_count": 135,
     "metadata": {},
     "output_type": "execute_result"
    }
   ],
   "source": [
    "clinical_data"
   ]
  },
  {
   "cell_type": "code",
   "execution_count": 136,
   "metadata": {},
   "outputs": [],
   "source": [
    "# clinical_data['Weight (lbs)']"
   ]
  },
  {
   "cell_type": "code",
   "execution_count": 137,
   "metadata": {},
   "outputs": [],
   "source": [
    "#weight to numerical value\n",
    "clinical_data['Weight (lbs)'] = pd.to_numeric(clinical_data['Weight (lbs)'])\n",
    "# clinical_data.astype({'Weight (lbs)':'Int32'})"
   ]
  },
  {
   "cell_type": "code",
   "execution_count": 138,
   "metadata": {},
   "outputs": [],
   "source": [
    "# clinical_data['Quit Smoking'] = clinical_data['Quit Smoking Year'].isnull()\n",
    "# clinical_data['Quit Smoking Year'] = clinical_data.drop('Quit Smoking Year', axis=1)"
   ]
  },
  {
   "cell_type": "code",
   "execution_count": 139,
   "metadata": {},
   "outputs": [
    {
     "data": {
      "text/plain": [
       "0      171.0\n",
       "1      171.0\n",
       "2      171.0\n",
       "3      171.0\n",
       "4      171.0\n",
       "       ...  \n",
       "206    184.0\n",
       "207    231.5\n",
       "208    171.0\n",
       "209    158.0\n",
       "210    229.0\n",
       "Name: Weight (lbs), Length: 210, dtype: float64"
      ]
     },
     "execution_count": 139,
     "metadata": {},
     "output_type": "execute_result"
    }
   ],
   "source": [
    "clinical_data['Weight (lbs)']"
   ]
  },
  {
   "cell_type": "code",
   "execution_count": 140,
   "metadata": {},
   "outputs": [
    {
     "data": {
      "text/plain": [
       "0    156\n",
       "1     54\n",
       "Name: Recurrence, dtype: int64"
      ]
     },
     "execution_count": 140,
     "metadata": {},
     "output_type": "execute_result"
    }
   ],
   "source": [
    "clinical_data['Recurrence'].value_counts()"
   ]
  },
  {
   "cell_type": "code",
   "execution_count": 141,
   "metadata": {},
   "outputs": [
    {
     "data": {
      "text/plain": [
       "210"
      ]
     },
     "execution_count": 141,
     "metadata": {},
     "output_type": "execute_result"
    }
   ],
   "source": [
    "156+54"
   ]
  },
  {
   "cell_type": "markdown",
   "metadata": {},
   "source": [
    "Train Test Split"
   ]
  },
  {
   "cell_type": "code",
   "execution_count": 142,
   "metadata": {},
   "outputs": [
    {
     "name": "stdout",
     "output_type": "stream",
     "text": [
      "0.7428571428571429\n",
      "0.2571428571428571\n"
     ]
    }
   ],
   "source": [
    "print(156/210)\n",
    "print(54/210)"
   ]
  },
  {
   "cell_type": "code",
   "execution_count": 143,
   "metadata": {},
   "outputs": [
    {
     "data": {
      "text/plain": [
       "168.0"
      ]
     },
     "execution_count": 143,
     "metadata": {},
     "output_type": "execute_result"
    }
   ],
   "source": [
    "0.8*210"
   ]
  },
  {
   "cell_type": "code",
   "execution_count": 144,
   "metadata": {},
   "outputs": [
    {
     "data": {
      "text/plain": [
       "42.0"
      ]
     },
     "execution_count": 144,
     "metadata": {},
     "output_type": "execute_result"
    }
   ],
   "source": [
    "0.25 * 168"
   ]
  },
  {
   "cell_type": "code",
   "execution_count": 145,
   "metadata": {},
   "outputs": [
    {
     "data": {
      "text/plain": [
       "0    156\n",
       "1     54\n",
       "Name: Recurrence, dtype: int64"
      ]
     },
     "execution_count": 145,
     "metadata": {},
     "output_type": "execute_result"
    }
   ],
   "source": [
    "clinical_data['Recurrence'].value_counts()"
   ]
  },
  {
   "cell_type": "code",
   "execution_count": 146,
   "metadata": {},
   "outputs": [],
   "source": [
    "# 42 no data from recurrence\n",
    "# 168-42 = 126 yes data from recurrence"
   ]
  },
  {
   "cell_type": "code",
   "execution_count": 147,
   "metadata": {},
   "outputs": [
    {
     "data": {
      "text/plain": [
       "0      1\n",
       "4      1\n",
       "10     1\n",
       "11     1\n",
       "33     1\n",
       "37     1\n",
       "38     1\n",
       "43     1\n",
       "52     1\n",
       "53     1\n",
       "55     1\n",
       "58     1\n",
       "60     1\n",
       "64     1\n",
       "66     1\n",
       "68     1\n",
       "70     1\n",
       "72     1\n",
       "74     1\n",
       "77     1\n",
       "78     1\n",
       "79     1\n",
       "81     1\n",
       "83     1\n",
       "84     1\n",
       "98     1\n",
       "99     1\n",
       "102    1\n",
       "113    1\n",
       "116    1\n",
       "120    1\n",
       "123    1\n",
       "125    1\n",
       "136    1\n",
       "139    1\n",
       "141    1\n",
       "146    1\n",
       "147    1\n",
       "151    1\n",
       "157    1\n",
       "159    1\n",
       "161    1\n",
       "167    1\n",
       "170    1\n",
       "173    1\n",
       "176    1\n",
       "189    1\n",
       "194    1\n",
       "195    1\n",
       "196    1\n",
       "197    1\n",
       "199    1\n",
       "201    1\n",
       "210    1\n",
       "Name: Recurrence, dtype: int64"
      ]
     },
     "execution_count": 147,
     "metadata": {},
     "output_type": "execute_result"
    }
   ],
   "source": [
    "# get only reccurrence yes values\n",
    "clinical_data['Recurrence'][clinical_data['Recurrence'] == 1]"
   ]
  },
  {
   "cell_type": "code",
   "execution_count": 148,
   "metadata": {},
   "outputs": [
    {
     "data": {
      "text/plain": [
       "1      0\n",
       "2      0\n",
       "3      0\n",
       "5      0\n",
       "6      0\n",
       "      ..\n",
       "205    0\n",
       "206    0\n",
       "207    0\n",
       "208    0\n",
       "209    0\n",
       "Name: Recurrence, Length: 156, dtype: int64"
      ]
     },
     "execution_count": 148,
     "metadata": {},
     "output_type": "execute_result"
    }
   ],
   "source": [
    "# get only reccurrence yes values\n",
    "clinical_data['Recurrence'][clinical_data['Recurrence'] == 0]"
   ]
  },
  {
   "cell_type": "code",
   "execution_count": 149,
   "metadata": {},
   "outputs": [],
   "source": [
    "X = clinical_data.copy()\n",
    "X.drop(columns=['Recurrence'], inplace=True)\n",
    "Y = clinical_data['Recurrence']"
   ]
  },
  {
   "cell_type": "markdown",
   "metadata": {},
   "source": [
    "## Need to create a mechanism to train test by myself"
   ]
  },
  {
   "cell_type": "code",
   "execution_count": null,
   "metadata": {},
   "outputs": [],
   "source": []
  },
  {
   "cell_type": "code",
   "execution_count": 150,
   "metadata": {},
   "outputs": [],
   "source": [
    "from sklearn.preprocessing import OneHotEncoder"
   ]
  },
  {
   "cell_type": "code",
   "execution_count": null,
   "metadata": {},
   "outputs": [],
   "source": []
  },
  {
   "cell_type": "code",
   "execution_count": 151,
   "metadata": {},
   "outputs": [
    {
     "data": {
      "text/plain": [
       "0        Male\n",
       "1      Female\n",
       "2      Female\n",
       "3      Female\n",
       "4        Male\n",
       "        ...  \n",
       "206      Male\n",
       "207      Male\n",
       "208    Female\n",
       "209      Male\n",
       "210      Male\n",
       "Name: Gender, Length: 210, dtype: category\n",
       "Categories (2, object): ['Female', 'Male']"
      ]
     },
     "execution_count": 151,
     "metadata": {},
     "output_type": "execute_result"
    }
   ],
   "source": [
    "X['Gender']"
   ]
  },
  {
   "cell_type": "code",
   "execution_count": 152,
   "metadata": {},
   "outputs": [],
   "source": [
    "one_hot_encoded_data = pd.get_dummies(X)"
   ]
  },
  {
   "cell_type": "code",
   "execution_count": 153,
   "metadata": {},
   "outputs": [],
   "source": [
    "from sklearn.model_selection import train_test_split\n",
    "X_train, X_test, y_train, y_test = train_test_split(one_hot_encoded_data, Y, test_size = 0.30, random_state = 0)"
   ]
  },
  {
   "cell_type": "code",
   "execution_count": 154,
   "metadata": {
    "collapsed": true
   },
   "outputs": [
    {
     "data": {
      "text/plain": [
       "0      0\n",
       "1      0\n",
       "2      0\n",
       "3      0\n",
       "4      0\n",
       "      ..\n",
       "206    0\n",
       "207    1\n",
       "208    0\n",
       "209    0\n",
       "210    0\n",
       "Name: Tumor Location (choice=RUL), Length: 210, dtype: int64"
      ]
     },
     "execution_count": 154,
     "metadata": {},
     "output_type": "execute_result"
    }
   ],
   "source": [
    "clinical_data['Tumor Location (choice=RUL)']"
   ]
  },
  {
   "cell_type": "markdown",
   "metadata": {},
   "source": [
    "Feature Scaling"
   ]
  },
  {
   "cell_type": "code",
   "execution_count": 155,
   "metadata": {},
   "outputs": [
    {
     "data": {
      "text/html": [
       "<div>\n",
       "<style scoped>\n",
       "    .dataframe tbody tr th:only-of-type {\n",
       "        vertical-align: middle;\n",
       "    }\n",
       "\n",
       "    .dataframe tbody tr th {\n",
       "        vertical-align: top;\n",
       "    }\n",
       "\n",
       "    .dataframe thead th {\n",
       "        text-align: right;\n",
       "    }\n",
       "</style>\n",
       "<table border=\"1\" class=\"dataframe\">\n",
       "  <thead>\n",
       "    <tr style=\"text-align: right;\">\n",
       "      <th></th>\n",
       "      <th>Age at Histological Diagnosis</th>\n",
       "      <th>Weight (lbs)</th>\n",
       "      <th>Tumor Location (choice=RUL)</th>\n",
       "      <th>Tumor Location (choice=RML)</th>\n",
       "      <th>Tumor Location (choice=RLL)</th>\n",
       "      <th>Tumor Location (choice=LUL)</th>\n",
       "      <th>Tumor Location (choice=LLL)</th>\n",
       "      <th>Tumor Location (choice=L Lingula)</th>\n",
       "      <th>Tumor Location (choice=Unknown)</th>\n",
       "      <th>Adjuvant Treatment</th>\n",
       "      <th>Chemotherapy</th>\n",
       "      <th>Radiation</th>\n",
       "      <th>Recurrence</th>\n",
       "      <th>Days between CT and surgery</th>\n",
       "    </tr>\n",
       "  </thead>\n",
       "  <tbody>\n",
       "    <tr>\n",
       "      <th>count</th>\n",
       "      <td>210.000000</td>\n",
       "      <td>210.000000</td>\n",
       "      <td>210.000000</td>\n",
       "      <td>210.000000</td>\n",
       "      <td>210.000000</td>\n",
       "      <td>210.000000</td>\n",
       "      <td>210.000000</td>\n",
       "      <td>210.00000</td>\n",
       "      <td>210.0</td>\n",
       "      <td>210.000000</td>\n",
       "      <td>210.000000</td>\n",
       "      <td>210.000000</td>\n",
       "      <td>210.000000</td>\n",
       "      <td>210.000000</td>\n",
       "    </tr>\n",
       "    <tr>\n",
       "      <th>mean</th>\n",
       "      <td>67.928571</td>\n",
       "      <td>169.904878</td>\n",
       "      <td>0.366667</td>\n",
       "      <td>0.085714</td>\n",
       "      <td>0.142857</td>\n",
       "      <td>0.223810</td>\n",
       "      <td>0.157143</td>\n",
       "      <td>0.02381</td>\n",
       "      <td>0.0</td>\n",
       "      <td>0.233333</td>\n",
       "      <td>0.233333</td>\n",
       "      <td>0.076190</td>\n",
       "      <td>0.257143</td>\n",
       "      <td>50.352381</td>\n",
       "    </tr>\n",
       "    <tr>\n",
       "      <th>std</th>\n",
       "      <td>10.017671</td>\n",
       "      <td>35.618808</td>\n",
       "      <td>0.483046</td>\n",
       "      <td>0.280611</td>\n",
       "      <td>0.350763</td>\n",
       "      <td>0.417792</td>\n",
       "      <td>0.364805</td>\n",
       "      <td>0.15282</td>\n",
       "      <td>0.0</td>\n",
       "      <td>0.423963</td>\n",
       "      <td>0.423963</td>\n",
       "      <td>0.265937</td>\n",
       "      <td>0.438103</td>\n",
       "      <td>62.486053</td>\n",
       "    </tr>\n",
       "    <tr>\n",
       "      <th>min</th>\n",
       "      <td>24.000000</td>\n",
       "      <td>49.100000</td>\n",
       "      <td>0.000000</td>\n",
       "      <td>0.000000</td>\n",
       "      <td>0.000000</td>\n",
       "      <td>0.000000</td>\n",
       "      <td>0.000000</td>\n",
       "      <td>0.00000</td>\n",
       "      <td>0.0</td>\n",
       "      <td>0.000000</td>\n",
       "      <td>0.000000</td>\n",
       "      <td>0.000000</td>\n",
       "      <td>0.000000</td>\n",
       "      <td>1.000000</td>\n",
       "    </tr>\n",
       "    <tr>\n",
       "      <th>25%</th>\n",
       "      <td>64.000000</td>\n",
       "      <td>152.145000</td>\n",
       "      <td>0.000000</td>\n",
       "      <td>0.000000</td>\n",
       "      <td>0.000000</td>\n",
       "      <td>0.000000</td>\n",
       "      <td>0.000000</td>\n",
       "      <td>0.00000</td>\n",
       "      <td>0.0</td>\n",
       "      <td>0.000000</td>\n",
       "      <td>0.000000</td>\n",
       "      <td>0.000000</td>\n",
       "      <td>0.000000</td>\n",
       "      <td>20.250000</td>\n",
       "    </tr>\n",
       "    <tr>\n",
       "      <th>50%</th>\n",
       "      <td>68.000000</td>\n",
       "      <td>171.000000</td>\n",
       "      <td>0.000000</td>\n",
       "      <td>0.000000</td>\n",
       "      <td>0.000000</td>\n",
       "      <td>0.000000</td>\n",
       "      <td>0.000000</td>\n",
       "      <td>0.00000</td>\n",
       "      <td>0.0</td>\n",
       "      <td>0.000000</td>\n",
       "      <td>0.000000</td>\n",
       "      <td>0.000000</td>\n",
       "      <td>0.000000</td>\n",
       "      <td>38.500000</td>\n",
       "    </tr>\n",
       "    <tr>\n",
       "      <th>75%</th>\n",
       "      <td>75.000000</td>\n",
       "      <td>184.750000</td>\n",
       "      <td>1.000000</td>\n",
       "      <td>0.000000</td>\n",
       "      <td>0.000000</td>\n",
       "      <td>0.000000</td>\n",
       "      <td>0.000000</td>\n",
       "      <td>0.00000</td>\n",
       "      <td>0.0</td>\n",
       "      <td>0.000000</td>\n",
       "      <td>0.000000</td>\n",
       "      <td>0.000000</td>\n",
       "      <td>1.000000</td>\n",
       "      <td>65.750000</td>\n",
       "    </tr>\n",
       "    <tr>\n",
       "      <th>max</th>\n",
       "      <td>87.000000</td>\n",
       "      <td>317.520000</td>\n",
       "      <td>1.000000</td>\n",
       "      <td>1.000000</td>\n",
       "      <td>1.000000</td>\n",
       "      <td>1.000000</td>\n",
       "      <td>1.000000</td>\n",
       "      <td>1.00000</td>\n",
       "      <td>0.0</td>\n",
       "      <td>1.000000</td>\n",
       "      <td>1.000000</td>\n",
       "      <td>1.000000</td>\n",
       "      <td>1.000000</td>\n",
       "      <td>735.000000</td>\n",
       "    </tr>\n",
       "  </tbody>\n",
       "</table>\n",
       "</div>"
      ],
      "text/plain": [
       "       Age at Histological Diagnosis  Weight (lbs)  \\\n",
       "count                     210.000000    210.000000   \n",
       "mean                       67.928571    169.904878   \n",
       "std                        10.017671     35.618808   \n",
       "min                        24.000000     49.100000   \n",
       "25%                        64.000000    152.145000   \n",
       "50%                        68.000000    171.000000   \n",
       "75%                        75.000000    184.750000   \n",
       "max                        87.000000    317.520000   \n",
       "\n",
       "       Tumor Location (choice=RUL)  Tumor Location (choice=RML)  \\\n",
       "count                   210.000000                   210.000000   \n",
       "mean                      0.366667                     0.085714   \n",
       "std                       0.483046                     0.280611   \n",
       "min                       0.000000                     0.000000   \n",
       "25%                       0.000000                     0.000000   \n",
       "50%                       0.000000                     0.000000   \n",
       "75%                       1.000000                     0.000000   \n",
       "max                       1.000000                     1.000000   \n",
       "\n",
       "       Tumor Location (choice=RLL)  Tumor Location (choice=LUL)  \\\n",
       "count                   210.000000                   210.000000   \n",
       "mean                      0.142857                     0.223810   \n",
       "std                       0.350763                     0.417792   \n",
       "min                       0.000000                     0.000000   \n",
       "25%                       0.000000                     0.000000   \n",
       "50%                       0.000000                     0.000000   \n",
       "75%                       0.000000                     0.000000   \n",
       "max                       1.000000                     1.000000   \n",
       "\n",
       "       Tumor Location (choice=LLL)  Tumor Location (choice=L Lingula)  \\\n",
       "count                   210.000000                          210.00000   \n",
       "mean                      0.157143                            0.02381   \n",
       "std                       0.364805                            0.15282   \n",
       "min                       0.000000                            0.00000   \n",
       "25%                       0.000000                            0.00000   \n",
       "50%                       0.000000                            0.00000   \n",
       "75%                       0.000000                            0.00000   \n",
       "max                       1.000000                            1.00000   \n",
       "\n",
       "       Tumor Location (choice=Unknown)  Adjuvant Treatment  Chemotherapy  \\\n",
       "count                            210.0          210.000000    210.000000   \n",
       "mean                               0.0            0.233333      0.233333   \n",
       "std                                0.0            0.423963      0.423963   \n",
       "min                                0.0            0.000000      0.000000   \n",
       "25%                                0.0            0.000000      0.000000   \n",
       "50%                                0.0            0.000000      0.000000   \n",
       "75%                                0.0            0.000000      0.000000   \n",
       "max                                0.0            1.000000      1.000000   \n",
       "\n",
       "        Radiation  Recurrence  Days between CT and surgery  \n",
       "count  210.000000  210.000000                   210.000000  \n",
       "mean     0.076190    0.257143                    50.352381  \n",
       "std      0.265937    0.438103                    62.486053  \n",
       "min      0.000000    0.000000                     1.000000  \n",
       "25%      0.000000    0.000000                    20.250000  \n",
       "50%      0.000000    0.000000                    38.500000  \n",
       "75%      0.000000    1.000000                    65.750000  \n",
       "max      1.000000    1.000000                   735.000000  "
      ]
     },
     "execution_count": 155,
     "metadata": {},
     "output_type": "execute_result"
    }
   ],
   "source": [
    "clinical_data.describe()"
   ]
  },
  {
   "cell_type": "code",
   "execution_count": null,
   "metadata": {},
   "outputs": [],
   "source": []
  },
  {
   "cell_type": "code",
   "execution_count": null,
   "metadata": {},
   "outputs": [],
   "source": []
  },
  {
   "cell_type": "code",
   "execution_count": 156,
   "metadata": {},
   "outputs": [],
   "source": [
    "from sklearn.preprocessing import StandardScaler\n",
    "sc = StandardScaler()\n",
    "X_train = sc.fit_transform(X_train)\n",
    "X_test = sc.transform(X_test)"
   ]
  },
  {
   "cell_type": "code",
   "execution_count": 157,
   "metadata": {},
   "outputs": [
    {
     "data": {
      "text/plain": [
       "array([0, 0, 0, 0, 0, 0, 0, 0, 0, 0, 1, 0, 1, 0, 0, 0, 0, 0, 0, 1, 1, 0,\n",
       "       0, 1, 0, 0, 0, 0, 0, 0, 0, 0, 1, 1, 0, 1, 1, 0, 1, 0, 0, 0, 0, 1,\n",
       "       0, 0, 0, 0, 1, 0, 0, 1, 0, 0, 0, 0, 1, 0, 1, 0, 0, 0, 0, 0, 0, 0,\n",
       "       1, 0, 0, 1, 0, 0, 0, 0, 0, 0, 0, 1, 0, 0, 1, 1, 0, 0, 1, 1, 0, 0,\n",
       "       1, 0, 0, 0, 0, 0, 1, 0, 0, 0, 0, 0, 0, 0, 0, 0, 0, 0, 0, 0, 0, 0,\n",
       "       0, 0, 0, 0, 0, 0, 1, 1, 0, 1, 0, 0, 0, 1, 0, 0, 0, 0, 0, 0, 0, 1,\n",
       "       0, 1, 0, 0, 0, 0, 0, 0, 0, 1, 1, 0, 0, 0, 1])"
      ]
     },
     "execution_count": 157,
     "metadata": {},
     "output_type": "execute_result"
    }
   ],
   "source": [
    "np.array(y_train)"
   ]
  },
  {
   "cell_type": "code",
   "execution_count": 158,
   "metadata": {},
   "outputs": [],
   "source": [
    "from sklearn.preprocessing import StandardScaler\n",
    "sc = StandardScaler()\n",
    "X_train = sc.fit_transform(X_train)\n",
    "X_test = sc.transform(X_test)"
   ]
  },
  {
   "cell_type": "code",
   "execution_count": 172,
   "metadata": {},
   "outputs": [
    {
     "data": {
      "text/html": [
       "<style>#sk-container-id-8 {color: black;background-color: white;}#sk-container-id-8 pre{padding: 0;}#sk-container-id-8 div.sk-toggleable {background-color: white;}#sk-container-id-8 label.sk-toggleable__label {cursor: pointer;display: block;width: 100%;margin-bottom: 0;padding: 0.3em;box-sizing: border-box;text-align: center;}#sk-container-id-8 label.sk-toggleable__label-arrow:before {content: \"▸\";float: left;margin-right: 0.25em;color: #696969;}#sk-container-id-8 label.sk-toggleable__label-arrow:hover:before {color: black;}#sk-container-id-8 div.sk-estimator:hover label.sk-toggleable__label-arrow:before {color: black;}#sk-container-id-8 div.sk-toggleable__content {max-height: 0;max-width: 0;overflow: hidden;text-align: left;background-color: #f0f8ff;}#sk-container-id-8 div.sk-toggleable__content pre {margin: 0.2em;color: black;border-radius: 0.25em;background-color: #f0f8ff;}#sk-container-id-8 input.sk-toggleable__control:checked~div.sk-toggleable__content {max-height: 200px;max-width: 100%;overflow: auto;}#sk-container-id-8 input.sk-toggleable__control:checked~label.sk-toggleable__label-arrow:before {content: \"▾\";}#sk-container-id-8 div.sk-estimator input.sk-toggleable__control:checked~label.sk-toggleable__label {background-color: #d4ebff;}#sk-container-id-8 div.sk-label input.sk-toggleable__control:checked~label.sk-toggleable__label {background-color: #d4ebff;}#sk-container-id-8 input.sk-hidden--visually {border: 0;clip: rect(1px 1px 1px 1px);clip: rect(1px, 1px, 1px, 1px);height: 1px;margin: -1px;overflow: hidden;padding: 0;position: absolute;width: 1px;}#sk-container-id-8 div.sk-estimator {font-family: monospace;background-color: #f0f8ff;border: 1px dotted black;border-radius: 0.25em;box-sizing: border-box;margin-bottom: 0.5em;}#sk-container-id-8 div.sk-estimator:hover {background-color: #d4ebff;}#sk-container-id-8 div.sk-parallel-item::after {content: \"\";width: 100%;border-bottom: 1px solid gray;flex-grow: 1;}#sk-container-id-8 div.sk-label:hover label.sk-toggleable__label {background-color: #d4ebff;}#sk-container-id-8 div.sk-serial::before {content: \"\";position: absolute;border-left: 1px solid gray;box-sizing: border-box;top: 0;bottom: 0;left: 50%;z-index: 0;}#sk-container-id-8 div.sk-serial {display: flex;flex-direction: column;align-items: center;background-color: white;padding-right: 0.2em;padding-left: 0.2em;position: relative;}#sk-container-id-8 div.sk-item {position: relative;z-index: 1;}#sk-container-id-8 div.sk-parallel {display: flex;align-items: stretch;justify-content: center;background-color: white;position: relative;}#sk-container-id-8 div.sk-item::before, #sk-container-id-8 div.sk-parallel-item::before {content: \"\";position: absolute;border-left: 1px solid gray;box-sizing: border-box;top: 0;bottom: 0;left: 50%;z-index: -1;}#sk-container-id-8 div.sk-parallel-item {display: flex;flex-direction: column;z-index: 1;position: relative;background-color: white;}#sk-container-id-8 div.sk-parallel-item:first-child::after {align-self: flex-end;width: 50%;}#sk-container-id-8 div.sk-parallel-item:last-child::after {align-self: flex-start;width: 50%;}#sk-container-id-8 div.sk-parallel-item:only-child::after {width: 0;}#sk-container-id-8 div.sk-dashed-wrapped {border: 1px dashed gray;margin: 0 0.4em 0.5em 0.4em;box-sizing: border-box;padding-bottom: 0.4em;background-color: white;}#sk-container-id-8 div.sk-label label {font-family: monospace;font-weight: bold;display: inline-block;line-height: 1.2em;}#sk-container-id-8 div.sk-label-container {text-align: center;}#sk-container-id-8 div.sk-container {/* jupyter's `normalize.less` sets `[hidden] { display: none; }` but bootstrap.min.css set `[hidden] { display: none !important; }` so we also need the `!important` here to be able to override the default hidden behavior on the sphinx rendered scikit-learn.org. See: https://github.com/scikit-learn/scikit-learn/issues/21755 */display: inline-block !important;position: relative;}#sk-container-id-8 div.sk-text-repr-fallback {display: none;}</style><div id=\"sk-container-id-8\" class=\"sk-top-container\"><div class=\"sk-text-repr-fallback\"><pre>GradientBoostingClassifier()</pre><b>In a Jupyter environment, please rerun this cell to show the HTML representation or trust the notebook. <br />On GitHub, the HTML representation is unable to render, please try loading this page with nbviewer.org.</b></div><div class=\"sk-container\" hidden><div class=\"sk-item\"><div class=\"sk-estimator sk-toggleable\"><input class=\"sk-toggleable__control sk-hidden--visually\" id=\"sk-estimator-id-8\" type=\"checkbox\" checked><label for=\"sk-estimator-id-8\" class=\"sk-toggleable__label sk-toggleable__label-arrow\">GradientBoostingClassifier</label><div class=\"sk-toggleable__content\"><pre>GradientBoostingClassifier()</pre></div></div></div></div></div>"
      ],
      "text/plain": [
       "GradientBoostingClassifier()"
      ]
     },
     "execution_count": 172,
     "metadata": {},
     "output_type": "execute_result"
    }
   ],
   "source": [
    "from sklearn.naive_bayes import GaussianNB\n",
    "nb_classifier = GaussianNB()\n",
    "nb_classifier.fit(X_train, y_train)\n",
    "\n",
    "from sklearn.svm import SVC\n",
    "svm_classifier = SVC()\n",
    "svm_classifier.fit(X_train, y_train)\n",
    "\n",
    "\n",
    "from sklearn.tree import DecisionTreeClassifier\n",
    "dt_classifier = DecisionTreeClassifier()\n",
    "dt_classifier.fit(X_train, y_train)\n",
    "\n",
    "from sklearn.ensemble import GradientBoostingClassifier\n",
    "gb_classifier = GradientBoostingClassifier()\n",
    "gb_classifier.fit(X_train, y_train)\n"
   ]
  },
  {
   "cell_type": "code",
   "execution_count": 173,
   "metadata": {},
   "outputs": [],
   "source": [
    "from sklearn.metrics import confusion_matrix,accuracy_score,recall_score, precision_score\n",
    "def predict(classifier):\n",
    "    y_predict = classifier.predict(X_test)\n",
    "\n",
    "    return y_predict\n",
    "\n",
    "def print_evaluations(y_predict):\n",
    "    cm = confusion_matrix(y_test, y_predict)\n",
    "    ac = accuracy_score(y_test,y_predict)\n",
    "    rs = recall_score(y_test,y_predict)\n",
    "    ps = precision_score(y_test,y_predict)\n",
    "\n",
    "    print(cm)\n",
    "    print(ac)\n",
    "    print(rs)\n",
    "    print(ps)\n"
   ]
  },
  {
   "cell_type": "code",
   "execution_count": 174,
   "metadata": {},
   "outputs": [
    {
     "name": "stdout",
     "output_type": "stream",
     "text": [
      "\n",
      "nb_y_predict\n",
      "[[15 27]\n",
      " [ 7 14]]\n",
      "0.4603174603174603\n",
      "0.6666666666666666\n",
      "0.34146341463414637\n",
      "\n",
      "svm_y_predict\n",
      "[[42  0]\n",
      " [21  0]]\n",
      "0.6666666666666666\n",
      "0.0\n",
      "0.0\n",
      "\n",
      "dt_y_predict\n",
      "[[39  3]\n",
      " [16  5]]\n",
      "0.6984126984126984\n",
      "0.23809523809523808\n",
      "0.625\n",
      "\n",
      "gb_y_predict\n",
      "[[40  2]\n",
      " [18  3]]\n",
      "0.6825396825396826\n",
      "0.14285714285714285\n",
      "0.6\n"
     ]
    },
    {
     "name": "stderr",
     "output_type": "stream",
     "text": [
      "/Users/ms/miniforge3/envs/tensorflow-metal/lib/python3.9/site-packages/sklearn/metrics/_classification.py:1327: UndefinedMetricWarning: Precision is ill-defined and being set to 0.0 due to no predicted samples. Use `zero_division` parameter to control this behavior.\n",
      "  _warn_prf(average, modifier, msg_start, len(result))\n"
     ]
    }
   ],
   "source": [
    "nb_y_predict = predict(nb_classifier)\n",
    "print('\\nnb_y_predict')\n",
    "print_evaluations(nb_y_predict)\n",
    "\n",
    "svm_y_predict = predict(svm_classifier)\n",
    "print('\\nsvm_y_predict')\n",
    "print_evaluations(svm_y_predict)\n",
    "\n",
    "dt_y_predict = predict(dt_classifier)\n",
    "print('\\ndt_y_predict')\n",
    "print_evaluations(dt_y_predict)\n",
    "\n",
    "gb_y_predict = predict(gb_classifier)\n",
    "print('\\ngb_y_predict')\n",
    "print_evaluations(gb_y_predict)"
   ]
  },
  {
   "cell_type": "markdown",
   "metadata": {},
   "source": [
    "k-fold validation"
   ]
  },
  {
   "cell_type": "code",
   "execution_count": 162,
   "metadata": {},
   "outputs": [],
   "source": [
    "from sklearn.model_selection import cross_val_score"
   ]
  },
  {
   "cell_type": "code",
   "execution_count": 163,
   "metadata": {},
   "outputs": [
    {
     "data": {
      "text/plain": [
       "array([0.26190476, 0.33333333, 0.45238095, 0.35714286, 0.4047619 ])"
      ]
     },
     "execution_count": 163,
     "metadata": {},
     "output_type": "execute_result"
    }
   ],
   "source": [
    "cross_val_score(GaussianNB(), one_hot_encoded_data, Y)"
   ]
  },
  {
   "cell_type": "code",
   "execution_count": 164,
   "metadata": {},
   "outputs": [
    {
     "data": {
      "text/plain": [
       "array([0.73809524, 0.73809524, 0.73809524, 0.73809524, 0.76190476])"
      ]
     },
     "execution_count": 164,
     "metadata": {},
     "output_type": "execute_result"
    }
   ],
   "source": [
    "cross_val_score(SVC(), one_hot_encoded_data, Y)"
   ]
  },
  {
   "cell_type": "code",
   "execution_count": 165,
   "metadata": {},
   "outputs": [
    {
     "data": {
      "text/plain": [
       "array([0.71428571, 0.78571429, 0.5952381 , 0.61904762, 0.66666667])"
      ]
     },
     "execution_count": 165,
     "metadata": {},
     "output_type": "execute_result"
    }
   ],
   "source": [
    "cross_val_score(DecisionTreeClassifier(), one_hot_encoded_data, Y)"
   ]
  },
  {
   "cell_type": "code",
   "execution_count": 166,
   "metadata": {},
   "outputs": [
    {
     "data": {
      "text/plain": [
       "array([0.73809524, 0.80952381, 0.64285714, 0.64285714, 0.78571429])"
      ]
     },
     "execution_count": 166,
     "metadata": {},
     "output_type": "execute_result"
    }
   ],
   "source": [
    "cross_val_score(GradientBoostingClassifier(), one_hot_encoded_data, Y)"
   ]
  },
  {
   "cell_type": "code",
   "execution_count": 175,
   "metadata": {},
   "outputs": [
    {
     "data": {
      "text/html": [
       "<style>#sk-container-id-9 {color: black;background-color: white;}#sk-container-id-9 pre{padding: 0;}#sk-container-id-9 div.sk-toggleable {background-color: white;}#sk-container-id-9 label.sk-toggleable__label {cursor: pointer;display: block;width: 100%;margin-bottom: 0;padding: 0.3em;box-sizing: border-box;text-align: center;}#sk-container-id-9 label.sk-toggleable__label-arrow:before {content: \"▸\";float: left;margin-right: 0.25em;color: #696969;}#sk-container-id-9 label.sk-toggleable__label-arrow:hover:before {color: black;}#sk-container-id-9 div.sk-estimator:hover label.sk-toggleable__label-arrow:before {color: black;}#sk-container-id-9 div.sk-toggleable__content {max-height: 0;max-width: 0;overflow: hidden;text-align: left;background-color: #f0f8ff;}#sk-container-id-9 div.sk-toggleable__content pre {margin: 0.2em;color: black;border-radius: 0.25em;background-color: #f0f8ff;}#sk-container-id-9 input.sk-toggleable__control:checked~div.sk-toggleable__content {max-height: 200px;max-width: 100%;overflow: auto;}#sk-container-id-9 input.sk-toggleable__control:checked~label.sk-toggleable__label-arrow:before {content: \"▾\";}#sk-container-id-9 div.sk-estimator input.sk-toggleable__control:checked~label.sk-toggleable__label {background-color: #d4ebff;}#sk-container-id-9 div.sk-label input.sk-toggleable__control:checked~label.sk-toggleable__label {background-color: #d4ebff;}#sk-container-id-9 input.sk-hidden--visually {border: 0;clip: rect(1px 1px 1px 1px);clip: rect(1px, 1px, 1px, 1px);height: 1px;margin: -1px;overflow: hidden;padding: 0;position: absolute;width: 1px;}#sk-container-id-9 div.sk-estimator {font-family: monospace;background-color: #f0f8ff;border: 1px dotted black;border-radius: 0.25em;box-sizing: border-box;margin-bottom: 0.5em;}#sk-container-id-9 div.sk-estimator:hover {background-color: #d4ebff;}#sk-container-id-9 div.sk-parallel-item::after {content: \"\";width: 100%;border-bottom: 1px solid gray;flex-grow: 1;}#sk-container-id-9 div.sk-label:hover label.sk-toggleable__label {background-color: #d4ebff;}#sk-container-id-9 div.sk-serial::before {content: \"\";position: absolute;border-left: 1px solid gray;box-sizing: border-box;top: 0;bottom: 0;left: 50%;z-index: 0;}#sk-container-id-9 div.sk-serial {display: flex;flex-direction: column;align-items: center;background-color: white;padding-right: 0.2em;padding-left: 0.2em;position: relative;}#sk-container-id-9 div.sk-item {position: relative;z-index: 1;}#sk-container-id-9 div.sk-parallel {display: flex;align-items: stretch;justify-content: center;background-color: white;position: relative;}#sk-container-id-9 div.sk-item::before, #sk-container-id-9 div.sk-parallel-item::before {content: \"\";position: absolute;border-left: 1px solid gray;box-sizing: border-box;top: 0;bottom: 0;left: 50%;z-index: -1;}#sk-container-id-9 div.sk-parallel-item {display: flex;flex-direction: column;z-index: 1;position: relative;background-color: white;}#sk-container-id-9 div.sk-parallel-item:first-child::after {align-self: flex-end;width: 50%;}#sk-container-id-9 div.sk-parallel-item:last-child::after {align-self: flex-start;width: 50%;}#sk-container-id-9 div.sk-parallel-item:only-child::after {width: 0;}#sk-container-id-9 div.sk-dashed-wrapped {border: 1px dashed gray;margin: 0 0.4em 0.5em 0.4em;box-sizing: border-box;padding-bottom: 0.4em;background-color: white;}#sk-container-id-9 div.sk-label label {font-family: monospace;font-weight: bold;display: inline-block;line-height: 1.2em;}#sk-container-id-9 div.sk-label-container {text-align: center;}#sk-container-id-9 div.sk-container {/* jupyter's `normalize.less` sets `[hidden] { display: none; }` but bootstrap.min.css set `[hidden] { display: none !important; }` so we also need the `!important` here to be able to override the default hidden behavior on the sphinx rendered scikit-learn.org. See: https://github.com/scikit-learn/scikit-learn/issues/21755 */display: inline-block !important;position: relative;}#sk-container-id-9 div.sk-text-repr-fallback {display: none;}</style><div id=\"sk-container-id-9\" class=\"sk-top-container\"><div class=\"sk-text-repr-fallback\"><pre>RandomForestClassifier()</pre><b>In a Jupyter environment, please rerun this cell to show the HTML representation or trust the notebook. <br />On GitHub, the HTML representation is unable to render, please try loading this page with nbviewer.org.</b></div><div class=\"sk-container\" hidden><div class=\"sk-item\"><div class=\"sk-estimator sk-toggleable\"><input class=\"sk-toggleable__control sk-hidden--visually\" id=\"sk-estimator-id-9\" type=\"checkbox\" checked><label for=\"sk-estimator-id-9\" class=\"sk-toggleable__label sk-toggleable__label-arrow\">RandomForestClassifier</label><div class=\"sk-toggleable__content\"><pre>RandomForestClassifier()</pre></div></div></div></div></div>"
      ],
      "text/plain": [
       "RandomForestClassifier()"
      ]
     },
     "execution_count": 175,
     "metadata": {},
     "output_type": "execute_result"
    }
   ],
   "source": [
    "from sklearn.ensemble import AdaBoostClassifier\n",
    "adaboost_classifier = AdaBoostClassifier()\n",
    "adaboost_classifier.fit(X_train, y_train)\n",
    "\n",
    "from sklearn.ensemble import RandomForestClassifier\n",
    "rf_classifier = RandomForestClassifier()\n",
    "rf_classifier.fit(X_train, y_train)\n"
   ]
  },
  {
   "cell_type": "code",
   "execution_count": 177,
   "metadata": {},
   "outputs": [
    {
     "name": "stdout",
     "output_type": "stream",
     "text": [
      "\n",
      "adabost_y_predict\n",
      "[[34  8]\n",
      " [16  5]]\n",
      "0.6190476190476191\n",
      "0.23809523809523808\n",
      "0.38461538461538464\n",
      "\n",
      "rf_y_predict\n",
      "[[40  2]\n",
      " [19  2]]\n",
      "0.6666666666666666\n",
      "0.09523809523809523\n",
      "0.5\n"
     ]
    }
   ],
   "source": [
    "adaboost_y_predict = predict(adaboost_classifier)\n",
    "print('\\nadabost_y_predict')\n",
    "print_evaluations(adaboost_y_predict)\n",
    "\n",
    "rf_y_predict = predict(rf_classifier)\n",
    "print('\\nrf_y_predict')\n",
    "print_evaluations(rf_y_predict)"
   ]
  },
  {
   "cell_type": "code",
   "execution_count": 194,
   "metadata": {},
   "outputs": [
    {
     "data": {
      "text/html": [
       "<style>#sk-container-id-17 {color: black;background-color: white;}#sk-container-id-17 pre{padding: 0;}#sk-container-id-17 div.sk-toggleable {background-color: white;}#sk-container-id-17 label.sk-toggleable__label {cursor: pointer;display: block;width: 100%;margin-bottom: 0;padding: 0.3em;box-sizing: border-box;text-align: center;}#sk-container-id-17 label.sk-toggleable__label-arrow:before {content: \"▸\";float: left;margin-right: 0.25em;color: #696969;}#sk-container-id-17 label.sk-toggleable__label-arrow:hover:before {color: black;}#sk-container-id-17 div.sk-estimator:hover label.sk-toggleable__label-arrow:before {color: black;}#sk-container-id-17 div.sk-toggleable__content {max-height: 0;max-width: 0;overflow: hidden;text-align: left;background-color: #f0f8ff;}#sk-container-id-17 div.sk-toggleable__content pre {margin: 0.2em;color: black;border-radius: 0.25em;background-color: #f0f8ff;}#sk-container-id-17 input.sk-toggleable__control:checked~div.sk-toggleable__content {max-height: 200px;max-width: 100%;overflow: auto;}#sk-container-id-17 input.sk-toggleable__control:checked~label.sk-toggleable__label-arrow:before {content: \"▾\";}#sk-container-id-17 div.sk-estimator input.sk-toggleable__control:checked~label.sk-toggleable__label {background-color: #d4ebff;}#sk-container-id-17 div.sk-label input.sk-toggleable__control:checked~label.sk-toggleable__label {background-color: #d4ebff;}#sk-container-id-17 input.sk-hidden--visually {border: 0;clip: rect(1px 1px 1px 1px);clip: rect(1px, 1px, 1px, 1px);height: 1px;margin: -1px;overflow: hidden;padding: 0;position: absolute;width: 1px;}#sk-container-id-17 div.sk-estimator {font-family: monospace;background-color: #f0f8ff;border: 1px dotted black;border-radius: 0.25em;box-sizing: border-box;margin-bottom: 0.5em;}#sk-container-id-17 div.sk-estimator:hover {background-color: #d4ebff;}#sk-container-id-17 div.sk-parallel-item::after {content: \"\";width: 100%;border-bottom: 1px solid gray;flex-grow: 1;}#sk-container-id-17 div.sk-label:hover label.sk-toggleable__label {background-color: #d4ebff;}#sk-container-id-17 div.sk-serial::before {content: \"\";position: absolute;border-left: 1px solid gray;box-sizing: border-box;top: 0;bottom: 0;left: 50%;z-index: 0;}#sk-container-id-17 div.sk-serial {display: flex;flex-direction: column;align-items: center;background-color: white;padding-right: 0.2em;padding-left: 0.2em;position: relative;}#sk-container-id-17 div.sk-item {position: relative;z-index: 1;}#sk-container-id-17 div.sk-parallel {display: flex;align-items: stretch;justify-content: center;background-color: white;position: relative;}#sk-container-id-17 div.sk-item::before, #sk-container-id-17 div.sk-parallel-item::before {content: \"\";position: absolute;border-left: 1px solid gray;box-sizing: border-box;top: 0;bottom: 0;left: 50%;z-index: -1;}#sk-container-id-17 div.sk-parallel-item {display: flex;flex-direction: column;z-index: 1;position: relative;background-color: white;}#sk-container-id-17 div.sk-parallel-item:first-child::after {align-self: flex-end;width: 50%;}#sk-container-id-17 div.sk-parallel-item:last-child::after {align-self: flex-start;width: 50%;}#sk-container-id-17 div.sk-parallel-item:only-child::after {width: 0;}#sk-container-id-17 div.sk-dashed-wrapped {border: 1px dashed gray;margin: 0 0.4em 0.5em 0.4em;box-sizing: border-box;padding-bottom: 0.4em;background-color: white;}#sk-container-id-17 div.sk-label label {font-family: monospace;font-weight: bold;display: inline-block;line-height: 1.2em;}#sk-container-id-17 div.sk-label-container {text-align: center;}#sk-container-id-17 div.sk-container {/* jupyter's `normalize.less` sets `[hidden] { display: none; }` but bootstrap.min.css set `[hidden] { display: none !important; }` so we also need the `!important` here to be able to override the default hidden behavior on the sphinx rendered scikit-learn.org. See: https://github.com/scikit-learn/scikit-learn/issues/21755 */display: inline-block !important;position: relative;}#sk-container-id-17 div.sk-text-repr-fallback {display: none;}</style><div id=\"sk-container-id-17\" class=\"sk-top-container\"><div class=\"sk-text-repr-fallback\"><pre>BaggingClassifier(base_estimator=DecisionTreeClassifier(), n_estimators=100,\n",
       "                  oob_score=True, random_state=0)</pre><b>In a Jupyter environment, please rerun this cell to show the HTML representation or trust the notebook. <br />On GitHub, the HTML representation is unable to render, please try loading this page with nbviewer.org.</b></div><div class=\"sk-container\" hidden><div class=\"sk-item sk-dashed-wrapped\"><div class=\"sk-label-container\"><div class=\"sk-label sk-toggleable\"><input class=\"sk-toggleable__control sk-hidden--visually\" id=\"sk-estimator-id-31\" type=\"checkbox\" ><label for=\"sk-estimator-id-31\" class=\"sk-toggleable__label sk-toggleable__label-arrow\">BaggingClassifier</label><div class=\"sk-toggleable__content\"><pre>BaggingClassifier(base_estimator=DecisionTreeClassifier(), n_estimators=100,\n",
       "                  oob_score=True, random_state=0)</pre></div></div></div><div class=\"sk-parallel\"><div class=\"sk-parallel-item\"><div class=\"sk-item\"><div class=\"sk-label-container\"><div class=\"sk-label sk-toggleable\"><input class=\"sk-toggleable__control sk-hidden--visually\" id=\"sk-estimator-id-32\" type=\"checkbox\" ><label for=\"sk-estimator-id-32\" class=\"sk-toggleable__label sk-toggleable__label-arrow\">base_estimator: DecisionTreeClassifier</label><div class=\"sk-toggleable__content\"><pre>DecisionTreeClassifier()</pre></div></div></div><div class=\"sk-serial\"><div class=\"sk-item\"><div class=\"sk-estimator sk-toggleable\"><input class=\"sk-toggleable__control sk-hidden--visually\" id=\"sk-estimator-id-33\" type=\"checkbox\" ><label for=\"sk-estimator-id-33\" class=\"sk-toggleable__label sk-toggleable__label-arrow\">DecisionTreeClassifier</label><div class=\"sk-toggleable__content\"><pre>DecisionTreeClassifier()</pre></div></div></div></div></div></div></div></div></div></div>"
      ],
      "text/plain": [
       "BaggingClassifier(base_estimator=DecisionTreeClassifier(), n_estimators=100,\n",
       "                  oob_score=True, random_state=0)"
      ]
     },
     "execution_count": 194,
     "metadata": {},
     "output_type": "execute_result"
    }
   ],
   "source": [
    "from sklearn.ensemble import BaggingClassifier\n",
    "bag_model = BaggingClassifier(\n",
    "base_estimator=DecisionTreeClassifier(), \n",
    "    n_estimators=100, \n",
    "    max_samples=1.0, \n",
    "    bootstrap=True,\n",
    "    oob_score=True,\n",
    "    random_state=0\n",
    ")\n",
    "bag_model.fit(X_train, y_train)"
   ]
  },
  {
   "cell_type": "code",
   "execution_count": 195,
   "metadata": {},
   "outputs": [
    {
     "name": "stdout",
     "output_type": "stream",
     "text": [
      "\n",
      "rf_y_predict\n",
      "[[39  3]\n",
      " [17  4]]\n",
      "0.6825396825396826\n",
      "0.19047619047619047\n",
      "0.5714285714285714\n"
     ]
    }
   ],
   "source": [
    "bag_y_predict = predict(bag_model)\n",
    "print('\\nrf_y_predict')\n",
    "print_evaluations(bag_y_predict)"
   ]
  },
  {
   "cell_type": "code",
   "execution_count": 196,
   "metadata": {},
   "outputs": [
    {
     "data": {
      "text/plain": [
       "array([0.76190476, 0.78571429, 0.64285714, 0.69047619, 0.76190476])"
      ]
     },
     "execution_count": 196,
     "metadata": {},
     "output_type": "execute_result"
    }
   ],
   "source": [
    "cross_val_score(bag_model, one_hot_encoded_data, Y)"
   ]
  },
  {
   "cell_type": "code",
   "execution_count": null,
   "metadata": {},
   "outputs": [],
   "source": []
  }
 ],
 "metadata": {
  "kernelspec": {
   "display_name": "Python 3.9.0 ('tensorflow-metal')",
   "language": "python",
   "name": "python3"
  },
  "language_info": {
   "codemirror_mode": {
    "name": "ipython",
    "version": 3
   },
   "file_extension": ".py",
   "mimetype": "text/x-python",
   "name": "python",
   "nbconvert_exporter": "python",
   "pygments_lexer": "ipython3",
   "version": "3.9.0"
  },
  "vscode": {
   "interpreter": {
    "hash": "327344a656f9bad4b848ef6e654e8f6e0b4f1624ba5b09c71a6be140ac2d285e"
   }
  }
 },
 "nbformat": 4,
 "nbformat_minor": 4
}

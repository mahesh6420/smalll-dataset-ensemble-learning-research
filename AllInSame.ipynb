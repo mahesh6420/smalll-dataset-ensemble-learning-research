{
 "cells": [
  {
   "cell_type": "code",
   "execution_count": 95,
   "metadata": {},
   "outputs": [],
   "source": [
    "import pandas as pd\n",
    "import numpy as np\n",
    "import sklearn\n",
    "import matplotlib.pyplot as plt"
   ]
  },
  {
   "cell_type": "code",
   "execution_count": 96,
   "metadata": {},
   "outputs": [],
   "source": [
    "clinical_data = pd.read_csv('data\\\\NSCLCR01Radiogenomic_DATA_LABELS_2018-05-22_1500-shifted.csv', index_col=False)"
   ]
  },
  {
   "cell_type": "code",
   "execution_count": 97,
   "metadata": {},
   "outputs": [
    {
     "output_type": "execute_result",
     "data": {
      "text/plain": [
       "   Age at Histological Diagnosis   Weight (lbs)  Gender  \\\n",
       "0                             34  Not Collected    Male   \n",
       "1                             33  Not Collected  Female   \n",
       "\n",
       "                  Ethnicity Smoking status Pack Years  Quit Smoking Year  \\\n",
       "0  Not Recorded In Database      Nonsmoker        NaN                NaN   \n",
       "1  Not Recorded In Database      Nonsmoker        NaN                NaN   \n",
       "\n",
       "  Tumor Location (choice=RUL) Tumor Location (choice=RML)  \\\n",
       "0                   Unchecked                   Unchecked   \n",
       "1                   Unchecked                   Unchecked   \n",
       "\n",
       "  Tumor Location (choice=RLL)  ...  \\\n",
       "0                     Checked  ...   \n",
       "1                   Unchecked  ...   \n",
       "\n",
       "  Pleural invasion (elastic, visceral, or parietal) EGFR mutation status  \\\n",
       "0                                     Not collected             Wildtype   \n",
       "1                                     Not collected             Wildtype   \n",
       "\n",
       "  KRAS mutation status ALK translocation status Adjuvant Treatment  \\\n",
       "0               Mutant                 Wildtype                 No   \n",
       "1             Wildtype            Not collected                 No   \n",
       "\n",
       "  Chemotherapy Radiation Recurrence Location Days between CT and surgery  \\\n",
       "0           No        No             distant                           9   \n",
       "1           No        No                 NaN                           3   \n",
       "\n",
       "  Recurrence  \n",
       "0        yes  \n",
       "1         no  \n",
       "\n",
       "[2 rows x 30 columns]"
      ],
      "text/html": "<div>\n<style scoped>\n    .dataframe tbody tr th:only-of-type {\n        vertical-align: middle;\n    }\n\n    .dataframe tbody tr th {\n        vertical-align: top;\n    }\n\n    .dataframe thead th {\n        text-align: right;\n    }\n</style>\n<table border=\"1\" class=\"dataframe\">\n  <thead>\n    <tr style=\"text-align: right;\">\n      <th></th>\n      <th>Age at Histological Diagnosis</th>\n      <th>Weight (lbs)</th>\n      <th>Gender</th>\n      <th>Ethnicity</th>\n      <th>Smoking status</th>\n      <th>Pack Years</th>\n      <th>Quit Smoking Year</th>\n      <th>Tumor Location (choice=RUL)</th>\n      <th>Tumor Location (choice=RML)</th>\n      <th>Tumor Location (choice=RLL)</th>\n      <th>...</th>\n      <th>Pleural invasion (elastic, visceral, or parietal)</th>\n      <th>EGFR mutation status</th>\n      <th>KRAS mutation status</th>\n      <th>ALK translocation status</th>\n      <th>Adjuvant Treatment</th>\n      <th>Chemotherapy</th>\n      <th>Radiation</th>\n      <th>Recurrence Location</th>\n      <th>Days between CT and surgery</th>\n      <th>Recurrence</th>\n    </tr>\n  </thead>\n  <tbody>\n    <tr>\n      <th>0</th>\n      <td>34</td>\n      <td>Not Collected</td>\n      <td>Male</td>\n      <td>Not Recorded In Database</td>\n      <td>Nonsmoker</td>\n      <td>NaN</td>\n      <td>NaN</td>\n      <td>Unchecked</td>\n      <td>Unchecked</td>\n      <td>Checked</td>\n      <td>...</td>\n      <td>Not collected</td>\n      <td>Wildtype</td>\n      <td>Mutant</td>\n      <td>Wildtype</td>\n      <td>No</td>\n      <td>No</td>\n      <td>No</td>\n      <td>distant</td>\n      <td>9</td>\n      <td>yes</td>\n    </tr>\n    <tr>\n      <th>1</th>\n      <td>33</td>\n      <td>Not Collected</td>\n      <td>Female</td>\n      <td>Not Recorded In Database</td>\n      <td>Nonsmoker</td>\n      <td>NaN</td>\n      <td>NaN</td>\n      <td>Unchecked</td>\n      <td>Unchecked</td>\n      <td>Unchecked</td>\n      <td>...</td>\n      <td>Not collected</td>\n      <td>Wildtype</td>\n      <td>Wildtype</td>\n      <td>Not collected</td>\n      <td>No</td>\n      <td>No</td>\n      <td>No</td>\n      <td>NaN</td>\n      <td>3</td>\n      <td>no</td>\n    </tr>\n  </tbody>\n</table>\n<p>2 rows × 30 columns</p>\n</div>"
     },
     "metadata": {},
     "execution_count": 97
    }
   ],
   "source": [
    "# clinical_data = clinical_data.drop(['Case ID','Patient affiliation','%GG', 'Survival Status','Date of Last Known Alive', 'Date of Last Known Alive', 'CT Date', 'PET Date', 'Date of Recurrence'], axis=1)\n",
    "clinical_data.head(2)"
   ]
  },
  {
   "cell_type": "code",
   "execution_count": 98,
   "metadata": {},
   "outputs": [],
   "source": [
    "clinical_data['Quit Smoking Year'] = pd.to_datetime(clinical_data['Quit Smoking Year'], format='%Y')"
   ]
  },
  {
   "cell_type": "code",
   "execution_count": 99,
   "metadata": {},
   "outputs": [
    {
     "output_type": "execute_result",
     "data": {
      "text/plain": [
       "0            NaT\n",
       "1            NaT\n",
       "2            NaT\n",
       "3            NaT\n",
       "4     1962-01-01\n",
       "         ...    \n",
       "206   1994-01-01\n",
       "207   1993-01-01\n",
       "208          NaT\n",
       "209   1966-01-01\n",
       "210          NaT\n",
       "Name: Quit Smoking Year, Length: 211, dtype: datetime64[ns]"
      ]
     },
     "metadata": {},
     "execution_count": 99
    }
   ],
   "source": [
    "clinical_data['Quit Smoking Year']"
   ]
  },
  {
   "cell_type": "code",
   "execution_count": 100,
   "metadata": {},
   "outputs": [],
   "source": [
    "#replace Not Collected with NaN\n",
    "clinical_data.replace('Not Collected', 'NaN', inplace=True)\n",
    "clinical_data.replace('Not collected', 'NaN', inplace=True)\n",
    "clinical_data.replace('Not Recorded In Database', 'NaN', inplace=True)\n",
    "clinical_data.replace('NaN', np.nan, inplace=True)"
   ]
  },
  {
   "cell_type": "code",
   "execution_count": 101,
   "metadata": {},
   "outputs": [],
   "source": [
    "#weight to numerical value\n",
    "clinical_data['Weight (lbs)'] = pd.to_numeric(clinical_data['Weight (lbs)'])\n",
    "# clinical_data.astype({'Weight (lbs)':'Int32'})"
   ]
  },
  {
   "cell_type": "code",
   "execution_count": 102,
   "metadata": {},
   "outputs": [],
   "source": [
    "clinical_data['Quit Smoking'] = clinical_data['Quit Smoking Year'].isnull()\n",
    "clinical_data['Quit Smoking Year'] = clinical_data.drop('Quit Smoking Year', axis=1)"
   ]
  },
  {
   "cell_type": "code",
   "execution_count": 103,
   "metadata": {},
   "outputs": [],
   "source": [
    "clinical_data['Weight (lbs)'].fillna(-999, inplace=True)"
   ]
  },
  {
   "cell_type": "code",
   "execution_count": 104,
   "metadata": {},
   "outputs": [],
   "source": [
    "dm = pd.DataFrame(pd.get_dummies(clinical_data))"
   ]
  },
  {
   "cell_type": "code",
   "execution_count": 105,
   "metadata": {},
   "outputs": [],
   "source": [
    "dm = dm.drop(['Recurrence_no'], axis=1)"
   ]
  },
  {
   "cell_type": "code",
   "execution_count": 106,
   "metadata": {},
   "outputs": [
    {
     "output_type": "execute_result",
     "data": {
      "text/plain": [
       "0     -999.0\n",
       "1     -999.0\n",
       "2     -999.0\n",
       "3     -999.0\n",
       "4     -999.0\n",
       "       ...  \n",
       "206    184.0\n",
       "207    231.5\n",
       "208   -999.0\n",
       "209    158.0\n",
       "210    229.0\n",
       "Name: Weight (lbs), Length: 211, dtype: float64"
      ]
     },
     "metadata": {},
     "execution_count": 106
    }
   ],
   "source": [
    "clinical_data['Weight (lbs)']"
   ]
  },
  {
   "cell_type": "code",
   "execution_count": 107,
   "metadata": {
    "collapsed": true
   },
   "outputs": [
    {
     "output_type": "execute_result",
     "data": {
      "text/plain": [
       "0       True\n",
       "1       True\n",
       "2       True\n",
       "3       True\n",
       "4      False\n",
       "       ...  \n",
       "206    False\n",
       "207    False\n",
       "208     True\n",
       "209    False\n",
       "210     True\n",
       "Name: Quit Smoking, Length: 211, dtype: bool"
      ]
     },
     "metadata": {},
     "execution_count": 107
    }
   ],
   "source": [
    "clinical_data['Quit Smoking']"
   ]
  },
  {
   "cell_type": "code",
   "execution_count": 108,
   "metadata": {},
   "outputs": [],
   "source": [
    "#define x and y\n",
    "X = dm.iloc[:, dm.columns != 'Recurrence_yes']\n",
    "y = dm.iloc[:,-1].values"
   ]
  },
  {
   "cell_type": "code",
   "execution_count": 109,
   "metadata": {},
   "outputs": [],
   "source": [
    "#clinical_data.iloc[:,-1]"
   ]
  },
  {
   "cell_type": "markdown",
   "metadata": {},
   "source": [
    "Train Test Split"
   ]
  },
  {
   "cell_type": "code",
   "execution_count": 110,
   "metadata": {},
   "outputs": [],
   "source": [
    "from sklearn.model_selection import train_test_split\n",
    "X_train, X_test, y_train, y_test = train_test_split(X, y, test_size = 0.30, random_state = 0)"
   ]
  },
  {
   "cell_type": "code",
   "execution_count": 111,
   "metadata": {
    "collapsed": true
   },
   "outputs": [
    {
     "output_type": "execute_result",
     "data": {
      "text/plain": [
       "     Age at Histological Diagnosis  Weight (lbs)  Days between CT and surgery  \\\n",
       "110                             72       200.655                           38   \n",
       "130                             69       200.655                            9   \n",
       "24                              77      -999.000                           13   \n",
       "30                              66      -999.000                           35   \n",
       "60                              70       125.000                           90   \n",
       "..                             ...           ...                          ...   \n",
       "67                              71       205.000                           42   \n",
       "192                             80       157.000                           23   \n",
       "117                             70       171.990                           56   \n",
       "47                              72      -999.000                            6   \n",
       "172                             72       183.000                           58   \n",
       "\n",
       "     Quit Smoking  Gender_Female  Gender_Male  Ethnicity_African-American  \\\n",
       "110         False              0            1                           0   \n",
       "130          True              0            1                           0   \n",
       "24          False              1            0                           0   \n",
       "30           True              0            1                           0   \n",
       "60           True              1            0                           0   \n",
       "..            ...            ...          ...                         ...   \n",
       "67          False              0            1                           0   \n",
       "192          True              0            1                           0   \n",
       "117         False              0            1                           0   \n",
       "47          False              0            1                           0   \n",
       "172         False              0            1                           0   \n",
       "\n",
       "     Ethnicity_Asian  Ethnicity_Caucasian  Ethnicity_Hispanic/Latino  ...  \\\n",
       "110                0                    1                          0  ...   \n",
       "130                0                    1                          0  ...   \n",
       "24                 0                    0                          0  ...   \n",
       "30                 0                    0                          0  ...   \n",
       "60                 0                    1                          0  ...   \n",
       "..               ...                  ...                        ...  ...   \n",
       "67                 0                    1                          0  ...   \n",
       "192                1                    0                          0  ...   \n",
       "117                0                    1                          0  ...   \n",
       "47                 0                    0                          0  ...   \n",
       "172                0                    1                          0  ...   \n",
       "\n",
       "     ALK translocation status_Wildtype  Adjuvant Treatment_No  \\\n",
       "110                                  1                      1   \n",
       "130                                  1                      0   \n",
       "24                                   1                      1   \n",
       "30                                   1                      1   \n",
       "60                                   0                      0   \n",
       "..                                 ...                    ...   \n",
       "67                                   1                      1   \n",
       "192                                  1                      1   \n",
       "117                                  1                      1   \n",
       "47                                   1                      1   \n",
       "172                                  0                      1   \n",
       "\n",
       "     Adjuvant Treatment_Yes  Chemotherapy_No  Chemotherapy_Yes  Radiation_No  \\\n",
       "110                       0                1                 0             1   \n",
       "130                       1                0                 1             1   \n",
       "24                        0                1                 0             1   \n",
       "30                        0                1                 0             1   \n",
       "60                        1                0                 1             0   \n",
       "..                      ...              ...               ...           ...   \n",
       "67                        0                1                 0             1   \n",
       "192                       0                1                 0             1   \n",
       "117                       0                1                 0             1   \n",
       "47                        0                1                 0             1   \n",
       "172                       0                1                 0             1   \n",
       "\n",
       "     Radiation_Yes  Recurrence Location_distant  Recurrence Location_local  \\\n",
       "110              0                            0                          0   \n",
       "130              0                            0                          0   \n",
       "24               0                            0                          0   \n",
       "30               0                            0                          0   \n",
       "60               1                            1                          0   \n",
       "..             ...                          ...                        ...   \n",
       "67               0                            0                          0   \n",
       "192              0                            0                          0   \n",
       "117              0                            0                          0   \n",
       "47               0                            0                          0   \n",
       "172              0                            0                          0   \n",
       "\n",
       "     Recurrence Location_regional  \n",
       "110                             0  \n",
       "130                             0  \n",
       "24                              0  \n",
       "30                              0  \n",
       "60                              0  \n",
       "..                            ...  \n",
       "67                              0  \n",
       "192                             0  \n",
       "117                             0  \n",
       "47                              0  \n",
       "172                             0  \n",
       "\n",
       "[147 rows x 162 columns]"
      ],
      "text/html": "<div>\n<style scoped>\n    .dataframe tbody tr th:only-of-type {\n        vertical-align: middle;\n    }\n\n    .dataframe tbody tr th {\n        vertical-align: top;\n    }\n\n    .dataframe thead th {\n        text-align: right;\n    }\n</style>\n<table border=\"1\" class=\"dataframe\">\n  <thead>\n    <tr style=\"text-align: right;\">\n      <th></th>\n      <th>Age at Histological Diagnosis</th>\n      <th>Weight (lbs)</th>\n      <th>Days between CT and surgery</th>\n      <th>Quit Smoking</th>\n      <th>Gender_Female</th>\n      <th>Gender_Male</th>\n      <th>Ethnicity_African-American</th>\n      <th>Ethnicity_Asian</th>\n      <th>Ethnicity_Caucasian</th>\n      <th>Ethnicity_Hispanic/Latino</th>\n      <th>...</th>\n      <th>ALK translocation status_Wildtype</th>\n      <th>Adjuvant Treatment_No</th>\n      <th>Adjuvant Treatment_Yes</th>\n      <th>Chemotherapy_No</th>\n      <th>Chemotherapy_Yes</th>\n      <th>Radiation_No</th>\n      <th>Radiation_Yes</th>\n      <th>Recurrence Location_distant</th>\n      <th>Recurrence Location_local</th>\n      <th>Recurrence Location_regional</th>\n    </tr>\n  </thead>\n  <tbody>\n    <tr>\n      <th>110</th>\n      <td>72</td>\n      <td>200.655</td>\n      <td>38</td>\n      <td>False</td>\n      <td>0</td>\n      <td>1</td>\n      <td>0</td>\n      <td>0</td>\n      <td>1</td>\n      <td>0</td>\n      <td>...</td>\n      <td>1</td>\n      <td>1</td>\n      <td>0</td>\n      <td>1</td>\n      <td>0</td>\n      <td>1</td>\n      <td>0</td>\n      <td>0</td>\n      <td>0</td>\n      <td>0</td>\n    </tr>\n    <tr>\n      <th>130</th>\n      <td>69</td>\n      <td>200.655</td>\n      <td>9</td>\n      <td>True</td>\n      <td>0</td>\n      <td>1</td>\n      <td>0</td>\n      <td>0</td>\n      <td>1</td>\n      <td>0</td>\n      <td>...</td>\n      <td>1</td>\n      <td>0</td>\n      <td>1</td>\n      <td>0</td>\n      <td>1</td>\n      <td>1</td>\n      <td>0</td>\n      <td>0</td>\n      <td>0</td>\n      <td>0</td>\n    </tr>\n    <tr>\n      <th>24</th>\n      <td>77</td>\n      <td>-999.000</td>\n      <td>13</td>\n      <td>False</td>\n      <td>1</td>\n      <td>0</td>\n      <td>0</td>\n      <td>0</td>\n      <td>0</td>\n      <td>0</td>\n      <td>...</td>\n      <td>1</td>\n      <td>1</td>\n      <td>0</td>\n      <td>1</td>\n      <td>0</td>\n      <td>1</td>\n      <td>0</td>\n      <td>0</td>\n      <td>0</td>\n      <td>0</td>\n    </tr>\n    <tr>\n      <th>30</th>\n      <td>66</td>\n      <td>-999.000</td>\n      <td>35</td>\n      <td>True</td>\n      <td>0</td>\n      <td>1</td>\n      <td>0</td>\n      <td>0</td>\n      <td>0</td>\n      <td>0</td>\n      <td>...</td>\n      <td>1</td>\n      <td>1</td>\n      <td>0</td>\n      <td>1</td>\n      <td>0</td>\n      <td>1</td>\n      <td>0</td>\n      <td>0</td>\n      <td>0</td>\n      <td>0</td>\n    </tr>\n    <tr>\n      <th>60</th>\n      <td>70</td>\n      <td>125.000</td>\n      <td>90</td>\n      <td>True</td>\n      <td>1</td>\n      <td>0</td>\n      <td>0</td>\n      <td>0</td>\n      <td>1</td>\n      <td>0</td>\n      <td>...</td>\n      <td>0</td>\n      <td>0</td>\n      <td>1</td>\n      <td>0</td>\n      <td>1</td>\n      <td>0</td>\n      <td>1</td>\n      <td>1</td>\n      <td>0</td>\n      <td>0</td>\n    </tr>\n    <tr>\n      <th>...</th>\n      <td>...</td>\n      <td>...</td>\n      <td>...</td>\n      <td>...</td>\n      <td>...</td>\n      <td>...</td>\n      <td>...</td>\n      <td>...</td>\n      <td>...</td>\n      <td>...</td>\n      <td>...</td>\n      <td>...</td>\n      <td>...</td>\n      <td>...</td>\n      <td>...</td>\n      <td>...</td>\n      <td>...</td>\n      <td>...</td>\n      <td>...</td>\n      <td>...</td>\n      <td>...</td>\n    </tr>\n    <tr>\n      <th>67</th>\n      <td>71</td>\n      <td>205.000</td>\n      <td>42</td>\n      <td>False</td>\n      <td>0</td>\n      <td>1</td>\n      <td>0</td>\n      <td>0</td>\n      <td>1</td>\n      <td>0</td>\n      <td>...</td>\n      <td>1</td>\n      <td>1</td>\n      <td>0</td>\n      <td>1</td>\n      <td>0</td>\n      <td>1</td>\n      <td>0</td>\n      <td>0</td>\n      <td>0</td>\n      <td>0</td>\n    </tr>\n    <tr>\n      <th>192</th>\n      <td>80</td>\n      <td>157.000</td>\n      <td>23</td>\n      <td>True</td>\n      <td>0</td>\n      <td>1</td>\n      <td>0</td>\n      <td>1</td>\n      <td>0</td>\n      <td>0</td>\n      <td>...</td>\n      <td>1</td>\n      <td>1</td>\n      <td>0</td>\n      <td>1</td>\n      <td>0</td>\n      <td>1</td>\n      <td>0</td>\n      <td>0</td>\n      <td>0</td>\n      <td>0</td>\n    </tr>\n    <tr>\n      <th>117</th>\n      <td>70</td>\n      <td>171.990</td>\n      <td>56</td>\n      <td>False</td>\n      <td>0</td>\n      <td>1</td>\n      <td>0</td>\n      <td>0</td>\n      <td>1</td>\n      <td>0</td>\n      <td>...</td>\n      <td>1</td>\n      <td>1</td>\n      <td>0</td>\n      <td>1</td>\n      <td>0</td>\n      <td>1</td>\n      <td>0</td>\n      <td>0</td>\n      <td>0</td>\n      <td>0</td>\n    </tr>\n    <tr>\n      <th>47</th>\n      <td>72</td>\n      <td>-999.000</td>\n      <td>6</td>\n      <td>False</td>\n      <td>0</td>\n      <td>1</td>\n      <td>0</td>\n      <td>0</td>\n      <td>0</td>\n      <td>0</td>\n      <td>...</td>\n      <td>1</td>\n      <td>1</td>\n      <td>0</td>\n      <td>1</td>\n      <td>0</td>\n      <td>1</td>\n      <td>0</td>\n      <td>0</td>\n      <td>0</td>\n      <td>0</td>\n    </tr>\n    <tr>\n      <th>172</th>\n      <td>72</td>\n      <td>183.000</td>\n      <td>58</td>\n      <td>False</td>\n      <td>0</td>\n      <td>1</td>\n      <td>0</td>\n      <td>0</td>\n      <td>1</td>\n      <td>0</td>\n      <td>...</td>\n      <td>0</td>\n      <td>1</td>\n      <td>0</td>\n      <td>1</td>\n      <td>0</td>\n      <td>1</td>\n      <td>0</td>\n      <td>0</td>\n      <td>0</td>\n      <td>0</td>\n    </tr>\n  </tbody>\n</table>\n<p>147 rows × 162 columns</p>\n</div>"
     },
     "metadata": {},
     "execution_count": 111
    }
   ],
   "source": [
    "X_train"
   ]
  },
  {
   "cell_type": "markdown",
   "metadata": {},
   "source": [
    "Feature Scaling"
   ]
  },
  {
   "cell_type": "code",
   "execution_count": 112,
   "metadata": {},
   "outputs": [],
   "source": [
    "from sklearn.preprocessing import StandardScaler\n",
    "sc = StandardScaler()\n",
    "X_train = sc.fit_transform(X_train)\n",
    "X_test = sc.transform(X_test)"
   ]
  },
  {
   "cell_type": "code",
   "execution_count": 113,
   "metadata": {},
   "outputs": [
    {
     "output_type": "execute_result",
     "data": {
      "text/plain": [
       "array([0, 0, 0, 0, 1, 0, 0, 0, 0, 0, 0, 0, 0, 0, 0, 0, 0, 1, 1, 0, 0, 1,\n",
       "       0, 0, 0, 0, 0, 0, 0, 0, 0, 0, 0, 0, 0, 0, 1, 1, 1, 1, 0, 0, 0, 0,\n",
       "       0, 1, 0, 0, 0, 0, 1, 0, 1, 1, 0, 0, 0, 1, 0, 0, 0, 0, 0, 0, 0, 0,\n",
       "       1, 0, 0, 1, 0, 0, 1, 1, 0, 0, 0, 1, 0, 0, 1, 0, 1, 0, 0, 0, 0, 1,\n",
       "       0, 0, 0, 0, 0, 0, 1, 0, 1, 0, 0, 0, 0, 0, 0, 1, 0, 1, 0, 0, 0, 1,\n",
       "       0, 1, 1, 0, 0, 1, 0, 0, 1, 0, 0, 0, 1, 1, 0, 0, 1, 0, 0, 0, 0, 0,\n",
       "       1, 0, 0, 1, 0, 0, 0, 0, 0, 1, 0, 0, 0, 0, 0], dtype=uint8)"
      ]
     },
     "metadata": {},
     "execution_count": 113
    }
   ],
   "source": [
    "y_train"
   ]
  },
  {
   "cell_type": "code",
   "execution_count": 114,
   "metadata": {},
   "outputs": [
    {
     "output_type": "stream",
     "name": "stdout",
     "text": [
      "[[12 34]\n [ 7 11]]\n0.359375\n0.6111111111111112\n0.24444444444444444\n"
     ]
    }
   ],
   "source": [
    "from sklearn.naive_bayes import GaussianNB\n",
    "nb_classifier = GaussianNB()\n",
    "nb_classifier.fit(X_train, y_train)\n",
    "\n",
    "nb_y_predict = nb_classifier.predict(X_test)\n",
    "nb_y_predict\n",
    "\n",
    "from sklearn.metrics import confusion_matrix,accuracy_score,recall_score, precision_score\n",
    "cm = confusion_matrix(y_test, nb_y_predict)\n",
    "ac = accuracy_score(y_test,nb_y_predict)\n",
    "rs = recall_score(y_test,nb_y_predict)\n",
    "ps = precision_score(y_test,nb_y_predict)\n",
    "\n",
    "print(cm)\n",
    "print(ac)\n",
    "print(rs)\n",
    "print(ps)"
   ]
  },
  {
   "cell_type": "code",
   "execution_count": 115,
   "metadata": {},
   "outputs": [
    {
     "output_type": "stream",
     "name": "stdout",
     "text": [
      "[[46  0]\n [ 0 18]]\n1.0\n1.0\n1.0\n"
     ]
    }
   ],
   "source": [
    "from sklearn.svm import LinearSVC\n",
    "svm_classifier = LinearSVC()\n",
    "svm_classifier.fit(X_train, y_train)\n",
    "\n",
    "svm_y_predict = svm_classifier.predict(X_test)\n",
    "svm_y_predict\n",
    "\n",
    "from sklearn.metrics import confusion_matrix,accuracy_score,recall_score, precision_score\n",
    "cm = confusion_matrix(y_test, svm_y_predict)\n",
    "ac = accuracy_score(y_test,svm_y_predict)\n",
    "rs = recall_score(y_test,svm_y_predict)\n",
    "ps = precision_score(y_test,svm_y_predict)\n",
    "\n",
    "print(cm)\n",
    "print(ac)\n",
    "print(rs)\n",
    "print(ps)"
   ]
  },
  {
   "cell_type": "code",
   "execution_count": 116,
   "metadata": {},
   "outputs": [
    {
     "output_type": "stream",
     "name": "stdout",
     "text": [
      "[[46  0]\n [ 0 18]]\n1.0\n1.0\n1.0\n"
     ]
    }
   ],
   "source": [
    "from sklearn.tree import DecisionTreeClassifier\n",
    "dt_classifier = DecisionTreeClassifier()\n",
    "dt_classifier.fit(X_train, y_train)\n",
    "\n",
    "dt_y_predict = dt_classifier.predict(X_test)\n",
    "dt_y_predict\n",
    "\n",
    "from sklearn.metrics import confusion_matrix,accuracy_score,recall_score, precision_score\n",
    "cm = confusion_matrix(y_test, dt_y_predict)\n",
    "ac = accuracy_score(y_test,dt_y_predict)\n",
    "rs = recall_score(y_test,dt_y_predict)\n",
    "ps = precision_score(y_test,dt_y_predict)\n",
    "\n",
    "print(cm)\n",
    "print(ac)\n",
    "print(rs)\n",
    "print(ps)"
   ]
  },
  {
   "cell_type": "code",
   "execution_count": 117,
   "metadata": {},
   "outputs": [
    {
     "output_type": "stream",
     "name": "stdout",
     "text": [
      "[[46  0]\n [ 0 18]]\n1.0\n1.0\n1.0\n"
     ]
    }
   ],
   "source": [
    "from sklearn.ensemble.gradient_boosting import GradientBoostingClassifier\n",
    "gb_classifier = GradientBoostingClassifier()\n",
    "gb_classifier.fit(X_train, y_train)\n",
    "\n",
    "gb_y_predict = gb_classifier.predict(X_test)\n",
    "gb_y_predict\n",
    "\n",
    "from sklearn.metrics import confusion_matrix,accuracy_score,recall_score, precision_score\n",
    "cm = confusion_matrix(y_test, gb_y_predict)\n",
    "ac = accuracy_score(y_test,gb_y_predict)\n",
    "rs = recall_score(y_test,gb_y_predict)\n",
    "ps = precision_score(y_test,gb_y_predict)\n",
    "\n",
    "print(cm)\n",
    "print(ac)\n",
    "print(rs)\n",
    "print(ps)"
   ]
  },
  {
   "source": [
    "k-fold validation"
   ],
   "cell_type": "markdown",
   "metadata": {}
  },
  {
   "cell_type": "code",
   "execution_count": 118,
   "metadata": {},
   "outputs": [],
   "source": [
    "from sklearn.model_selection import cross_val_score"
   ]
  },
  {
   "cell_type": "code",
   "execution_count": 119,
   "metadata": {},
   "outputs": [
    {
     "output_type": "execute_result",
     "data": {
      "text/plain": [
       "array([0.41860465, 0.54761905, 0.69047619, 0.4047619 , 0.52380952])"
      ]
     },
     "metadata": {},
     "execution_count": 119
    }
   ],
   "source": [
    "cross_val_score(GaussianNB(), X, y)"
   ]
  },
  {
   "cell_type": "code",
   "execution_count": 120,
   "metadata": {},
   "outputs": [
    {
     "output_type": "execute_result",
     "data": {
      "text/plain": [
       "array([0.74418605, 0.73809524, 0.73809524, 0.73809524, 0.76190476])"
      ]
     },
     "metadata": {},
     "execution_count": 120
    }
   ],
   "source": [
    "cross_val_score(SVC(), X, y)"
   ]
  },
  {
   "cell_type": "code",
   "execution_count": 121,
   "metadata": {},
   "outputs": [
    {
     "output_type": "execute_result",
     "data": {
      "text/plain": [
       "array([1., 1., 1., 1., 1.])"
      ]
     },
     "metadata": {},
     "execution_count": 121
    }
   ],
   "source": [
    "cross_val_score(DecisionTreeClassifier(), X, y)"
   ]
  },
  {
   "cell_type": "code",
   "execution_count": 122,
   "metadata": {},
   "outputs": [
    {
     "output_type": "execute_result",
     "data": {
      "text/plain": [
       "array([1., 1., 1., 1., 1.])"
      ]
     },
     "metadata": {},
     "execution_count": 122
    }
   ],
   "source": [
    "cross_val_score(GradientBoostingClassifier(), X, y)"
   ]
  },
  {
   "cell_type": "code",
   "execution_count": 123,
   "metadata": {},
   "outputs": [
    {
     "output_type": "execute_result",
     "data": {
      "text/plain": [
       "     Age at Histological Diagnosis  Weight (lbs)  Days between CT and surgery  \\\n",
       "0                               34        -999.0                            9   \n",
       "1                               33        -999.0                            3   \n",
       "2                               69        -999.0                           28   \n",
       "3                               80        -999.0                           47   \n",
       "4                               76        -999.0                            2   \n",
       "..                             ...           ...                          ...   \n",
       "206                             75         184.0                           14   \n",
       "207                             61         231.5                           72   \n",
       "208                             52        -999.0                            8   \n",
       "209                             67         158.0                           65   \n",
       "210                             68         229.0                           51   \n",
       "\n",
       "     Quit Smoking  Gender_Female  Gender_Male  Ethnicity_African-American  \\\n",
       "0            True              0            1                           0   \n",
       "1            True              1            0                           0   \n",
       "2            True              1            0                           0   \n",
       "3            True              1            0                           0   \n",
       "4           False              0            1                           0   \n",
       "..            ...            ...          ...                         ...   \n",
       "206         False              0            1                           0   \n",
       "207         False              0            1                           0   \n",
       "208          True              1            0                           0   \n",
       "209         False              0            1                           0   \n",
       "210          True              0            1                           0   \n",
       "\n",
       "     Ethnicity_Asian  Ethnicity_Caucasian  Ethnicity_Hispanic/Latino  ...  \\\n",
       "0                  0                    0                          0  ...   \n",
       "1                  0                    0                          0  ...   \n",
       "2                  0                    0                          0  ...   \n",
       "3                  0                    0                          0  ...   \n",
       "4                  0                    0                          0  ...   \n",
       "..               ...                  ...                        ...  ...   \n",
       "206                0                    1                          0  ...   \n",
       "207                0                    1                          0  ...   \n",
       "208                0                    1                          0  ...   \n",
       "209                1                    0                          0  ...   \n",
       "210                0                    1                          0  ...   \n",
       "\n",
       "     ALK translocation status_Wildtype  Adjuvant Treatment_No  \\\n",
       "0                                    1                      1   \n",
       "1                                    0                      1   \n",
       "2                                    1                      1   \n",
       "3                                    1                      1   \n",
       "4                                    1                      1   \n",
       "..                                 ...                    ...   \n",
       "206                                  0                      1   \n",
       "207                                  0                      0   \n",
       "208                                  1                      1   \n",
       "209                                  1                      1   \n",
       "210                                  0                      0   \n",
       "\n",
       "     Adjuvant Treatment_Yes  Chemotherapy_No  Chemotherapy_Yes  Radiation_No  \\\n",
       "0                         0                1                 0             1   \n",
       "1                         0                1                 0             1   \n",
       "2                         0                1                 0             1   \n",
       "3                         0                1                 0             1   \n",
       "4                         0                1                 0             1   \n",
       "..                      ...              ...               ...           ...   \n",
       "206                       0                1                 0             1   \n",
       "207                       1                0                 1             1   \n",
       "208                       0                1                 0             1   \n",
       "209                       0                1                 0             1   \n",
       "210                       1                0                 1             1   \n",
       "\n",
       "     Radiation_Yes  Recurrence Location_distant  Recurrence Location_local  \\\n",
       "0                0                            1                          0   \n",
       "1                0                            0                          0   \n",
       "2                0                            0                          0   \n",
       "3                0                            0                          0   \n",
       "4                0                            1                          0   \n",
       "..             ...                          ...                        ...   \n",
       "206              0                            0                          0   \n",
       "207              0                            0                          0   \n",
       "208              0                            0                          0   \n",
       "209              0                            0                          0   \n",
       "210              0                            1                          0   \n",
       "\n",
       "     Recurrence Location_regional  \n",
       "0                               0  \n",
       "1                               0  \n",
       "2                               0  \n",
       "3                               0  \n",
       "4                               0  \n",
       "..                            ...  \n",
       "206                             0  \n",
       "207                             0  \n",
       "208                             0  \n",
       "209                             0  \n",
       "210                             0  \n",
       "\n",
       "[211 rows x 162 columns]"
      ],
      "text/html": "<div>\n<style scoped>\n    .dataframe tbody tr th:only-of-type {\n        vertical-align: middle;\n    }\n\n    .dataframe tbody tr th {\n        vertical-align: top;\n    }\n\n    .dataframe thead th {\n        text-align: right;\n    }\n</style>\n<table border=\"1\" class=\"dataframe\">\n  <thead>\n    <tr style=\"text-align: right;\">\n      <th></th>\n      <th>Age at Histological Diagnosis</th>\n      <th>Weight (lbs)</th>\n      <th>Days between CT and surgery</th>\n      <th>Quit Smoking</th>\n      <th>Gender_Female</th>\n      <th>Gender_Male</th>\n      <th>Ethnicity_African-American</th>\n      <th>Ethnicity_Asian</th>\n      <th>Ethnicity_Caucasian</th>\n      <th>Ethnicity_Hispanic/Latino</th>\n      <th>...</th>\n      <th>ALK translocation status_Wildtype</th>\n      <th>Adjuvant Treatment_No</th>\n      <th>Adjuvant Treatment_Yes</th>\n      <th>Chemotherapy_No</th>\n      <th>Chemotherapy_Yes</th>\n      <th>Radiation_No</th>\n      <th>Radiation_Yes</th>\n      <th>Recurrence Location_distant</th>\n      <th>Recurrence Location_local</th>\n      <th>Recurrence Location_regional</th>\n    </tr>\n  </thead>\n  <tbody>\n    <tr>\n      <th>0</th>\n      <td>34</td>\n      <td>-999.0</td>\n      <td>9</td>\n      <td>True</td>\n      <td>0</td>\n      <td>1</td>\n      <td>0</td>\n      <td>0</td>\n      <td>0</td>\n      <td>0</td>\n      <td>...</td>\n      <td>1</td>\n      <td>1</td>\n      <td>0</td>\n      <td>1</td>\n      <td>0</td>\n      <td>1</td>\n      <td>0</td>\n      <td>1</td>\n      <td>0</td>\n      <td>0</td>\n    </tr>\n    <tr>\n      <th>1</th>\n      <td>33</td>\n      <td>-999.0</td>\n      <td>3</td>\n      <td>True</td>\n      <td>1</td>\n      <td>0</td>\n      <td>0</td>\n      <td>0</td>\n      <td>0</td>\n      <td>0</td>\n      <td>...</td>\n      <td>0</td>\n      <td>1</td>\n      <td>0</td>\n      <td>1</td>\n      <td>0</td>\n      <td>1</td>\n      <td>0</td>\n      <td>0</td>\n      <td>0</td>\n      <td>0</td>\n    </tr>\n    <tr>\n      <th>2</th>\n      <td>69</td>\n      <td>-999.0</td>\n      <td>28</td>\n      <td>True</td>\n      <td>1</td>\n      <td>0</td>\n      <td>0</td>\n      <td>0</td>\n      <td>0</td>\n      <td>0</td>\n      <td>...</td>\n      <td>1</td>\n      <td>1</td>\n      <td>0</td>\n      <td>1</td>\n      <td>0</td>\n      <td>1</td>\n      <td>0</td>\n      <td>0</td>\n      <td>0</td>\n      <td>0</td>\n    </tr>\n    <tr>\n      <th>3</th>\n      <td>80</td>\n      <td>-999.0</td>\n      <td>47</td>\n      <td>True</td>\n      <td>1</td>\n      <td>0</td>\n      <td>0</td>\n      <td>0</td>\n      <td>0</td>\n      <td>0</td>\n      <td>...</td>\n      <td>1</td>\n      <td>1</td>\n      <td>0</td>\n      <td>1</td>\n      <td>0</td>\n      <td>1</td>\n      <td>0</td>\n      <td>0</td>\n      <td>0</td>\n      <td>0</td>\n    </tr>\n    <tr>\n      <th>4</th>\n      <td>76</td>\n      <td>-999.0</td>\n      <td>2</td>\n      <td>False</td>\n      <td>0</td>\n      <td>1</td>\n      <td>0</td>\n      <td>0</td>\n      <td>0</td>\n      <td>0</td>\n      <td>...</td>\n      <td>1</td>\n      <td>1</td>\n      <td>0</td>\n      <td>1</td>\n      <td>0</td>\n      <td>1</td>\n      <td>0</td>\n      <td>1</td>\n      <td>0</td>\n      <td>0</td>\n    </tr>\n    <tr>\n      <th>...</th>\n      <td>...</td>\n      <td>...</td>\n      <td>...</td>\n      <td>...</td>\n      <td>...</td>\n      <td>...</td>\n      <td>...</td>\n      <td>...</td>\n      <td>...</td>\n      <td>...</td>\n      <td>...</td>\n      <td>...</td>\n      <td>...</td>\n      <td>...</td>\n      <td>...</td>\n      <td>...</td>\n      <td>...</td>\n      <td>...</td>\n      <td>...</td>\n      <td>...</td>\n      <td>...</td>\n    </tr>\n    <tr>\n      <th>206</th>\n      <td>75</td>\n      <td>184.0</td>\n      <td>14</td>\n      <td>False</td>\n      <td>0</td>\n      <td>1</td>\n      <td>0</td>\n      <td>0</td>\n      <td>1</td>\n      <td>0</td>\n      <td>...</td>\n      <td>0</td>\n      <td>1</td>\n      <td>0</td>\n      <td>1</td>\n      <td>0</td>\n      <td>1</td>\n      <td>0</td>\n      <td>0</td>\n      <td>0</td>\n      <td>0</td>\n    </tr>\n    <tr>\n      <th>207</th>\n      <td>61</td>\n      <td>231.5</td>\n      <td>72</td>\n      <td>False</td>\n      <td>0</td>\n      <td>1</td>\n      <td>0</td>\n      <td>0</td>\n      <td>1</td>\n      <td>0</td>\n      <td>...</td>\n      <td>0</td>\n      <td>0</td>\n      <td>1</td>\n      <td>0</td>\n      <td>1</td>\n      <td>1</td>\n      <td>0</td>\n      <td>0</td>\n      <td>0</td>\n      <td>0</td>\n    </tr>\n    <tr>\n      <th>208</th>\n      <td>52</td>\n      <td>-999.0</td>\n      <td>8</td>\n      <td>True</td>\n      <td>1</td>\n      <td>0</td>\n      <td>0</td>\n      <td>0</td>\n      <td>1</td>\n      <td>0</td>\n      <td>...</td>\n      <td>1</td>\n      <td>1</td>\n      <td>0</td>\n      <td>1</td>\n      <td>0</td>\n      <td>1</td>\n      <td>0</td>\n      <td>0</td>\n      <td>0</td>\n      <td>0</td>\n    </tr>\n    <tr>\n      <th>209</th>\n      <td>67</td>\n      <td>158.0</td>\n      <td>65</td>\n      <td>False</td>\n      <td>0</td>\n      <td>1</td>\n      <td>0</td>\n      <td>1</td>\n      <td>0</td>\n      <td>0</td>\n      <td>...</td>\n      <td>1</td>\n      <td>1</td>\n      <td>0</td>\n      <td>1</td>\n      <td>0</td>\n      <td>1</td>\n      <td>0</td>\n      <td>0</td>\n      <td>0</td>\n      <td>0</td>\n    </tr>\n    <tr>\n      <th>210</th>\n      <td>68</td>\n      <td>229.0</td>\n      <td>51</td>\n      <td>True</td>\n      <td>0</td>\n      <td>1</td>\n      <td>0</td>\n      <td>0</td>\n      <td>1</td>\n      <td>0</td>\n      <td>...</td>\n      <td>0</td>\n      <td>0</td>\n      <td>1</td>\n      <td>0</td>\n      <td>1</td>\n      <td>1</td>\n      <td>0</td>\n      <td>1</td>\n      <td>0</td>\n      <td>0</td>\n    </tr>\n  </tbody>\n</table>\n<p>211 rows × 162 columns</p>\n</div>"
     },
     "metadata": {},
     "execution_count": 123
    }
   ],
   "source": [
    "X"
   ]
  },
  {
   "cell_type": "code",
   "execution_count": null,
   "metadata": {},
   "outputs": [],
   "source": []
  }
 ],
 "metadata": {
  "kernelspec": {
   "display_name": "Python 3",
   "language": "python",
   "name": "python3"
  },
  "language_info": {
   "file_extension": ".py",
   "mimetype": "text/x-python",
   "name": "python",
   "version": "3.8.3-final"
  }
 },
 "nbformat": 4,
 "nbformat_minor": 4
}
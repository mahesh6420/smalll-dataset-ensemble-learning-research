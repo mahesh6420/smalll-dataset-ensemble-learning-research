{
 "cells": [
  {
   "cell_type": "markdown",
   "metadata": {},
   "source": [
    "### Process\n",
    "- import dependencies\n",
    "- load data\n",
    "- data preprocessing\n",
    "    - feature selection\n",
    "    - pearson correlation\n",
    "    - \n",
    "- test-train split\n",
    "- do classification\n",
    "    - bagging\n",
    "    - boosting\n",
    "    - stacking\n",
    "    - traditional ml techniques\n",
    "- tables comparing accuracies, precesion, recall, f1\n",
    "- different graphs"
   ]
  },
  {
   "cell_type": "code",
   "execution_count": 1,
   "metadata": {},
   "outputs": [],
   "source": [
    "import pandas as pd\n",
    "import numpy as np\n",
    "import sklearn\n",
    "import matplotlib.pyplot as plt"
   ]
  },
  {
   "cell_type": "code",
   "execution_count": 2,
   "metadata": {},
   "outputs": [],
   "source": [
    "clinical_data = pd.read_csv('data/recent-data.csv', index_col=False)"
   ]
  },
  {
   "cell_type": "code",
   "execution_count": 3,
   "metadata": {},
   "outputs": [
    {
     "data": {
      "text/plain": [
       "Index(['Case ID', 'Patient affiliation', 'Age at Histological Diagnosis',\n",
       "       'Weight (lbs)', 'Gender', 'Ethnicity', 'Smoking status', 'Pack Years',\n",
       "       'Quit Smoking Year', '%GG', 'Tumor Location (choice=RUL)',\n",
       "       'Tumor Location (choice=RML)', 'Tumor Location (choice=RLL)',\n",
       "       'Tumor Location (choice=LUL)', 'Tumor Location (choice=LLL)',\n",
       "       'Tumor Location (choice=L Lingula)', 'Tumor Location (choice=Unknown)',\n",
       "       'Histology ', 'Pathological T stage', 'Pathological N stage',\n",
       "       'Pathological M stage', 'Histopathological Grade',\n",
       "       'Lymphovascular invasion',\n",
       "       'Pleural invasion (elastic, visceral, or parietal)',\n",
       "       'EGFR mutation status', 'KRAS mutation status',\n",
       "       'ALK translocation status', 'Adjuvant Treatment', 'Chemotherapy',\n",
       "       'Radiation', 'Recurrence', 'Recurrence Location', 'Date of Recurrence',\n",
       "       'Date of Last Known Alive', 'Survival Status', 'Date of Death',\n",
       "       'Time to Death (days)', 'CT Date', 'Days between CT and surgery',\n",
       "       'PET Date'],\n",
       "      dtype='object')"
      ]
     },
     "execution_count": 3,
     "metadata": {},
     "output_type": "execute_result"
    }
   ],
   "source": [
    "clinical_data.columns"
   ]
  },
  {
   "cell_type": "code",
   "execution_count": 6,
   "metadata": {},
   "outputs": [
    {
     "data": {
      "text/plain": [
       "40"
      ]
     },
     "execution_count": 6,
     "metadata": {},
     "output_type": "execute_result"
    }
   ],
   "source": [
    "len(clinical_data.columns)"
   ]
  },
  {
   "cell_type": "code",
   "execution_count": 241,
   "metadata": {},
   "outputs": [
    {
     "data": {
      "text/plain": [
       "49"
      ]
     },
     "execution_count": 241,
     "metadata": {},
     "output_type": "execute_result"
    }
   ],
   "source": [
    "clinical_data['Case ID'].str.startswith('AMC').sum()"
   ]
  },
  {
   "cell_type": "code",
   "execution_count": 7,
   "metadata": {},
   "outputs": [
    {
     "data": {
      "text/html": [
       "<div>\n",
       "<style scoped>\n",
       "    .dataframe tbody tr th:only-of-type {\n",
       "        vertical-align: middle;\n",
       "    }\n",
       "\n",
       "    .dataframe tbody tr th {\n",
       "        vertical-align: top;\n",
       "    }\n",
       "\n",
       "    .dataframe thead th {\n",
       "        text-align: right;\n",
       "    }\n",
       "</style>\n",
       "<table border=\"1\" class=\"dataframe\">\n",
       "  <thead>\n",
       "    <tr style=\"text-align: right;\">\n",
       "      <th></th>\n",
       "      <th>Case ID</th>\n",
       "      <th>Patient affiliation</th>\n",
       "      <th>Age at Histological Diagnosis</th>\n",
       "      <th>Weight (lbs)</th>\n",
       "      <th>Gender</th>\n",
       "      <th>Ethnicity</th>\n",
       "      <th>Smoking status</th>\n",
       "      <th>Pack Years</th>\n",
       "      <th>Quit Smoking Year</th>\n",
       "      <th>%GG</th>\n",
       "      <th>...</th>\n",
       "      <th>Recurrence</th>\n",
       "      <th>Recurrence Location</th>\n",
       "      <th>Date of Recurrence</th>\n",
       "      <th>Date of Last Known Alive</th>\n",
       "      <th>Survival Status</th>\n",
       "      <th>Date of Death</th>\n",
       "      <th>Time to Death (days)</th>\n",
       "      <th>CT Date</th>\n",
       "      <th>Days between CT and surgery</th>\n",
       "      <th>PET Date</th>\n",
       "    </tr>\n",
       "  </thead>\n",
       "  <tbody>\n",
       "    <tr>\n",
       "      <th>0</th>\n",
       "      <td>AMC-001</td>\n",
       "      <td>Stanford</td>\n",
       "      <td>34</td>\n",
       "      <td>Not Collected</td>\n",
       "      <td>Male</td>\n",
       "      <td>Not Recorded In Database</td>\n",
       "      <td>Nonsmoker</td>\n",
       "      <td>NaN</td>\n",
       "      <td>NaN</td>\n",
       "      <td>Not Assessed</td>\n",
       "      <td>...</td>\n",
       "      <td>yes</td>\n",
       "      <td>distant</td>\n",
       "      <td>10/7/1994</td>\n",
       "      <td>1/7/1997</td>\n",
       "      <td>Dead</td>\n",
       "      <td>1/7/1997</td>\n",
       "      <td>872.0</td>\n",
       "      <td>8/10/1994</td>\n",
       "      <td>9</td>\n",
       "      <td>Not Collected</td>\n",
       "    </tr>\n",
       "    <tr>\n",
       "      <th>1</th>\n",
       "      <td>AMC-002</td>\n",
       "      <td>Stanford</td>\n",
       "      <td>33</td>\n",
       "      <td>Not Collected</td>\n",
       "      <td>Female</td>\n",
       "      <td>Not Recorded In Database</td>\n",
       "      <td>Nonsmoker</td>\n",
       "      <td>NaN</td>\n",
       "      <td>NaN</td>\n",
       "      <td>Not Assessed</td>\n",
       "      <td>...</td>\n",
       "      <td>no</td>\n",
       "      <td>NaN</td>\n",
       "      <td>NaN</td>\n",
       "      <td>3/20/1992</td>\n",
       "      <td>Alive</td>\n",
       "      <td>NaN</td>\n",
       "      <td>NaN</td>\n",
       "      <td>2/19/1992</td>\n",
       "      <td>3</td>\n",
       "      <td>Not Collected</td>\n",
       "    </tr>\n",
       "    <tr>\n",
       "      <th>2</th>\n",
       "      <td>AMC-003</td>\n",
       "      <td>Stanford</td>\n",
       "      <td>69</td>\n",
       "      <td>Not Collected</td>\n",
       "      <td>Female</td>\n",
       "      <td>Not Recorded In Database</td>\n",
       "      <td>Nonsmoker</td>\n",
       "      <td>NaN</td>\n",
       "      <td>NaN</td>\n",
       "      <td>Not Assessed</td>\n",
       "      <td>...</td>\n",
       "      <td>no</td>\n",
       "      <td>NaN</td>\n",
       "      <td>NaN</td>\n",
       "      <td>6/19/1996</td>\n",
       "      <td>Alive</td>\n",
       "      <td>NaN</td>\n",
       "      <td>NaN</td>\n",
       "      <td>2/23/1995</td>\n",
       "      <td>28</td>\n",
       "      <td>Not Collected</td>\n",
       "    </tr>\n",
       "  </tbody>\n",
       "</table>\n",
       "<p>3 rows × 40 columns</p>\n",
       "</div>"
      ],
      "text/plain": [
       "   Case ID Patient affiliation  Age at Histological Diagnosis   Weight (lbs)  \\\n",
       "0  AMC-001            Stanford                             34  Not Collected   \n",
       "1  AMC-002            Stanford                             33  Not Collected   \n",
       "2  AMC-003            Stanford                             69  Not Collected   \n",
       "\n",
       "   Gender                 Ethnicity Smoking status Pack Years  \\\n",
       "0    Male  Not Recorded In Database      Nonsmoker        NaN   \n",
       "1  Female  Not Recorded In Database      Nonsmoker        NaN   \n",
       "2  Female  Not Recorded In Database      Nonsmoker        NaN   \n",
       "\n",
       "   Quit Smoking Year           %GG  ... Recurrence Recurrence Location  \\\n",
       "0                NaN  Not Assessed  ...        yes             distant   \n",
       "1                NaN  Not Assessed  ...         no                 NaN   \n",
       "2                NaN  Not Assessed  ...         no                 NaN   \n",
       "\n",
       "  Date of Recurrence Date of Last Known Alive Survival Status Date of Death  \\\n",
       "0          10/7/1994                 1/7/1997            Dead      1/7/1997   \n",
       "1                NaN                3/20/1992           Alive           NaN   \n",
       "2                NaN                6/19/1996           Alive           NaN   \n",
       "\n",
       "  Time to Death (days)    CT Date Days between CT and surgery       PET Date  \n",
       "0                872.0  8/10/1994                           9  Not Collected  \n",
       "1                  NaN  2/19/1992                           3  Not Collected  \n",
       "2                  NaN  2/23/1995                          28  Not Collected  \n",
       "\n",
       "[3 rows x 40 columns]"
      ]
     },
     "execution_count": 7,
     "metadata": {},
     "output_type": "execute_result"
    }
   ],
   "source": [
    "clinical_data.head(3)"
   ]
  },
  {
   "cell_type": "markdown",
   "metadata": {},
   "source": [
    "## Data Pre-processing"
   ]
  },
  {
   "cell_type": "code",
   "execution_count": 243,
   "metadata": {},
   "outputs": [
    {
     "data": {
      "text/plain": [
       "Index(['Case ID', 'Patient affiliation', 'Age at Histological Diagnosis',\n",
       "       'Weight (lbs)', 'Gender', 'Ethnicity', 'Smoking status', 'Pack Years',\n",
       "       'Quit Smoking Year', '%GG', 'Tumor Location (choice=RUL)',\n",
       "       'Tumor Location (choice=RML)', 'Tumor Location (choice=RLL)',\n",
       "       'Tumor Location (choice=LUL)', 'Tumor Location (choice=LLL)',\n",
       "       'Tumor Location (choice=L Lingula)', 'Tumor Location (choice=Unknown)',\n",
       "       'Histology ', 'Pathological T stage', 'Pathological N stage',\n",
       "       'Pathological M stage', 'Histopathological Grade',\n",
       "       'Lymphovascular invasion',\n",
       "       'Pleural invasion (elastic, visceral, or parietal)',\n",
       "       'EGFR mutation status', 'KRAS mutation status',\n",
       "       'ALK translocation status', 'Adjuvant Treatment', 'Chemotherapy',\n",
       "       'Radiation', 'Recurrence', 'Recurrence Location', 'Date of Recurrence',\n",
       "       'Date of Last Known Alive', 'Survival Status', 'Date of Death',\n",
       "       'Time to Death (days)', 'CT Date', 'Days between CT and surgery',\n",
       "       'PET Date'],\n",
       "      dtype='object')"
      ]
     },
     "execution_count": 243,
     "metadata": {},
     "output_type": "execute_result"
    }
   ],
   "source": [
    "clinical_data.columns"
   ]
  },
  {
   "cell_type": "code",
   "execution_count": 244,
   "metadata": {},
   "outputs": [],
   "source": [
    "#remove caseid and patient affiliation\n",
    "clinical_data.drop(columns=['Case ID', 'Patient affiliation'], inplace=True)\n"
   ]
  },
  {
   "cell_type": "code",
   "execution_count": 245,
   "metadata": {},
   "outputs": [
    {
     "data": {
      "text/plain": [
       "'Not collected'"
      ]
     },
     "execution_count": 245,
     "metadata": {},
     "output_type": "execute_result"
    }
   ],
   "source": [
    "clinical_data.iloc[48]['Recurrence']"
   ]
  },
  {
   "cell_type": "code",
   "execution_count": 246,
   "metadata": {},
   "outputs": [],
   "source": [
    "clinical_data.drop(index=[48], inplace=True)"
   ]
  },
  {
   "cell_type": "code",
   "execution_count": 247,
   "metadata": {},
   "outputs": [
    {
     "data": {
      "text/plain": [
       "'no'"
      ]
     },
     "execution_count": 247,
     "metadata": {},
     "output_type": "execute_result"
    }
   ],
   "source": [
    "clinical_data.iloc[48]['Recurrence']"
   ]
  },
  {
   "cell_type": "code",
   "execution_count": null,
   "metadata": {},
   "outputs": [],
   "source": []
  },
  {
   "cell_type": "code",
   "execution_count": 248,
   "metadata": {},
   "outputs": [
    {
     "data": {
      "text/plain": [
       "Index(['Age at Histological Diagnosis', 'Weight (lbs)', 'Gender', 'Ethnicity',\n",
       "       'Smoking status', 'Pack Years', 'Quit Smoking Year', '%GG',\n",
       "       'Tumor Location (choice=RUL)', 'Tumor Location (choice=RML)',\n",
       "       'Tumor Location (choice=RLL)', 'Tumor Location (choice=LUL)',\n",
       "       'Tumor Location (choice=LLL)', 'Tumor Location (choice=L Lingula)',\n",
       "       'Tumor Location (choice=Unknown)', 'Histology ', 'Pathological T stage',\n",
       "       'Pathological N stage', 'Pathological M stage',\n",
       "       'Histopathological Grade', 'Lymphovascular invasion',\n",
       "       'Pleural invasion (elastic, visceral, or parietal)',\n",
       "       'EGFR mutation status', 'KRAS mutation status',\n",
       "       'ALK translocation status', 'Adjuvant Treatment', 'Chemotherapy',\n",
       "       'Radiation', 'Recurrence', 'Recurrence Location', 'Date of Recurrence',\n",
       "       'Date of Last Known Alive', 'Survival Status', 'Date of Death',\n",
       "       'Time to Death (days)', 'CT Date', 'Days between CT and surgery',\n",
       "       'PET Date'],\n",
       "      dtype='object')"
      ]
     },
     "execution_count": 248,
     "metadata": {},
     "output_type": "execute_result"
    }
   ],
   "source": [
    "clinical_data.columns"
   ]
  },
  {
   "cell_type": "code",
   "execution_count": 249,
   "metadata": {},
   "outputs": [
    {
     "data": {
      "text/plain": [
       "<bound method NDFrame.describe of 0      Not Collected\n",
       "1      Not Collected\n",
       "2      Not Collected\n",
       "3      Not Collected\n",
       "4      Not Collected\n",
       "           ...      \n",
       "206              184\n",
       "207            231.5\n",
       "208    Not Collected\n",
       "209              158\n",
       "210              229\n",
       "Name: Weight (lbs), Length: 210, dtype: object>"
      ]
     },
     "execution_count": 249,
     "metadata": {},
     "output_type": "execute_result"
    }
   ],
   "source": [
    "clinical_data['Weight (lbs)'].describe"
   ]
  },
  {
   "cell_type": "code",
   "execution_count": 250,
   "metadata": {},
   "outputs": [],
   "source": [
    "#repacing not collected with nan and calculating medeian to replace nan\n",
    "clinical_data['Weight (lbs)'].replace('Not Collected', 'NaN', inplace=True)\n",
    "clinical_data['Weight (lbs)'].replace('NaN', np.nan, inplace=True)"
   ]
  },
  {
   "cell_type": "code",
   "execution_count": 251,
   "metadata": {},
   "outputs": [],
   "source": [
    "#replace Not Collected with NaN\n",
    "clinical_data.replace('Not Collected', 'NaN', inplace=True)\n",
    "clinical_data.replace('Not collected', 'NaN', inplace=True)\n",
    "clinical_data.replace('Not Recorded In Database', 'NaN', inplace=True)\n",
    "clinical_data.replace('NaN', np.nan, inplace=True)"
   ]
  },
  {
   "cell_type": "code",
   "execution_count": 252,
   "metadata": {},
   "outputs": [
    {
     "data": {
      "text/plain": [
       "count         152\n",
       "unique        101\n",
       "top       200.655\n",
       "freq            7\n",
       "Name: Weight (lbs), dtype: object"
      ]
     },
     "execution_count": 252,
     "metadata": {},
     "output_type": "execute_result"
    }
   ],
   "source": [
    "clinical_data['Weight (lbs)'].describe()"
   ]
  },
  {
   "cell_type": "code",
   "execution_count": 253,
   "metadata": {},
   "outputs": [],
   "source": [
    "median_value = clinical_data['Weight (lbs)'].median()"
   ]
  },
  {
   "cell_type": "code",
   "execution_count": 254,
   "metadata": {},
   "outputs": [],
   "source": [
    "clinical_data['Weight (lbs)'].replace(np.nan, median_value, inplace=True)"
   ]
  },
  {
   "cell_type": "code",
   "execution_count": 255,
   "metadata": {},
   "outputs": [
    {
     "data": {
      "text/plain": [
       "count     210.0\n",
       "unique    102.0\n",
       "top       171.0\n",
       "freq       58.0\n",
       "Name: Weight (lbs), dtype: float64"
      ]
     },
     "execution_count": 255,
     "metadata": {},
     "output_type": "execute_result"
    }
   ],
   "source": [
    "clinical_data['Weight (lbs)'].describe()"
   ]
  },
  {
   "cell_type": "code",
   "execution_count": 256,
   "metadata": {},
   "outputs": [
    {
     "data": {
      "text/plain": [
       "Index(['Age at Histological Diagnosis', 'Weight (lbs)', 'Gender', 'Ethnicity',\n",
       "       'Smoking status', 'Pack Years', 'Quit Smoking Year', '%GG',\n",
       "       'Tumor Location (choice=RUL)', 'Tumor Location (choice=RML)',\n",
       "       'Tumor Location (choice=RLL)', 'Tumor Location (choice=LUL)',\n",
       "       'Tumor Location (choice=LLL)', 'Tumor Location (choice=L Lingula)',\n",
       "       'Tumor Location (choice=Unknown)', 'Histology ', 'Pathological T stage',\n",
       "       'Pathological N stage', 'Pathological M stage',\n",
       "       'Histopathological Grade', 'Lymphovascular invasion',\n",
       "       'Pleural invasion (elastic, visceral, or parietal)',\n",
       "       'EGFR mutation status', 'KRAS mutation status',\n",
       "       'ALK translocation status', 'Adjuvant Treatment', 'Chemotherapy',\n",
       "       'Radiation', 'Recurrence', 'Recurrence Location', 'Date of Recurrence',\n",
       "       'Date of Last Known Alive', 'Survival Status', 'Date of Death',\n",
       "       'Time to Death (days)', 'CT Date', 'Days between CT and surgery',\n",
       "       'PET Date'],\n",
       "      dtype='object')"
      ]
     },
     "execution_count": 256,
     "metadata": {},
     "output_type": "execute_result"
    }
   ],
   "source": [
    "clinical_data.columns"
   ]
  },
  {
   "cell_type": "code",
   "execution_count": 257,
   "metadata": {},
   "outputs": [],
   "source": [
    "gender = pd.Categorical(clinical_data['Gender'])\n",
    "#remove old gender column\n",
    "clinical_data.drop(columns=['Gender'])\n",
    "\n",
    "#create new gender column\n",
    "clinical_data['Gender'] = gender"
   ]
  },
  {
   "cell_type": "code",
   "execution_count": 258,
   "metadata": {},
   "outputs": [
    {
     "data": {
      "text/plain": [
       "0        Male\n",
       "1      Female\n",
       "2      Female\n",
       "3      Female\n",
       "4        Male\n",
       "        ...  \n",
       "206      Male\n",
       "207      Male\n",
       "208    Female\n",
       "209      Male\n",
       "210      Male\n",
       "Name: Gender, Length: 210, dtype: category\n",
       "Categories (2, object): ['Female', 'Male']"
      ]
     },
     "execution_count": 258,
     "metadata": {},
     "output_type": "execute_result"
    }
   ],
   "source": [
    "clinical_data.Gender"
   ]
  },
  {
   "cell_type": "code",
   "execution_count": 259,
   "metadata": {},
   "outputs": [
    {
     "data": {
      "text/plain": [
       "Index(['Age at Histological Diagnosis', 'Weight (lbs)', 'Gender', 'Ethnicity',\n",
       "       'Smoking status', 'Pack Years', 'Quit Smoking Year', '%GG',\n",
       "       'Tumor Location (choice=RUL)', 'Tumor Location (choice=RML)',\n",
       "       'Tumor Location (choice=RLL)', 'Tumor Location (choice=LUL)',\n",
       "       'Tumor Location (choice=LLL)', 'Tumor Location (choice=L Lingula)',\n",
       "       'Tumor Location (choice=Unknown)', 'Histology ', 'Pathological T stage',\n",
       "       'Pathological N stage', 'Pathological M stage',\n",
       "       'Histopathological Grade', 'Lymphovascular invasion',\n",
       "       'Pleural invasion (elastic, visceral, or parietal)',\n",
       "       'EGFR mutation status', 'KRAS mutation status',\n",
       "       'ALK translocation status', 'Adjuvant Treatment', 'Chemotherapy',\n",
       "       'Radiation', 'Recurrence', 'Recurrence Location', 'Date of Recurrence',\n",
       "       'Date of Last Known Alive', 'Survival Status', 'Date of Death',\n",
       "       'Time to Death (days)', 'CT Date', 'Days between CT and surgery',\n",
       "       'PET Date'],\n",
       "      dtype='object')"
      ]
     },
     "execution_count": 259,
     "metadata": {},
     "output_type": "execute_result"
    }
   ],
   "source": [
    "clinical_data.columns"
   ]
  },
  {
   "cell_type": "code",
   "execution_count": 260,
   "metadata": {},
   "outputs": [],
   "source": [
    "smoking_status = pd.Categorical(clinical_data['Smoking status'])\n",
    "#remove old smoking_status column\n",
    "clinical_data.drop(columns=['Smoking status'])\n",
    "\n",
    "#create new smoking_status column\n",
    "clinical_data['Smoking status'] = smoking_status"
   ]
  },
  {
   "cell_type": "code",
   "execution_count": 261,
   "metadata": {},
   "outputs": [],
   "source": [
    "gg = pd.Categorical(clinical_data['%GG'])\n",
    "#remove old gg column\n",
    "clinical_data.drop(columns=['%GG'])\n",
    "\n",
    "#create new gg column\n",
    "clinical_data['%GG'] = gg"
   ]
  },
  {
   "cell_type": "code",
   "execution_count": 262,
   "metadata": {},
   "outputs": [],
   "source": [
    "from numpy import NaN\n",
    "\n",
    "\n",
    "clinical_data['Tumor Location'] = NaN"
   ]
  },
  {
   "cell_type": "code",
   "execution_count": null,
   "metadata": {},
   "outputs": [],
   "source": []
  },
  {
   "cell_type": "code",
   "execution_count": null,
   "metadata": {},
   "outputs": [],
   "source": []
  },
  {
   "cell_type": "markdown",
   "metadata": {},
   "source": [
    "## Functions"
   ]
  },
  {
   "cell_type": "code",
   "execution_count": 263,
   "metadata": {},
   "outputs": [],
   "source": [
    "def To_Categorical(column_name):\n",
    "    column = pd.Categorical(clinical_data[column_name])\n",
    "    #remove old smoking_status column\n",
    "    clinical_data.drop(columns=[column_name])\n",
    "\n",
    "    #create new smoking_status column\n",
    "    clinical_data[column_name] = column"
   ]
  },
  {
   "cell_type": "code",
   "execution_count": 264,
   "metadata": {},
   "outputs": [],
   "source": [
    "# To_Categorical('Tumor Location (choice=RUL)')\n",
    "# To_Categorical('Tumor Location (choice=RML)')\n",
    "# To_Categorical('Tumor Location (choice=RLL)')\n",
    "# To_Categorical('Tumor Location (choice=LUL)')\n",
    "# To_Categorical('Tumor Location (choice=LLL)')\n",
    "# To_Categorical('Tumor Location (choice=Unknown)')\n",
    "# To_Categorical('Tumor Location (choice=L Lingula)')"
   ]
  },
  {
   "cell_type": "code",
   "execution_count": 265,
   "metadata": {},
   "outputs": [],
   "source": [
    "clinical_data.replace({'Tumor Location (choice=L Lingula)': {'Checked':1, 'Unchecked':0}}, inplace=True)\n",
    "clinical_data.replace({'Tumor Location (choice=RUL)': {'Checked':1, 'Unchecked':0}}, inplace=True)\n",
    "clinical_data.replace({'Tumor Location (choice=RML)': {'Checked':1, 'Unchecked':0}}, inplace=True)\n",
    "clinical_data.replace({'Tumor Location (choice=RLL)': {'Checked':1, 'Unchecked':0}}, inplace=True)\n",
    "clinical_data.replace({'Tumor Location (choice=LUL)': {'Checked':1, 'Unchecked':0}}, inplace=True)\n",
    "clinical_data.replace({'Tumor Location (choice=LLL)': {'Checked':1, 'Unchecked':0}}, inplace=True)\n",
    "clinical_data.replace({'Tumor Location (choice=Unknown)': {'Checked':1, 'Unchecked':0}}, inplace=True)"
   ]
  },
  {
   "cell_type": "code",
   "execution_count": 266,
   "metadata": {},
   "outputs": [],
   "source": [
    "clinical_data.drop(columns=['Tumor Location'], inplace=True)"
   ]
  },
  {
   "cell_type": "code",
   "execution_count": 267,
   "metadata": {},
   "outputs": [],
   "source": [
    "clinical_data['Histology'] = clinical_data['Histology ']\n",
    "clinical_data.drop(columns=['Histology '], inplace=True)"
   ]
  },
  {
   "cell_type": "code",
   "execution_count": 268,
   "metadata": {},
   "outputs": [],
   "source": [
    "To_Categorical('Histology')"
   ]
  },
  {
   "cell_type": "code",
   "execution_count": 269,
   "metadata": {},
   "outputs": [],
   "source": [
    "To_Categorical('Pathological T stage')\n",
    "To_Categorical('Pathological M stage')\n",
    "To_Categorical('Pathological N stage')"
   ]
  },
  {
   "cell_type": "code",
   "execution_count": 270,
   "metadata": {},
   "outputs": [],
   "source": [
    "To_Categorical('Histopathological Grade')"
   ]
  },
  {
   "cell_type": "code",
   "execution_count": 271,
   "metadata": {},
   "outputs": [],
   "source": [
    "To_Categorical('Lymphovascular invasion')"
   ]
  },
  {
   "cell_type": "code",
   "execution_count": 272,
   "metadata": {},
   "outputs": [],
   "source": [
    "# clinical_data['Pleural invasion (elastic, visceral, or parietal)'].value_counts()\n",
    "To_Categorical('Pleural invasion (elastic, visceral, or parietal)')"
   ]
  },
  {
   "cell_type": "code",
   "execution_count": 273,
   "metadata": {},
   "outputs": [],
   "source": [
    "# clinical_data['EGFR mutation status'].value_counts()\n",
    "To_Categorical('EGFR mutation status')"
   ]
  },
  {
   "cell_type": "code",
   "execution_count": 274,
   "metadata": {},
   "outputs": [],
   "source": [
    "# clinical_data['KRAS mutation status'].value_counts()\n",
    "To_Categorical('KRAS mutation status')"
   ]
  },
  {
   "cell_type": "code",
   "execution_count": 275,
   "metadata": {},
   "outputs": [],
   "source": [
    "clinical_data['Adjuvant Treatment'].value_counts()\n",
    "# To_Categorical('Adjuvant Treatment')\n",
    "clinical_data.replace({'Adjuvant Treatment': {'Yes':1, 'No':0}}, inplace=True)"
   ]
  },
  {
   "cell_type": "code",
   "execution_count": 276,
   "metadata": {},
   "outputs": [],
   "source": [
    "clinical_data['Chemotherapy'].value_counts()\n",
    "clinical_data.replace({'Chemotherapy': {'Yes':1, 'No':0}}, inplace=True)"
   ]
  },
  {
   "cell_type": "code",
   "execution_count": 277,
   "metadata": {},
   "outputs": [],
   "source": [
    "clinical_data['Radiation'].value_counts()\n",
    "clinical_data.replace({'Radiation': {'Yes':1, 'No':0}}, inplace=True)"
   ]
  },
  {
   "cell_type": "code",
   "execution_count": 278,
   "metadata": {},
   "outputs": [],
   "source": [
    "clinical_data['Recurrence'].value_counts()\n",
    "clinical_data.replace({'Recurrence': {'yes':1, 'no':0}}, inplace=True)\n",
    "# To_Categorical('Recurrence')"
   ]
  },
  {
   "cell_type": "code",
   "execution_count": 279,
   "metadata": {},
   "outputs": [],
   "source": [
    "\n",
    "# clinical_data['Recurrence Location'].value_counts()\n",
    "To_Categorical('Recurrence Location')"
   ]
  },
  {
   "cell_type": "code",
   "execution_count": 280,
   "metadata": {},
   "outputs": [],
   "source": [
    "# remove columns 'Date of Recurrence','Date of Last Known Alive', 'Survival Status', 'Date of Death',\n",
    "\n",
    "clinical_data.drop(columns=['Date of Recurrence','Date of Last Known Alive', 'Survival Status', 'Date of Death', 'Time to Death (days)', 'Recurrence Location'], inplace=True)\n",
    "clinical_data.drop(columns=['PET Date', 'CT Date'], inplace=True)\n",
    "clinical_data.drop(columns=['Quit Smoking Year'], inplace=True)"
   ]
  },
  {
   "cell_type": "code",
   "execution_count": 281,
   "metadata": {},
   "outputs": [
    {
     "data": {
      "text/plain": [
       "Adenocarcinoma                         171\n",
       "Squamous cell carcinoma                 35\n",
       "NSCLC NOS (not otherwise specified)      4\n",
       "Name: Histology, dtype: int64"
      ]
     },
     "execution_count": 281,
     "metadata": {},
     "output_type": "execute_result"
    }
   ],
   "source": [
    "\n",
    "clinical_data['Histology'].value_counts()\n",
    "# To_Categorical('Histology')"
   ]
  },
  {
   "cell_type": "code",
   "execution_count": 282,
   "metadata": {},
   "outputs": [
    {
     "data": {
      "text/plain": [
       "Index(['Age at Histological Diagnosis', 'Weight (lbs)', 'Gender', 'Ethnicity',\n",
       "       'Smoking status', 'Pack Years', '%GG', 'Tumor Location (choice=RUL)',\n",
       "       'Tumor Location (choice=RML)', 'Tumor Location (choice=RLL)',\n",
       "       'Tumor Location (choice=LUL)', 'Tumor Location (choice=LLL)',\n",
       "       'Tumor Location (choice=L Lingula)', 'Tumor Location (choice=Unknown)',\n",
       "       'Pathological T stage', 'Pathological N stage', 'Pathological M stage',\n",
       "       'Histopathological Grade', 'Lymphovascular invasion',\n",
       "       'Pleural invasion (elastic, visceral, or parietal)',\n",
       "       'EGFR mutation status', 'KRAS mutation status',\n",
       "       'ALK translocation status', 'Adjuvant Treatment', 'Chemotherapy',\n",
       "       'Radiation', 'Recurrence', 'Days between CT and surgery', 'Histology'],\n",
       "      dtype='object')"
      ]
     },
     "execution_count": 282,
     "metadata": {},
     "output_type": "execute_result"
    }
   ],
   "source": [
    "clinical_data.columns"
   ]
  },
  {
   "cell_type": "code",
   "execution_count": 283,
   "metadata": {},
   "outputs": [],
   "source": [
    "# # ethnicity 49 not recorded\n",
    "# clinical_data.Ethnicity.vaalue_counts()['Not Recorded In Database']\n",
    "\n",
    "# #pack years - total 163\n",
    "# clinical_data['Pack Years'].count()\n",
    "\n",
    "# #Quit Smoking years - total 108\n",
    "# clinical_data['Quit Smoking Year'].count()\n",
    "\n"
   ]
  },
  {
   "cell_type": "code",
   "execution_count": null,
   "metadata": {},
   "outputs": [],
   "source": []
  },
  {
   "cell_type": "code",
   "execution_count": null,
   "metadata": {},
   "outputs": [],
   "source": []
  },
  {
   "cell_type": "code",
   "execution_count": 284,
   "metadata": {},
   "outputs": [
    {
     "data": {
      "text/html": [
       "<div>\n",
       "<style scoped>\n",
       "    .dataframe tbody tr th:only-of-type {\n",
       "        vertical-align: middle;\n",
       "    }\n",
       "\n",
       "    .dataframe tbody tr th {\n",
       "        vertical-align: top;\n",
       "    }\n",
       "\n",
       "    .dataframe thead th {\n",
       "        text-align: right;\n",
       "    }\n",
       "</style>\n",
       "<table border=\"1\" class=\"dataframe\">\n",
       "  <thead>\n",
       "    <tr style=\"text-align: right;\">\n",
       "      <th></th>\n",
       "      <th>Age at Histological Diagnosis</th>\n",
       "      <th>Weight (lbs)</th>\n",
       "      <th>Gender</th>\n",
       "      <th>Ethnicity</th>\n",
       "      <th>Smoking status</th>\n",
       "      <th>Pack Years</th>\n",
       "      <th>%GG</th>\n",
       "      <th>Tumor Location (choice=RUL)</th>\n",
       "      <th>Tumor Location (choice=RML)</th>\n",
       "      <th>Tumor Location (choice=RLL)</th>\n",
       "      <th>...</th>\n",
       "      <th>Pleural invasion (elastic, visceral, or parietal)</th>\n",
       "      <th>EGFR mutation status</th>\n",
       "      <th>KRAS mutation status</th>\n",
       "      <th>ALK translocation status</th>\n",
       "      <th>Adjuvant Treatment</th>\n",
       "      <th>Chemotherapy</th>\n",
       "      <th>Radiation</th>\n",
       "      <th>Recurrence</th>\n",
       "      <th>Days between CT and surgery</th>\n",
       "      <th>Histology</th>\n",
       "    </tr>\n",
       "  </thead>\n",
       "  <tbody>\n",
       "    <tr>\n",
       "      <th>0</th>\n",
       "      <td>34</td>\n",
       "      <td>171.0</td>\n",
       "      <td>Male</td>\n",
       "      <td>NaN</td>\n",
       "      <td>Nonsmoker</td>\n",
       "      <td>NaN</td>\n",
       "      <td>Not Assessed</td>\n",
       "      <td>0</td>\n",
       "      <td>0</td>\n",
       "      <td>1</td>\n",
       "      <td>...</td>\n",
       "      <td>NaN</td>\n",
       "      <td>Wildtype</td>\n",
       "      <td>Mutant</td>\n",
       "      <td>Wildtype</td>\n",
       "      <td>0</td>\n",
       "      <td>0</td>\n",
       "      <td>0</td>\n",
       "      <td>1</td>\n",
       "      <td>9</td>\n",
       "      <td>Adenocarcinoma</td>\n",
       "    </tr>\n",
       "    <tr>\n",
       "      <th>1</th>\n",
       "      <td>33</td>\n",
       "      <td>171.0</td>\n",
       "      <td>Female</td>\n",
       "      <td>NaN</td>\n",
       "      <td>Nonsmoker</td>\n",
       "      <td>NaN</td>\n",
       "      <td>Not Assessed</td>\n",
       "      <td>0</td>\n",
       "      <td>0</td>\n",
       "      <td>0</td>\n",
       "      <td>...</td>\n",
       "      <td>NaN</td>\n",
       "      <td>Wildtype</td>\n",
       "      <td>Wildtype</td>\n",
       "      <td>NaN</td>\n",
       "      <td>0</td>\n",
       "      <td>0</td>\n",
       "      <td>0</td>\n",
       "      <td>0</td>\n",
       "      <td>3</td>\n",
       "      <td>Adenocarcinoma</td>\n",
       "    </tr>\n",
       "    <tr>\n",
       "      <th>2</th>\n",
       "      <td>69</td>\n",
       "      <td>171.0</td>\n",
       "      <td>Female</td>\n",
       "      <td>NaN</td>\n",
       "      <td>Nonsmoker</td>\n",
       "      <td>NaN</td>\n",
       "      <td>Not Assessed</td>\n",
       "      <td>0</td>\n",
       "      <td>0</td>\n",
       "      <td>1</td>\n",
       "      <td>...</td>\n",
       "      <td>NaN</td>\n",
       "      <td>Mutant</td>\n",
       "      <td>Wildtype</td>\n",
       "      <td>Wildtype</td>\n",
       "      <td>0</td>\n",
       "      <td>0</td>\n",
       "      <td>0</td>\n",
       "      <td>0</td>\n",
       "      <td>28</td>\n",
       "      <td>Adenocarcinoma</td>\n",
       "    </tr>\n",
       "    <tr>\n",
       "      <th>3</th>\n",
       "      <td>80</td>\n",
       "      <td>171.0</td>\n",
       "      <td>Female</td>\n",
       "      <td>NaN</td>\n",
       "      <td>Nonsmoker</td>\n",
       "      <td>NaN</td>\n",
       "      <td>Not Assessed</td>\n",
       "      <td>0</td>\n",
       "      <td>0</td>\n",
       "      <td>0</td>\n",
       "      <td>...</td>\n",
       "      <td>NaN</td>\n",
       "      <td>Wildtype</td>\n",
       "      <td>Wildtype</td>\n",
       "      <td>Wildtype</td>\n",
       "      <td>0</td>\n",
       "      <td>0</td>\n",
       "      <td>0</td>\n",
       "      <td>0</td>\n",
       "      <td>47</td>\n",
       "      <td>Adenocarcinoma</td>\n",
       "    </tr>\n",
       "    <tr>\n",
       "      <th>4</th>\n",
       "      <td>76</td>\n",
       "      <td>171.0</td>\n",
       "      <td>Male</td>\n",
       "      <td>NaN</td>\n",
       "      <td>Former</td>\n",
       "      <td>30</td>\n",
       "      <td>Not Assessed</td>\n",
       "      <td>0</td>\n",
       "      <td>0</td>\n",
       "      <td>0</td>\n",
       "      <td>...</td>\n",
       "      <td>NaN</td>\n",
       "      <td>Mutant</td>\n",
       "      <td>Wildtype</td>\n",
       "      <td>Wildtype</td>\n",
       "      <td>0</td>\n",
       "      <td>0</td>\n",
       "      <td>0</td>\n",
       "      <td>1</td>\n",
       "      <td>2</td>\n",
       "      <td>Adenocarcinoma</td>\n",
       "    </tr>\n",
       "    <tr>\n",
       "      <th>...</th>\n",
       "      <td>...</td>\n",
       "      <td>...</td>\n",
       "      <td>...</td>\n",
       "      <td>...</td>\n",
       "      <td>...</td>\n",
       "      <td>...</td>\n",
       "      <td>...</td>\n",
       "      <td>...</td>\n",
       "      <td>...</td>\n",
       "      <td>...</td>\n",
       "      <td>...</td>\n",
       "      <td>...</td>\n",
       "      <td>...</td>\n",
       "      <td>...</td>\n",
       "      <td>...</td>\n",
       "      <td>...</td>\n",
       "      <td>...</td>\n",
       "      <td>...</td>\n",
       "      <td>...</td>\n",
       "      <td>...</td>\n",
       "      <td>...</td>\n",
       "    </tr>\n",
       "    <tr>\n",
       "      <th>206</th>\n",
       "      <td>75</td>\n",
       "      <td>184</td>\n",
       "      <td>Male</td>\n",
       "      <td>Caucasian</td>\n",
       "      <td>Former</td>\n",
       "      <td>55</td>\n",
       "      <td>Not Assessed</td>\n",
       "      <td>0</td>\n",
       "      <td>0</td>\n",
       "      <td>0</td>\n",
       "      <td>...</td>\n",
       "      <td>No</td>\n",
       "      <td>Unknown</td>\n",
       "      <td>Unknown</td>\n",
       "      <td>Unknown</td>\n",
       "      <td>0</td>\n",
       "      <td>0</td>\n",
       "      <td>0</td>\n",
       "      <td>0</td>\n",
       "      <td>14</td>\n",
       "      <td>Squamous cell carcinoma</td>\n",
       "    </tr>\n",
       "    <tr>\n",
       "      <th>207</th>\n",
       "      <td>61</td>\n",
       "      <td>231.5</td>\n",
       "      <td>Male</td>\n",
       "      <td>Caucasian</td>\n",
       "      <td>Former</td>\n",
       "      <td>12</td>\n",
       "      <td>Not Assessed</td>\n",
       "      <td>1</td>\n",
       "      <td>0</td>\n",
       "      <td>0</td>\n",
       "      <td>...</td>\n",
       "      <td>No</td>\n",
       "      <td>Unknown</td>\n",
       "      <td>Mutant</td>\n",
       "      <td>Unknown</td>\n",
       "      <td>1</td>\n",
       "      <td>1</td>\n",
       "      <td>0</td>\n",
       "      <td>0</td>\n",
       "      <td>72</td>\n",
       "      <td>Adenocarcinoma</td>\n",
       "    </tr>\n",
       "    <tr>\n",
       "      <th>208</th>\n",
       "      <td>52</td>\n",
       "      <td>171.0</td>\n",
       "      <td>Female</td>\n",
       "      <td>Caucasian</td>\n",
       "      <td>Former</td>\n",
       "      <td>7</td>\n",
       "      <td>Not Assessed</td>\n",
       "      <td>0</td>\n",
       "      <td>0</td>\n",
       "      <td>0</td>\n",
       "      <td>...</td>\n",
       "      <td>No</td>\n",
       "      <td>Wildtype</td>\n",
       "      <td>Wildtype</td>\n",
       "      <td>Wildtype</td>\n",
       "      <td>0</td>\n",
       "      <td>0</td>\n",
       "      <td>0</td>\n",
       "      <td>0</td>\n",
       "      <td>8</td>\n",
       "      <td>Adenocarcinoma</td>\n",
       "    </tr>\n",
       "    <tr>\n",
       "      <th>209</th>\n",
       "      <td>67</td>\n",
       "      <td>158</td>\n",
       "      <td>Male</td>\n",
       "      <td>Asian</td>\n",
       "      <td>Former</td>\n",
       "      <td>15</td>\n",
       "      <td>Not Assessed</td>\n",
       "      <td>0</td>\n",
       "      <td>0</td>\n",
       "      <td>0</td>\n",
       "      <td>...</td>\n",
       "      <td>No</td>\n",
       "      <td>Mutant</td>\n",
       "      <td>Wildtype</td>\n",
       "      <td>Wildtype</td>\n",
       "      <td>0</td>\n",
       "      <td>0</td>\n",
       "      <td>0</td>\n",
       "      <td>0</td>\n",
       "      <td>65</td>\n",
       "      <td>Adenocarcinoma</td>\n",
       "    </tr>\n",
       "    <tr>\n",
       "      <th>210</th>\n",
       "      <td>68</td>\n",
       "      <td>229</td>\n",
       "      <td>Male</td>\n",
       "      <td>Caucasian</td>\n",
       "      <td>Current</td>\n",
       "      <td>30</td>\n",
       "      <td>Not Assessed</td>\n",
       "      <td>0</td>\n",
       "      <td>0</td>\n",
       "      <td>0</td>\n",
       "      <td>...</td>\n",
       "      <td>NaN</td>\n",
       "      <td>NaN</td>\n",
       "      <td>NaN</td>\n",
       "      <td>NaN</td>\n",
       "      <td>1</td>\n",
       "      <td>1</td>\n",
       "      <td>0</td>\n",
       "      <td>1</td>\n",
       "      <td>51</td>\n",
       "      <td>NSCLC NOS (not otherwise specified)</td>\n",
       "    </tr>\n",
       "  </tbody>\n",
       "</table>\n",
       "<p>210 rows × 29 columns</p>\n",
       "</div>"
      ],
      "text/plain": [
       "     Age at Histological Diagnosis Weight (lbs)  Gender  Ethnicity  \\\n",
       "0                               34        171.0    Male        NaN   \n",
       "1                               33        171.0  Female        NaN   \n",
       "2                               69        171.0  Female        NaN   \n",
       "3                               80        171.0  Female        NaN   \n",
       "4                               76        171.0    Male        NaN   \n",
       "..                             ...          ...     ...        ...   \n",
       "206                             75          184    Male  Caucasian   \n",
       "207                             61        231.5    Male  Caucasian   \n",
       "208                             52        171.0  Female  Caucasian   \n",
       "209                             67          158    Male      Asian   \n",
       "210                             68          229    Male  Caucasian   \n",
       "\n",
       "    Smoking status Pack Years           %GG  Tumor Location (choice=RUL)  \\\n",
       "0        Nonsmoker        NaN  Not Assessed                            0   \n",
       "1        Nonsmoker        NaN  Not Assessed                            0   \n",
       "2        Nonsmoker        NaN  Not Assessed                            0   \n",
       "3        Nonsmoker        NaN  Not Assessed                            0   \n",
       "4           Former         30  Not Assessed                            0   \n",
       "..             ...        ...           ...                          ...   \n",
       "206         Former         55  Not Assessed                            0   \n",
       "207         Former         12  Not Assessed                            1   \n",
       "208         Former          7  Not Assessed                            0   \n",
       "209         Former         15  Not Assessed                            0   \n",
       "210        Current         30  Not Assessed                            0   \n",
       "\n",
       "     Tumor Location (choice=RML)  Tumor Location (choice=RLL)  ...  \\\n",
       "0                              0                            1  ...   \n",
       "1                              0                            0  ...   \n",
       "2                              0                            1  ...   \n",
       "3                              0                            0  ...   \n",
       "4                              0                            0  ...   \n",
       "..                           ...                          ...  ...   \n",
       "206                            0                            0  ...   \n",
       "207                            0                            0  ...   \n",
       "208                            0                            0  ...   \n",
       "209                            0                            0  ...   \n",
       "210                            0                            0  ...   \n",
       "\n",
       "     Pleural invasion (elastic, visceral, or parietal)  EGFR mutation status  \\\n",
       "0                                                  NaN              Wildtype   \n",
       "1                                                  NaN              Wildtype   \n",
       "2                                                  NaN                Mutant   \n",
       "3                                                  NaN              Wildtype   \n",
       "4                                                  NaN                Mutant   \n",
       "..                                                 ...                   ...   \n",
       "206                                                 No               Unknown   \n",
       "207                                                 No               Unknown   \n",
       "208                                                 No              Wildtype   \n",
       "209                                                 No                Mutant   \n",
       "210                                                NaN                   NaN   \n",
       "\n",
       "     KRAS mutation status  ALK translocation status Adjuvant Treatment  \\\n",
       "0                  Mutant                  Wildtype                  0   \n",
       "1                Wildtype                       NaN                  0   \n",
       "2                Wildtype                  Wildtype                  0   \n",
       "3                Wildtype                  Wildtype                  0   \n",
       "4                Wildtype                  Wildtype                  0   \n",
       "..                    ...                       ...                ...   \n",
       "206               Unknown                   Unknown                  0   \n",
       "207                Mutant                   Unknown                  1   \n",
       "208              Wildtype                  Wildtype                  0   \n",
       "209              Wildtype                  Wildtype                  0   \n",
       "210                   NaN                       NaN                  1   \n",
       "\n",
       "    Chemotherapy Radiation Recurrence Days between CT and surgery  \\\n",
       "0              0         0          1                           9   \n",
       "1              0         0          0                           3   \n",
       "2              0         0          0                          28   \n",
       "3              0         0          0                          47   \n",
       "4              0         0          1                           2   \n",
       "..           ...       ...        ...                         ...   \n",
       "206            0         0          0                          14   \n",
       "207            1         0          0                          72   \n",
       "208            0         0          0                           8   \n",
       "209            0         0          0                          65   \n",
       "210            1         0          1                          51   \n",
       "\n",
       "                               Histology  \n",
       "0                         Adenocarcinoma  \n",
       "1                         Adenocarcinoma  \n",
       "2                         Adenocarcinoma  \n",
       "3                         Adenocarcinoma  \n",
       "4                         Adenocarcinoma  \n",
       "..                                   ...  \n",
       "206              Squamous cell carcinoma  \n",
       "207                       Adenocarcinoma  \n",
       "208                       Adenocarcinoma  \n",
       "209                       Adenocarcinoma  \n",
       "210  NSCLC NOS (not otherwise specified)  \n",
       "\n",
       "[210 rows x 29 columns]"
      ]
     },
     "execution_count": 284,
     "metadata": {},
     "output_type": "execute_result"
    }
   ],
   "source": [
    "clinical_data"
   ]
  },
  {
   "cell_type": "code",
   "execution_count": 285,
   "metadata": {},
   "outputs": [],
   "source": [
    "# clinical_data['Weight (lbs)']"
   ]
  },
  {
   "cell_type": "code",
   "execution_count": 286,
   "metadata": {},
   "outputs": [],
   "source": [
    "#weight to numerical value\n",
    "clinical_data['Weight (lbs)'] = pd.to_numeric(clinical_data['Weight (lbs)'])\n",
    "# clinical_data.astype({'Weight (lbs)':'Int32'})"
   ]
  },
  {
   "cell_type": "code",
   "execution_count": 287,
   "metadata": {},
   "outputs": [],
   "source": [
    "# clinical_data['Quit Smoking'] = clinical_data['Quit Smoking Year'].isnull()\n",
    "# clinical_data['Quit Smoking Year'] = clinical_data.drop('Quit Smoking Year', axis=1)"
   ]
  },
  {
   "cell_type": "code",
   "execution_count": 288,
   "metadata": {},
   "outputs": [
    {
     "data": {
      "text/plain": [
       "0      171.0\n",
       "1      171.0\n",
       "2      171.0\n",
       "3      171.0\n",
       "4      171.0\n",
       "       ...  \n",
       "206    184.0\n",
       "207    231.5\n",
       "208    171.0\n",
       "209    158.0\n",
       "210    229.0\n",
       "Name: Weight (lbs), Length: 210, dtype: float64"
      ]
     },
     "execution_count": 288,
     "metadata": {},
     "output_type": "execute_result"
    }
   ],
   "source": [
    "clinical_data['Weight (lbs)']"
   ]
  },
  {
   "cell_type": "code",
   "execution_count": 289,
   "metadata": {},
   "outputs": [
    {
     "data": {
      "text/plain": [
       "0    156\n",
       "1     54\n",
       "Name: Recurrence, dtype: int64"
      ]
     },
     "execution_count": 289,
     "metadata": {},
     "output_type": "execute_result"
    }
   ],
   "source": [
    "clinical_data['Recurrence'].value_counts()"
   ]
  },
  {
   "cell_type": "code",
   "execution_count": 290,
   "metadata": {},
   "outputs": [
    {
     "data": {
      "text/plain": [
       "210"
      ]
     },
     "execution_count": 290,
     "metadata": {},
     "output_type": "execute_result"
    }
   ],
   "source": [
    "156+54"
   ]
  },
  {
   "cell_type": "markdown",
   "metadata": {},
   "source": [
    "Train Test Split"
   ]
  },
  {
   "cell_type": "code",
   "execution_count": 291,
   "metadata": {},
   "outputs": [
    {
     "name": "stdout",
     "output_type": "stream",
     "text": [
      "0.7428571428571429\n",
      "0.2571428571428571\n"
     ]
    }
   ],
   "source": [
    "print(156/210)\n",
    "print(54/210)"
   ]
  },
  {
   "cell_type": "code",
   "execution_count": 292,
   "metadata": {},
   "outputs": [
    {
     "data": {
      "text/plain": [
       "168.0"
      ]
     },
     "execution_count": 292,
     "metadata": {},
     "output_type": "execute_result"
    }
   ],
   "source": [
    "0.8*210"
   ]
  },
  {
   "cell_type": "code",
   "execution_count": 293,
   "metadata": {},
   "outputs": [
    {
     "data": {
      "text/plain": [
       "42.0"
      ]
     },
     "execution_count": 293,
     "metadata": {},
     "output_type": "execute_result"
    }
   ],
   "source": [
    "0.25 * 168"
   ]
  },
  {
   "cell_type": "code",
   "execution_count": 294,
   "metadata": {},
   "outputs": [
    {
     "data": {
      "text/plain": [
       "0    156\n",
       "1     54\n",
       "Name: Recurrence, dtype: int64"
      ]
     },
     "execution_count": 294,
     "metadata": {},
     "output_type": "execute_result"
    }
   ],
   "source": [
    "clinical_data['Recurrence'].value_counts()"
   ]
  },
  {
   "cell_type": "code",
   "execution_count": 295,
   "metadata": {},
   "outputs": [],
   "source": [
    "# 42 no data from recurrence\n",
    "# 168-42 = 126 yes data from recurrence"
   ]
  },
  {
   "cell_type": "code",
   "execution_count": 296,
   "metadata": {},
   "outputs": [
    {
     "data": {
      "text/plain": [
       "0      1\n",
       "4      1\n",
       "10     1\n",
       "11     1\n",
       "33     1\n",
       "37     1\n",
       "38     1\n",
       "43     1\n",
       "52     1\n",
       "53     1\n",
       "55     1\n",
       "58     1\n",
       "60     1\n",
       "64     1\n",
       "66     1\n",
       "68     1\n",
       "70     1\n",
       "72     1\n",
       "74     1\n",
       "77     1\n",
       "78     1\n",
       "79     1\n",
       "81     1\n",
       "83     1\n",
       "84     1\n",
       "98     1\n",
       "99     1\n",
       "102    1\n",
       "113    1\n",
       "116    1\n",
       "120    1\n",
       "123    1\n",
       "125    1\n",
       "136    1\n",
       "139    1\n",
       "141    1\n",
       "146    1\n",
       "147    1\n",
       "151    1\n",
       "157    1\n",
       "159    1\n",
       "161    1\n",
       "167    1\n",
       "170    1\n",
       "173    1\n",
       "176    1\n",
       "189    1\n",
       "194    1\n",
       "195    1\n",
       "196    1\n",
       "197    1\n",
       "199    1\n",
       "201    1\n",
       "210    1\n",
       "Name: Recurrence, dtype: int64"
      ]
     },
     "execution_count": 296,
     "metadata": {},
     "output_type": "execute_result"
    }
   ],
   "source": [
    "# get only reccurrence yes values\n",
    "clinical_data['Recurrence'][clinical_data['Recurrence'] == 1]"
   ]
  },
  {
   "cell_type": "code",
   "execution_count": 297,
   "metadata": {},
   "outputs": [
    {
     "data": {
      "text/plain": [
       "1      0\n",
       "2      0\n",
       "3      0\n",
       "5      0\n",
       "6      0\n",
       "      ..\n",
       "205    0\n",
       "206    0\n",
       "207    0\n",
       "208    0\n",
       "209    0\n",
       "Name: Recurrence, Length: 156, dtype: int64"
      ]
     },
     "execution_count": 297,
     "metadata": {},
     "output_type": "execute_result"
    }
   ],
   "source": [
    "# get only reccurrence yes values\n",
    "clinical_data['Recurrence'][clinical_data['Recurrence'] == 0]"
   ]
  },
  {
   "cell_type": "code",
   "execution_count": 298,
   "metadata": {},
   "outputs": [],
   "source": [
    "X = clinical_data.copy()\n",
    "X.drop(columns=['Recurrence'], inplace=True)\n",
    "Y = clinical_data['Recurrence']"
   ]
  },
  {
   "cell_type": "markdown",
   "metadata": {},
   "source": [
    "```\n",
    "## Need to create a mechanism to train test by myself\n",
    "\n",
    "```"
   ]
  },
  {
   "cell_type": "code",
   "execution_count": null,
   "metadata": {},
   "outputs": [],
   "source": []
  },
  {
   "cell_type": "code",
   "execution_count": 299,
   "metadata": {},
   "outputs": [],
   "source": [
    "from sklearn.preprocessing import OneHotEncoder"
   ]
  },
  {
   "cell_type": "code",
   "execution_count": null,
   "metadata": {},
   "outputs": [],
   "source": []
  },
  {
   "cell_type": "code",
   "execution_count": 300,
   "metadata": {},
   "outputs": [
    {
     "data": {
      "text/plain": [
       "0        Male\n",
       "1      Female\n",
       "2      Female\n",
       "3      Female\n",
       "4        Male\n",
       "        ...  \n",
       "206      Male\n",
       "207      Male\n",
       "208    Female\n",
       "209      Male\n",
       "210      Male\n",
       "Name: Gender, Length: 210, dtype: category\n",
       "Categories (2, object): ['Female', 'Male']"
      ]
     },
     "execution_count": 300,
     "metadata": {},
     "output_type": "execute_result"
    }
   ],
   "source": [
    "X['Gender']"
   ]
  },
  {
   "cell_type": "code",
   "execution_count": 301,
   "metadata": {},
   "outputs": [],
   "source": [
    "one_hot_encoded_data = pd.get_dummies(X)"
   ]
  },
  {
   "cell_type": "code",
   "execution_count": 302,
   "metadata": {},
   "outputs": [],
   "source": [
    "from sklearn.model_selection import train_test_split\n",
    "X_train, X_test, y_train, y_test = train_test_split(one_hot_encoded_data, Y, test_size = 0.30, random_state = 0)"
   ]
  },
  {
   "cell_type": "code",
   "execution_count": 303,
   "metadata": {
    "collapsed": true
   },
   "outputs": [
    {
     "data": {
      "text/plain": [
       "0      0\n",
       "1      0\n",
       "2      0\n",
       "3      0\n",
       "4      0\n",
       "      ..\n",
       "206    0\n",
       "207    1\n",
       "208    0\n",
       "209    0\n",
       "210    0\n",
       "Name: Tumor Location (choice=RUL), Length: 210, dtype: int64"
      ]
     },
     "execution_count": 303,
     "metadata": {},
     "output_type": "execute_result"
    }
   ],
   "source": [
    "clinical_data['Tumor Location (choice=RUL)']"
   ]
  },
  {
   "cell_type": "markdown",
   "metadata": {},
   "source": [
    "Feature Scaling"
   ]
  },
  {
   "cell_type": "code",
   "execution_count": 304,
   "metadata": {},
   "outputs": [
    {
     "data": {
      "text/html": [
       "<div>\n",
       "<style scoped>\n",
       "    .dataframe tbody tr th:only-of-type {\n",
       "        vertical-align: middle;\n",
       "    }\n",
       "\n",
       "    .dataframe tbody tr th {\n",
       "        vertical-align: top;\n",
       "    }\n",
       "\n",
       "    .dataframe thead th {\n",
       "        text-align: right;\n",
       "    }\n",
       "</style>\n",
       "<table border=\"1\" class=\"dataframe\">\n",
       "  <thead>\n",
       "    <tr style=\"text-align: right;\">\n",
       "      <th></th>\n",
       "      <th>Age at Histological Diagnosis</th>\n",
       "      <th>Weight (lbs)</th>\n",
       "      <th>Tumor Location (choice=RUL)</th>\n",
       "      <th>Tumor Location (choice=RML)</th>\n",
       "      <th>Tumor Location (choice=RLL)</th>\n",
       "      <th>Tumor Location (choice=LUL)</th>\n",
       "      <th>Tumor Location (choice=LLL)</th>\n",
       "      <th>Tumor Location (choice=L Lingula)</th>\n",
       "      <th>Tumor Location (choice=Unknown)</th>\n",
       "      <th>Adjuvant Treatment</th>\n",
       "      <th>Chemotherapy</th>\n",
       "      <th>Radiation</th>\n",
       "      <th>Recurrence</th>\n",
       "      <th>Days between CT and surgery</th>\n",
       "    </tr>\n",
       "  </thead>\n",
       "  <tbody>\n",
       "    <tr>\n",
       "      <th>count</th>\n",
       "      <td>210.000000</td>\n",
       "      <td>210.000000</td>\n",
       "      <td>210.000000</td>\n",
       "      <td>210.000000</td>\n",
       "      <td>210.000000</td>\n",
       "      <td>210.000000</td>\n",
       "      <td>210.000000</td>\n",
       "      <td>210.00000</td>\n",
       "      <td>210.0</td>\n",
       "      <td>210.000000</td>\n",
       "      <td>210.000000</td>\n",
       "      <td>210.000000</td>\n",
       "      <td>210.000000</td>\n",
       "      <td>210.000000</td>\n",
       "    </tr>\n",
       "    <tr>\n",
       "      <th>mean</th>\n",
       "      <td>67.928571</td>\n",
       "      <td>169.904878</td>\n",
       "      <td>0.366667</td>\n",
       "      <td>0.085714</td>\n",
       "      <td>0.142857</td>\n",
       "      <td>0.223810</td>\n",
       "      <td>0.157143</td>\n",
       "      <td>0.02381</td>\n",
       "      <td>0.0</td>\n",
       "      <td>0.233333</td>\n",
       "      <td>0.233333</td>\n",
       "      <td>0.076190</td>\n",
       "      <td>0.257143</td>\n",
       "      <td>50.352381</td>\n",
       "    </tr>\n",
       "    <tr>\n",
       "      <th>std</th>\n",
       "      <td>10.017671</td>\n",
       "      <td>35.618808</td>\n",
       "      <td>0.483046</td>\n",
       "      <td>0.280611</td>\n",
       "      <td>0.350763</td>\n",
       "      <td>0.417792</td>\n",
       "      <td>0.364805</td>\n",
       "      <td>0.15282</td>\n",
       "      <td>0.0</td>\n",
       "      <td>0.423963</td>\n",
       "      <td>0.423963</td>\n",
       "      <td>0.265937</td>\n",
       "      <td>0.438103</td>\n",
       "      <td>62.486053</td>\n",
       "    </tr>\n",
       "    <tr>\n",
       "      <th>min</th>\n",
       "      <td>24.000000</td>\n",
       "      <td>49.100000</td>\n",
       "      <td>0.000000</td>\n",
       "      <td>0.000000</td>\n",
       "      <td>0.000000</td>\n",
       "      <td>0.000000</td>\n",
       "      <td>0.000000</td>\n",
       "      <td>0.00000</td>\n",
       "      <td>0.0</td>\n",
       "      <td>0.000000</td>\n",
       "      <td>0.000000</td>\n",
       "      <td>0.000000</td>\n",
       "      <td>0.000000</td>\n",
       "      <td>1.000000</td>\n",
       "    </tr>\n",
       "    <tr>\n",
       "      <th>25%</th>\n",
       "      <td>64.000000</td>\n",
       "      <td>152.145000</td>\n",
       "      <td>0.000000</td>\n",
       "      <td>0.000000</td>\n",
       "      <td>0.000000</td>\n",
       "      <td>0.000000</td>\n",
       "      <td>0.000000</td>\n",
       "      <td>0.00000</td>\n",
       "      <td>0.0</td>\n",
       "      <td>0.000000</td>\n",
       "      <td>0.000000</td>\n",
       "      <td>0.000000</td>\n",
       "      <td>0.000000</td>\n",
       "      <td>20.250000</td>\n",
       "    </tr>\n",
       "    <tr>\n",
       "      <th>50%</th>\n",
       "      <td>68.000000</td>\n",
       "      <td>171.000000</td>\n",
       "      <td>0.000000</td>\n",
       "      <td>0.000000</td>\n",
       "      <td>0.000000</td>\n",
       "      <td>0.000000</td>\n",
       "      <td>0.000000</td>\n",
       "      <td>0.00000</td>\n",
       "      <td>0.0</td>\n",
       "      <td>0.000000</td>\n",
       "      <td>0.000000</td>\n",
       "      <td>0.000000</td>\n",
       "      <td>0.000000</td>\n",
       "      <td>38.500000</td>\n",
       "    </tr>\n",
       "    <tr>\n",
       "      <th>75%</th>\n",
       "      <td>75.000000</td>\n",
       "      <td>184.750000</td>\n",
       "      <td>1.000000</td>\n",
       "      <td>0.000000</td>\n",
       "      <td>0.000000</td>\n",
       "      <td>0.000000</td>\n",
       "      <td>0.000000</td>\n",
       "      <td>0.00000</td>\n",
       "      <td>0.0</td>\n",
       "      <td>0.000000</td>\n",
       "      <td>0.000000</td>\n",
       "      <td>0.000000</td>\n",
       "      <td>1.000000</td>\n",
       "      <td>65.750000</td>\n",
       "    </tr>\n",
       "    <tr>\n",
       "      <th>max</th>\n",
       "      <td>87.000000</td>\n",
       "      <td>317.520000</td>\n",
       "      <td>1.000000</td>\n",
       "      <td>1.000000</td>\n",
       "      <td>1.000000</td>\n",
       "      <td>1.000000</td>\n",
       "      <td>1.000000</td>\n",
       "      <td>1.00000</td>\n",
       "      <td>0.0</td>\n",
       "      <td>1.000000</td>\n",
       "      <td>1.000000</td>\n",
       "      <td>1.000000</td>\n",
       "      <td>1.000000</td>\n",
       "      <td>735.000000</td>\n",
       "    </tr>\n",
       "  </tbody>\n",
       "</table>\n",
       "</div>"
      ],
      "text/plain": [
       "       Age at Histological Diagnosis  Weight (lbs)  \\\n",
       "count                     210.000000    210.000000   \n",
       "mean                       67.928571    169.904878   \n",
       "std                        10.017671     35.618808   \n",
       "min                        24.000000     49.100000   \n",
       "25%                        64.000000    152.145000   \n",
       "50%                        68.000000    171.000000   \n",
       "75%                        75.000000    184.750000   \n",
       "max                        87.000000    317.520000   \n",
       "\n",
       "       Tumor Location (choice=RUL)  Tumor Location (choice=RML)  \\\n",
       "count                   210.000000                   210.000000   \n",
       "mean                      0.366667                     0.085714   \n",
       "std                       0.483046                     0.280611   \n",
       "min                       0.000000                     0.000000   \n",
       "25%                       0.000000                     0.000000   \n",
       "50%                       0.000000                     0.000000   \n",
       "75%                       1.000000                     0.000000   \n",
       "max                       1.000000                     1.000000   \n",
       "\n",
       "       Tumor Location (choice=RLL)  Tumor Location (choice=LUL)  \\\n",
       "count                   210.000000                   210.000000   \n",
       "mean                      0.142857                     0.223810   \n",
       "std                       0.350763                     0.417792   \n",
       "min                       0.000000                     0.000000   \n",
       "25%                       0.000000                     0.000000   \n",
       "50%                       0.000000                     0.000000   \n",
       "75%                       0.000000                     0.000000   \n",
       "max                       1.000000                     1.000000   \n",
       "\n",
       "       Tumor Location (choice=LLL)  Tumor Location (choice=L Lingula)  \\\n",
       "count                   210.000000                          210.00000   \n",
       "mean                      0.157143                            0.02381   \n",
       "std                       0.364805                            0.15282   \n",
       "min                       0.000000                            0.00000   \n",
       "25%                       0.000000                            0.00000   \n",
       "50%                       0.000000                            0.00000   \n",
       "75%                       0.000000                            0.00000   \n",
       "max                       1.000000                            1.00000   \n",
       "\n",
       "       Tumor Location (choice=Unknown)  Adjuvant Treatment  Chemotherapy  \\\n",
       "count                            210.0          210.000000    210.000000   \n",
       "mean                               0.0            0.233333      0.233333   \n",
       "std                                0.0            0.423963      0.423963   \n",
       "min                                0.0            0.000000      0.000000   \n",
       "25%                                0.0            0.000000      0.000000   \n",
       "50%                                0.0            0.000000      0.000000   \n",
       "75%                                0.0            0.000000      0.000000   \n",
       "max                                0.0            1.000000      1.000000   \n",
       "\n",
       "        Radiation  Recurrence  Days between CT and surgery  \n",
       "count  210.000000  210.000000                   210.000000  \n",
       "mean     0.076190    0.257143                    50.352381  \n",
       "std      0.265937    0.438103                    62.486053  \n",
       "min      0.000000    0.000000                     1.000000  \n",
       "25%      0.000000    0.000000                    20.250000  \n",
       "50%      0.000000    0.000000                    38.500000  \n",
       "75%      0.000000    1.000000                    65.750000  \n",
       "max      1.000000    1.000000                   735.000000  "
      ]
     },
     "execution_count": 304,
     "metadata": {},
     "output_type": "execute_result"
    }
   ],
   "source": [
    "clinical_data.describe()"
   ]
  },
  {
   "cell_type": "code",
   "execution_count": null,
   "metadata": {},
   "outputs": [],
   "source": []
  },
  {
   "cell_type": "code",
   "execution_count": null,
   "metadata": {},
   "outputs": [],
   "source": []
  },
  {
   "cell_type": "code",
   "execution_count": 305,
   "metadata": {},
   "outputs": [],
   "source": [
    "from sklearn.preprocessing import StandardScaler\n",
    "sc = StandardScaler()\n",
    "X_train = sc.fit_transform(X_train)\n",
    "X_test = sc.transform(X_test)"
   ]
  },
  {
   "cell_type": "code",
   "execution_count": 306,
   "metadata": {},
   "outputs": [
    {
     "data": {
      "text/plain": [
       "array([0, 0, 0, 0, 0, 0, 0, 0, 0, 0, 1, 0, 1, 0, 0, 0, 0, 0, 0, 1, 1, 0,\n",
       "       0, 1, 0, 0, 0, 0, 0, 0, 0, 0, 1, 1, 0, 1, 1, 0, 1, 0, 0, 0, 0, 1,\n",
       "       0, 0, 0, 0, 1, 0, 0, 1, 0, 0, 0, 0, 1, 0, 1, 0, 0, 0, 0, 0, 0, 0,\n",
       "       1, 0, 0, 1, 0, 0, 0, 0, 0, 0, 0, 1, 0, 0, 1, 1, 0, 0, 1, 1, 0, 0,\n",
       "       1, 0, 0, 0, 0, 0, 1, 0, 0, 0, 0, 0, 0, 0, 0, 0, 0, 0, 0, 0, 0, 0,\n",
       "       0, 0, 0, 0, 0, 0, 1, 1, 0, 1, 0, 0, 0, 1, 0, 0, 0, 0, 0, 0, 0, 1,\n",
       "       0, 1, 0, 0, 0, 0, 0, 0, 0, 1, 1, 0, 0, 0, 1])"
      ]
     },
     "execution_count": 306,
     "metadata": {},
     "output_type": "execute_result"
    }
   ],
   "source": [
    "np.array(y_train)"
   ]
  },
  {
   "cell_type": "code",
   "execution_count": 307,
   "metadata": {},
   "outputs": [],
   "source": [
    "from sklearn.preprocessing import StandardScaler\n",
    "sc = StandardScaler()\n",
    "X_train = sc.fit_transform(X_train)\n",
    "X_test = sc.transform(X_test)"
   ]
  },
  {
   "cell_type": "code",
   "execution_count": 308,
   "metadata": {},
   "outputs": [
    {
     "data": {
      "text/html": [
       "<style>#sk-container-id-8 {color: black;background-color: white;}#sk-container-id-8 pre{padding: 0;}#sk-container-id-8 div.sk-toggleable {background-color: white;}#sk-container-id-8 label.sk-toggleable__label {cursor: pointer;display: block;width: 100%;margin-bottom: 0;padding: 0.3em;box-sizing: border-box;text-align: center;}#sk-container-id-8 label.sk-toggleable__label-arrow:before {content: \"▸\";float: left;margin-right: 0.25em;color: #696969;}#sk-container-id-8 label.sk-toggleable__label-arrow:hover:before {color: black;}#sk-container-id-8 div.sk-estimator:hover label.sk-toggleable__label-arrow:before {color: black;}#sk-container-id-8 div.sk-toggleable__content {max-height: 0;max-width: 0;overflow: hidden;text-align: left;background-color: #f0f8ff;}#sk-container-id-8 div.sk-toggleable__content pre {margin: 0.2em;color: black;border-radius: 0.25em;background-color: #f0f8ff;}#sk-container-id-8 input.sk-toggleable__control:checked~div.sk-toggleable__content {max-height: 200px;max-width: 100%;overflow: auto;}#sk-container-id-8 input.sk-toggleable__control:checked~label.sk-toggleable__label-arrow:before {content: \"▾\";}#sk-container-id-8 div.sk-estimator input.sk-toggleable__control:checked~label.sk-toggleable__label {background-color: #d4ebff;}#sk-container-id-8 div.sk-label input.sk-toggleable__control:checked~label.sk-toggleable__label {background-color: #d4ebff;}#sk-container-id-8 input.sk-hidden--visually {border: 0;clip: rect(1px 1px 1px 1px);clip: rect(1px, 1px, 1px, 1px);height: 1px;margin: -1px;overflow: hidden;padding: 0;position: absolute;width: 1px;}#sk-container-id-8 div.sk-estimator {font-family: monospace;background-color: #f0f8ff;border: 1px dotted black;border-radius: 0.25em;box-sizing: border-box;margin-bottom: 0.5em;}#sk-container-id-8 div.sk-estimator:hover {background-color: #d4ebff;}#sk-container-id-8 div.sk-parallel-item::after {content: \"\";width: 100%;border-bottom: 1px solid gray;flex-grow: 1;}#sk-container-id-8 div.sk-label:hover label.sk-toggleable__label {background-color: #d4ebff;}#sk-container-id-8 div.sk-serial::before {content: \"\";position: absolute;border-left: 1px solid gray;box-sizing: border-box;top: 0;bottom: 0;left: 50%;z-index: 0;}#sk-container-id-8 div.sk-serial {display: flex;flex-direction: column;align-items: center;background-color: white;padding-right: 0.2em;padding-left: 0.2em;position: relative;}#sk-container-id-8 div.sk-item {position: relative;z-index: 1;}#sk-container-id-8 div.sk-parallel {display: flex;align-items: stretch;justify-content: center;background-color: white;position: relative;}#sk-container-id-8 div.sk-item::before, #sk-container-id-8 div.sk-parallel-item::before {content: \"\";position: absolute;border-left: 1px solid gray;box-sizing: border-box;top: 0;bottom: 0;left: 50%;z-index: -1;}#sk-container-id-8 div.sk-parallel-item {display: flex;flex-direction: column;z-index: 1;position: relative;background-color: white;}#sk-container-id-8 div.sk-parallel-item:first-child::after {align-self: flex-end;width: 50%;}#sk-container-id-8 div.sk-parallel-item:last-child::after {align-self: flex-start;width: 50%;}#sk-container-id-8 div.sk-parallel-item:only-child::after {width: 0;}#sk-container-id-8 div.sk-dashed-wrapped {border: 1px dashed gray;margin: 0 0.4em 0.5em 0.4em;box-sizing: border-box;padding-bottom: 0.4em;background-color: white;}#sk-container-id-8 div.sk-label label {font-family: monospace;font-weight: bold;display: inline-block;line-height: 1.2em;}#sk-container-id-8 div.sk-label-container {text-align: center;}#sk-container-id-8 div.sk-container {/* jupyter's `normalize.less` sets `[hidden] { display: none; }` but bootstrap.min.css set `[hidden] { display: none !important; }` so we also need the `!important` here to be able to override the default hidden behavior on the sphinx rendered scikit-learn.org. See: https://github.com/scikit-learn/scikit-learn/issues/21755 */display: inline-block !important;position: relative;}#sk-container-id-8 div.sk-text-repr-fallback {display: none;}</style><div id=\"sk-container-id-8\" class=\"sk-top-container\"><div class=\"sk-text-repr-fallback\"><pre>GradientBoostingClassifier()</pre><b>In a Jupyter environment, please rerun this cell to show the HTML representation or trust the notebook. <br />On GitHub, the HTML representation is unable to render, please try loading this page with nbviewer.org.</b></div><div class=\"sk-container\" hidden><div class=\"sk-item\"><div class=\"sk-estimator sk-toggleable\"><input class=\"sk-toggleable__control sk-hidden--visually\" id=\"sk-estimator-id-14\" type=\"checkbox\" checked><label for=\"sk-estimator-id-14\" class=\"sk-toggleable__label sk-toggleable__label-arrow\">GradientBoostingClassifier</label><div class=\"sk-toggleable__content\"><pre>GradientBoostingClassifier()</pre></div></div></div></div></div>"
      ],
      "text/plain": [
       "GradientBoostingClassifier()"
      ]
     },
     "execution_count": 308,
     "metadata": {},
     "output_type": "execute_result"
    }
   ],
   "source": [
    "from sklearn.naive_bayes import GaussianNB\n",
    "nb_classifier = GaussianNB()\n",
    "nb_classifier.fit(X_train, y_train)\n",
    "\n",
    "from sklearn.svm import SVC\n",
    "svm_classifier = SVC()\n",
    "svm_classifier.fit(X_train, y_train)\n",
    "\n",
    "from sklearn.tree import DecisionTreeClassifier\n",
    "dt_classifier = DecisionTreeClassifier()\n",
    "dt_classifier.fit(X_train, y_train)\n",
    "\n",
    "from sklearn.ensemble import GradientBoostingClassifier\n",
    "gb_classifier = GradientBoostingClassifier()\n",
    "gb_classifier.fit(X_train, y_train)\n"
   ]
  },
  {
   "cell_type": "code",
   "execution_count": 309,
   "metadata": {},
   "outputs": [],
   "source": [
    "from sklearn.metrics import confusion_matrix,accuracy_score,recall_score, precision_score\n",
    "def predict(classifier):\n",
    "    y_predict = classifier.predict(X_test)\n",
    "\n",
    "    return y_predict\n",
    "\n",
    "def print_evaluations(y_predict):\n",
    "    cm = confusion_matrix(y_test, y_predict)\n",
    "    ac = accuracy_score(y_test,y_predict)\n",
    "    rs = recall_score(y_test,y_predict)\n",
    "    ps = precision_score(y_test,y_predict)\n",
    "\n",
    "    print(cm)\n",
    "    print(ac)\n",
    "    print(rs)\n",
    "    print(ps)\n"
   ]
  },
  {
   "cell_type": "code",
   "execution_count": 310,
   "metadata": {},
   "outputs": [
    {
     "name": "stdout",
     "output_type": "stream",
     "text": [
      "\n",
      "nb_y_predict\n",
      "[[15 27]\n",
      " [ 7 14]]\n",
      "0.4603174603174603\n",
      "0.6666666666666666\n",
      "0.34146341463414637\n",
      "\n",
      "svm_y_predict\n",
      "[[42  0]\n",
      " [21  0]]\n",
      "0.6666666666666666\n",
      "0.0\n",
      "0.0\n",
      "\n",
      "dt_y_predict\n",
      "[[38  4]\n",
      " [15  6]]\n",
      "0.6984126984126984\n",
      "0.2857142857142857\n",
      "0.6\n",
      "\n",
      "gb_y_predict\n",
      "[[40  2]\n",
      " [18  3]]\n",
      "0.6825396825396826\n",
      "0.14285714285714285\n",
      "0.6\n"
     ]
    },
    {
     "name": "stderr",
     "output_type": "stream",
     "text": [
      "/Users/ms/miniforge3/envs/tensorflow-metal/lib/python3.9/site-packages/sklearn/metrics/_classification.py:1327: UndefinedMetricWarning: Precision is ill-defined and being set to 0.0 due to no predicted samples. Use `zero_division` parameter to control this behavior.\n",
      "  _warn_prf(average, modifier, msg_start, len(result))\n"
     ]
    }
   ],
   "source": [
    "nb_y_predict = predict(nb_classifier)\n",
    "print('\\nnb_y_predict')\n",
    "print_evaluations(nb_y_predict)\n",
    "\n",
    "svm_y_predict = predict(svm_classifier)\n",
    "print('\\nsvm_y_predict')\n",
    "print_evaluations(svm_y_predict)\n",
    "\n",
    "dt_y_predict = predict(dt_classifier)\n",
    "print('\\ndt_y_predict')\n",
    "print_evaluations(dt_y_predict)\n",
    "\n",
    "gb_y_predict = predict(gb_classifier)\n",
    "print('\\ngb_y_predict')\n",
    "print_evaluations(gb_y_predict)"
   ]
  },
  {
   "cell_type": "markdown",
   "metadata": {},
   "source": [
    "k-fold validation"
   ]
  },
  {
   "cell_type": "code",
   "execution_count": 311,
   "metadata": {},
   "outputs": [],
   "source": [
    "from sklearn.model_selection import cross_val_score"
   ]
  },
  {
   "cell_type": "code",
   "execution_count": 312,
   "metadata": {},
   "outputs": [
    {
     "data": {
      "text/plain": [
       "array([0.26190476, 0.33333333, 0.45238095, 0.35714286, 0.4047619 ])"
      ]
     },
     "execution_count": 312,
     "metadata": {},
     "output_type": "execute_result"
    }
   ],
   "source": [
    "cross_val_score(GaussianNB(), one_hot_encoded_data, Y)"
   ]
  },
  {
   "cell_type": "code",
   "execution_count": 313,
   "metadata": {},
   "outputs": [
    {
     "data": {
      "text/plain": [
       "array([0.73809524, 0.73809524, 0.73809524, 0.73809524, 0.76190476])"
      ]
     },
     "execution_count": 313,
     "metadata": {},
     "output_type": "execute_result"
    }
   ],
   "source": [
    "cross_val_score(SVC(), one_hot_encoded_data, Y)"
   ]
  },
  {
   "cell_type": "code",
   "execution_count": 314,
   "metadata": {},
   "outputs": [
    {
     "data": {
      "text/plain": [
       "array([0.69047619, 0.78571429, 0.54761905, 0.5952381 , 0.64285714])"
      ]
     },
     "execution_count": 314,
     "metadata": {},
     "output_type": "execute_result"
    }
   ],
   "source": [
    "cross_val_score(DecisionTreeClassifier(), one_hot_encoded_data, Y)"
   ]
  },
  {
   "cell_type": "code",
   "execution_count": 315,
   "metadata": {},
   "outputs": [
    {
     "data": {
      "text/plain": [
       "array([0.73809524, 0.78571429, 0.64285714, 0.61904762, 0.78571429])"
      ]
     },
     "execution_count": 315,
     "metadata": {},
     "output_type": "execute_result"
    }
   ],
   "source": [
    "cross_val_score(GradientBoostingClassifier(), one_hot_encoded_data, Y)"
   ]
  },
  {
   "cell_type": "code",
   "execution_count": 316,
   "metadata": {},
   "outputs": [
    {
     "data": {
      "text/html": [
       "<style>#sk-container-id-9 {color: black;background-color: white;}#sk-container-id-9 pre{padding: 0;}#sk-container-id-9 div.sk-toggleable {background-color: white;}#sk-container-id-9 label.sk-toggleable__label {cursor: pointer;display: block;width: 100%;margin-bottom: 0;padding: 0.3em;box-sizing: border-box;text-align: center;}#sk-container-id-9 label.sk-toggleable__label-arrow:before {content: \"▸\";float: left;margin-right: 0.25em;color: #696969;}#sk-container-id-9 label.sk-toggleable__label-arrow:hover:before {color: black;}#sk-container-id-9 div.sk-estimator:hover label.sk-toggleable__label-arrow:before {color: black;}#sk-container-id-9 div.sk-toggleable__content {max-height: 0;max-width: 0;overflow: hidden;text-align: left;background-color: #f0f8ff;}#sk-container-id-9 div.sk-toggleable__content pre {margin: 0.2em;color: black;border-radius: 0.25em;background-color: #f0f8ff;}#sk-container-id-9 input.sk-toggleable__control:checked~div.sk-toggleable__content {max-height: 200px;max-width: 100%;overflow: auto;}#sk-container-id-9 input.sk-toggleable__control:checked~label.sk-toggleable__label-arrow:before {content: \"▾\";}#sk-container-id-9 div.sk-estimator input.sk-toggleable__control:checked~label.sk-toggleable__label {background-color: #d4ebff;}#sk-container-id-9 div.sk-label input.sk-toggleable__control:checked~label.sk-toggleable__label {background-color: #d4ebff;}#sk-container-id-9 input.sk-hidden--visually {border: 0;clip: rect(1px 1px 1px 1px);clip: rect(1px, 1px, 1px, 1px);height: 1px;margin: -1px;overflow: hidden;padding: 0;position: absolute;width: 1px;}#sk-container-id-9 div.sk-estimator {font-family: monospace;background-color: #f0f8ff;border: 1px dotted black;border-radius: 0.25em;box-sizing: border-box;margin-bottom: 0.5em;}#sk-container-id-9 div.sk-estimator:hover {background-color: #d4ebff;}#sk-container-id-9 div.sk-parallel-item::after {content: \"\";width: 100%;border-bottom: 1px solid gray;flex-grow: 1;}#sk-container-id-9 div.sk-label:hover label.sk-toggleable__label {background-color: #d4ebff;}#sk-container-id-9 div.sk-serial::before {content: \"\";position: absolute;border-left: 1px solid gray;box-sizing: border-box;top: 0;bottom: 0;left: 50%;z-index: 0;}#sk-container-id-9 div.sk-serial {display: flex;flex-direction: column;align-items: center;background-color: white;padding-right: 0.2em;padding-left: 0.2em;position: relative;}#sk-container-id-9 div.sk-item {position: relative;z-index: 1;}#sk-container-id-9 div.sk-parallel {display: flex;align-items: stretch;justify-content: center;background-color: white;position: relative;}#sk-container-id-9 div.sk-item::before, #sk-container-id-9 div.sk-parallel-item::before {content: \"\";position: absolute;border-left: 1px solid gray;box-sizing: border-box;top: 0;bottom: 0;left: 50%;z-index: -1;}#sk-container-id-9 div.sk-parallel-item {display: flex;flex-direction: column;z-index: 1;position: relative;background-color: white;}#sk-container-id-9 div.sk-parallel-item:first-child::after {align-self: flex-end;width: 50%;}#sk-container-id-9 div.sk-parallel-item:last-child::after {align-self: flex-start;width: 50%;}#sk-container-id-9 div.sk-parallel-item:only-child::after {width: 0;}#sk-container-id-9 div.sk-dashed-wrapped {border: 1px dashed gray;margin: 0 0.4em 0.5em 0.4em;box-sizing: border-box;padding-bottom: 0.4em;background-color: white;}#sk-container-id-9 div.sk-label label {font-family: monospace;font-weight: bold;display: inline-block;line-height: 1.2em;}#sk-container-id-9 div.sk-label-container {text-align: center;}#sk-container-id-9 div.sk-container {/* jupyter's `normalize.less` sets `[hidden] { display: none; }` but bootstrap.min.css set `[hidden] { display: none !important; }` so we also need the `!important` here to be able to override the default hidden behavior on the sphinx rendered scikit-learn.org. See: https://github.com/scikit-learn/scikit-learn/issues/21755 */display: inline-block !important;position: relative;}#sk-container-id-9 div.sk-text-repr-fallback {display: none;}</style><div id=\"sk-container-id-9\" class=\"sk-top-container\"><div class=\"sk-text-repr-fallback\"><pre>RandomForestClassifier()</pre><b>In a Jupyter environment, please rerun this cell to show the HTML representation or trust the notebook. <br />On GitHub, the HTML representation is unable to render, please try loading this page with nbviewer.org.</b></div><div class=\"sk-container\" hidden><div class=\"sk-item\"><div class=\"sk-estimator sk-toggleable\"><input class=\"sk-toggleable__control sk-hidden--visually\" id=\"sk-estimator-id-15\" type=\"checkbox\" checked><label for=\"sk-estimator-id-15\" class=\"sk-toggleable__label sk-toggleable__label-arrow\">RandomForestClassifier</label><div class=\"sk-toggleable__content\"><pre>RandomForestClassifier()</pre></div></div></div></div></div>"
      ],
      "text/plain": [
       "RandomForestClassifier()"
      ]
     },
     "execution_count": 316,
     "metadata": {},
     "output_type": "execute_result"
    }
   ],
   "source": [
    "from sklearn.ensemble import AdaBoostClassifier\n",
    "adaboost_classifier = AdaBoostClassifier()\n",
    "adaboost_classifier.fit(X_train, y_train)\n",
    "\n",
    "from sklearn.ensemble import RandomForestClassifier\n",
    "rf_classifier = RandomForestClassifier()\n",
    "rf_classifier.fit(X_train, y_train)\n"
   ]
  },
  {
   "cell_type": "code",
   "execution_count": 317,
   "metadata": {},
   "outputs": [
    {
     "name": "stdout",
     "output_type": "stream",
     "text": [
      "\n",
      "adabost_y_predict\n",
      "[[34  8]\n",
      " [16  5]]\n",
      "0.6190476190476191\n",
      "0.23809523809523808\n",
      "0.38461538461538464\n",
      "\n",
      "rf_y_predict\n",
      "[[40  2]\n",
      " [19  2]]\n",
      "0.6666666666666666\n",
      "0.09523809523809523\n",
      "0.5\n"
     ]
    }
   ],
   "source": [
    "adaboost_y_predict = predict(adaboost_classifier)\n",
    "print('\\nadabost_y_predict')\n",
    "print_evaluations(adaboost_y_predict)\n",
    "\n",
    "rf_y_predict = predict(rf_classifier)\n",
    "print('\\nrf_y_predict')\n",
    "print_evaluations(rf_y_predict)"
   ]
  },
  {
   "cell_type": "code",
   "execution_count": 318,
   "metadata": {},
   "outputs": [
    {
     "data": {
      "text/html": [
       "<style>#sk-container-id-10 {color: black;background-color: white;}#sk-container-id-10 pre{padding: 0;}#sk-container-id-10 div.sk-toggleable {background-color: white;}#sk-container-id-10 label.sk-toggleable__label {cursor: pointer;display: block;width: 100%;margin-bottom: 0;padding: 0.3em;box-sizing: border-box;text-align: center;}#sk-container-id-10 label.sk-toggleable__label-arrow:before {content: \"▸\";float: left;margin-right: 0.25em;color: #696969;}#sk-container-id-10 label.sk-toggleable__label-arrow:hover:before {color: black;}#sk-container-id-10 div.sk-estimator:hover label.sk-toggleable__label-arrow:before {color: black;}#sk-container-id-10 div.sk-toggleable__content {max-height: 0;max-width: 0;overflow: hidden;text-align: left;background-color: #f0f8ff;}#sk-container-id-10 div.sk-toggleable__content pre {margin: 0.2em;color: black;border-radius: 0.25em;background-color: #f0f8ff;}#sk-container-id-10 input.sk-toggleable__control:checked~div.sk-toggleable__content {max-height: 200px;max-width: 100%;overflow: auto;}#sk-container-id-10 input.sk-toggleable__control:checked~label.sk-toggleable__label-arrow:before {content: \"▾\";}#sk-container-id-10 div.sk-estimator input.sk-toggleable__control:checked~label.sk-toggleable__label {background-color: #d4ebff;}#sk-container-id-10 div.sk-label input.sk-toggleable__control:checked~label.sk-toggleable__label {background-color: #d4ebff;}#sk-container-id-10 input.sk-hidden--visually {border: 0;clip: rect(1px 1px 1px 1px);clip: rect(1px, 1px, 1px, 1px);height: 1px;margin: -1px;overflow: hidden;padding: 0;position: absolute;width: 1px;}#sk-container-id-10 div.sk-estimator {font-family: monospace;background-color: #f0f8ff;border: 1px dotted black;border-radius: 0.25em;box-sizing: border-box;margin-bottom: 0.5em;}#sk-container-id-10 div.sk-estimator:hover {background-color: #d4ebff;}#sk-container-id-10 div.sk-parallel-item::after {content: \"\";width: 100%;border-bottom: 1px solid gray;flex-grow: 1;}#sk-container-id-10 div.sk-label:hover label.sk-toggleable__label {background-color: #d4ebff;}#sk-container-id-10 div.sk-serial::before {content: \"\";position: absolute;border-left: 1px solid gray;box-sizing: border-box;top: 0;bottom: 0;left: 50%;z-index: 0;}#sk-container-id-10 div.sk-serial {display: flex;flex-direction: column;align-items: center;background-color: white;padding-right: 0.2em;padding-left: 0.2em;position: relative;}#sk-container-id-10 div.sk-item {position: relative;z-index: 1;}#sk-container-id-10 div.sk-parallel {display: flex;align-items: stretch;justify-content: center;background-color: white;position: relative;}#sk-container-id-10 div.sk-item::before, #sk-container-id-10 div.sk-parallel-item::before {content: \"\";position: absolute;border-left: 1px solid gray;box-sizing: border-box;top: 0;bottom: 0;left: 50%;z-index: -1;}#sk-container-id-10 div.sk-parallel-item {display: flex;flex-direction: column;z-index: 1;position: relative;background-color: white;}#sk-container-id-10 div.sk-parallel-item:first-child::after {align-self: flex-end;width: 50%;}#sk-container-id-10 div.sk-parallel-item:last-child::after {align-self: flex-start;width: 50%;}#sk-container-id-10 div.sk-parallel-item:only-child::after {width: 0;}#sk-container-id-10 div.sk-dashed-wrapped {border: 1px dashed gray;margin: 0 0.4em 0.5em 0.4em;box-sizing: border-box;padding-bottom: 0.4em;background-color: white;}#sk-container-id-10 div.sk-label label {font-family: monospace;font-weight: bold;display: inline-block;line-height: 1.2em;}#sk-container-id-10 div.sk-label-container {text-align: center;}#sk-container-id-10 div.sk-container {/* jupyter's `normalize.less` sets `[hidden] { display: none; }` but bootstrap.min.css set `[hidden] { display: none !important; }` so we also need the `!important` here to be able to override the default hidden behavior on the sphinx rendered scikit-learn.org. See: https://github.com/scikit-learn/scikit-learn/issues/21755 */display: inline-block !important;position: relative;}#sk-container-id-10 div.sk-text-repr-fallback {display: none;}</style><div id=\"sk-container-id-10\" class=\"sk-top-container\"><div class=\"sk-text-repr-fallback\"><pre>BaggingClassifier(base_estimator=DecisionTreeClassifier(), n_estimators=100,\n",
       "                  oob_score=True, random_state=0)</pre><b>In a Jupyter environment, please rerun this cell to show the HTML representation or trust the notebook. <br />On GitHub, the HTML representation is unable to render, please try loading this page with nbviewer.org.</b></div><div class=\"sk-container\" hidden><div class=\"sk-item sk-dashed-wrapped\"><div class=\"sk-label-container\"><div class=\"sk-label sk-toggleable\"><input class=\"sk-toggleable__control sk-hidden--visually\" id=\"sk-estimator-id-16\" type=\"checkbox\" ><label for=\"sk-estimator-id-16\" class=\"sk-toggleable__label sk-toggleable__label-arrow\">BaggingClassifier</label><div class=\"sk-toggleable__content\"><pre>BaggingClassifier(base_estimator=DecisionTreeClassifier(), n_estimators=100,\n",
       "                  oob_score=True, random_state=0)</pre></div></div></div><div class=\"sk-parallel\"><div class=\"sk-parallel-item\"><div class=\"sk-item\"><div class=\"sk-label-container\"><div class=\"sk-label sk-toggleable\"><input class=\"sk-toggleable__control sk-hidden--visually\" id=\"sk-estimator-id-17\" type=\"checkbox\" ><label for=\"sk-estimator-id-17\" class=\"sk-toggleable__label sk-toggleable__label-arrow\">base_estimator: DecisionTreeClassifier</label><div class=\"sk-toggleable__content\"><pre>DecisionTreeClassifier()</pre></div></div></div><div class=\"sk-serial\"><div class=\"sk-item\"><div class=\"sk-estimator sk-toggleable\"><input class=\"sk-toggleable__control sk-hidden--visually\" id=\"sk-estimator-id-18\" type=\"checkbox\" ><label for=\"sk-estimator-id-18\" class=\"sk-toggleable__label sk-toggleable__label-arrow\">DecisionTreeClassifier</label><div class=\"sk-toggleable__content\"><pre>DecisionTreeClassifier()</pre></div></div></div></div></div></div></div></div></div></div>"
      ],
      "text/plain": [
       "BaggingClassifier(base_estimator=DecisionTreeClassifier(), n_estimators=100,\n",
       "                  oob_score=True, random_state=0)"
      ]
     },
     "execution_count": 318,
     "metadata": {},
     "output_type": "execute_result"
    }
   ],
   "source": [
    "from sklearn.ensemble import BaggingClassifier\n",
    "bag_model = BaggingClassifier(\n",
    "base_estimator=DecisionTreeClassifier(), \n",
    "    n_estimators=100, \n",
    "    max_samples=1.0, \n",
    "    bootstrap=True,\n",
    "    oob_score=True,\n",
    "    random_state=0\n",
    ")\n",
    "bag_model.fit(X_train, y_train)\n"
   ]
  },
  {
   "cell_type": "code",
   "execution_count": 319,
   "metadata": {},
   "outputs": [
    {
     "name": "stdout",
     "output_type": "stream",
     "text": [
      "\n",
      "rf_y_predict\n",
      "[[39  3]\n",
      " [17  4]]\n",
      "0.6825396825396826\n",
      "0.19047619047619047\n",
      "0.5714285714285714\n"
     ]
    }
   ],
   "source": [
    "bag_y_predict = predict(bag_model)\n",
    "print('\\nrf_y_predict')\n",
    "print_evaluations(bag_y_predict)"
   ]
  },
  {
   "cell_type": "code",
   "execution_count": 320,
   "metadata": {},
   "outputs": [
    {
     "data": {
      "text/plain": [
       "array([0.76190476, 0.78571429, 0.64285714, 0.69047619, 0.76190476])"
      ]
     },
     "execution_count": 320,
     "metadata": {},
     "output_type": "execute_result"
    }
   ],
   "source": [
    "cross_val_score(bag_model, one_hot_encoded_data, Y)"
   ]
  },
  {
   "cell_type": "markdown",
   "metadata": {},
   "source": [
    "**Feature Selection**\n",
    ">dimentionality reduction"
   ]
  },
  {
   "cell_type": "markdown",
   "metadata": {},
   "source": [
    ">RFE"
   ]
  },
  {
   "cell_type": "code",
   "execution_count": 321,
   "metadata": {},
   "outputs": [],
   "source": [
    "from sklearn.feature_selection import RFE\n",
    "\n",
    "\n",
    "rfe = RFE(RandomForestClassifier(n_estimators=100), n_features_to_select=30)"
   ]
  },
  {
   "cell_type": "code",
   "execution_count": 322,
   "metadata": {},
   "outputs": [
    {
     "data": {
      "text/html": [
       "<style>#sk-container-id-11 {color: black;background-color: white;}#sk-container-id-11 pre{padding: 0;}#sk-container-id-11 div.sk-toggleable {background-color: white;}#sk-container-id-11 label.sk-toggleable__label {cursor: pointer;display: block;width: 100%;margin-bottom: 0;padding: 0.3em;box-sizing: border-box;text-align: center;}#sk-container-id-11 label.sk-toggleable__label-arrow:before {content: \"▸\";float: left;margin-right: 0.25em;color: #696969;}#sk-container-id-11 label.sk-toggleable__label-arrow:hover:before {color: black;}#sk-container-id-11 div.sk-estimator:hover label.sk-toggleable__label-arrow:before {color: black;}#sk-container-id-11 div.sk-toggleable__content {max-height: 0;max-width: 0;overflow: hidden;text-align: left;background-color: #f0f8ff;}#sk-container-id-11 div.sk-toggleable__content pre {margin: 0.2em;color: black;border-radius: 0.25em;background-color: #f0f8ff;}#sk-container-id-11 input.sk-toggleable__control:checked~div.sk-toggleable__content {max-height: 200px;max-width: 100%;overflow: auto;}#sk-container-id-11 input.sk-toggleable__control:checked~label.sk-toggleable__label-arrow:before {content: \"▾\";}#sk-container-id-11 div.sk-estimator input.sk-toggleable__control:checked~label.sk-toggleable__label {background-color: #d4ebff;}#sk-container-id-11 div.sk-label input.sk-toggleable__control:checked~label.sk-toggleable__label {background-color: #d4ebff;}#sk-container-id-11 input.sk-hidden--visually {border: 0;clip: rect(1px 1px 1px 1px);clip: rect(1px, 1px, 1px, 1px);height: 1px;margin: -1px;overflow: hidden;padding: 0;position: absolute;width: 1px;}#sk-container-id-11 div.sk-estimator {font-family: monospace;background-color: #f0f8ff;border: 1px dotted black;border-radius: 0.25em;box-sizing: border-box;margin-bottom: 0.5em;}#sk-container-id-11 div.sk-estimator:hover {background-color: #d4ebff;}#sk-container-id-11 div.sk-parallel-item::after {content: \"\";width: 100%;border-bottom: 1px solid gray;flex-grow: 1;}#sk-container-id-11 div.sk-label:hover label.sk-toggleable__label {background-color: #d4ebff;}#sk-container-id-11 div.sk-serial::before {content: \"\";position: absolute;border-left: 1px solid gray;box-sizing: border-box;top: 0;bottom: 0;left: 50%;z-index: 0;}#sk-container-id-11 div.sk-serial {display: flex;flex-direction: column;align-items: center;background-color: white;padding-right: 0.2em;padding-left: 0.2em;position: relative;}#sk-container-id-11 div.sk-item {position: relative;z-index: 1;}#sk-container-id-11 div.sk-parallel {display: flex;align-items: stretch;justify-content: center;background-color: white;position: relative;}#sk-container-id-11 div.sk-item::before, #sk-container-id-11 div.sk-parallel-item::before {content: \"\";position: absolute;border-left: 1px solid gray;box-sizing: border-box;top: 0;bottom: 0;left: 50%;z-index: -1;}#sk-container-id-11 div.sk-parallel-item {display: flex;flex-direction: column;z-index: 1;position: relative;background-color: white;}#sk-container-id-11 div.sk-parallel-item:first-child::after {align-self: flex-end;width: 50%;}#sk-container-id-11 div.sk-parallel-item:last-child::after {align-self: flex-start;width: 50%;}#sk-container-id-11 div.sk-parallel-item:only-child::after {width: 0;}#sk-container-id-11 div.sk-dashed-wrapped {border: 1px dashed gray;margin: 0 0.4em 0.5em 0.4em;box-sizing: border-box;padding-bottom: 0.4em;background-color: white;}#sk-container-id-11 div.sk-label label {font-family: monospace;font-weight: bold;display: inline-block;line-height: 1.2em;}#sk-container-id-11 div.sk-label-container {text-align: center;}#sk-container-id-11 div.sk-container {/* jupyter's `normalize.less` sets `[hidden] { display: none; }` but bootstrap.min.css set `[hidden] { display: none !important; }` so we also need the `!important` here to be able to override the default hidden behavior on the sphinx rendered scikit-learn.org. See: https://github.com/scikit-learn/scikit-learn/issues/21755 */display: inline-block !important;position: relative;}#sk-container-id-11 div.sk-text-repr-fallback {display: none;}</style><div id=\"sk-container-id-11\" class=\"sk-top-container\"><div class=\"sk-text-repr-fallback\"><pre>RFE(estimator=RandomForestClassifier(), n_features_to_select=30)</pre><b>In a Jupyter environment, please rerun this cell to show the HTML representation or trust the notebook. <br />On GitHub, the HTML representation is unable to render, please try loading this page with nbviewer.org.</b></div><div class=\"sk-container\" hidden><div class=\"sk-item sk-dashed-wrapped\"><div class=\"sk-label-container\"><div class=\"sk-label sk-toggleable\"><input class=\"sk-toggleable__control sk-hidden--visually\" id=\"sk-estimator-id-19\" type=\"checkbox\" ><label for=\"sk-estimator-id-19\" class=\"sk-toggleable__label sk-toggleable__label-arrow\">RFE</label><div class=\"sk-toggleable__content\"><pre>RFE(estimator=RandomForestClassifier(), n_features_to_select=30)</pre></div></div></div><div class=\"sk-parallel\"><div class=\"sk-parallel-item\"><div class=\"sk-item\"><div class=\"sk-label-container\"><div class=\"sk-label sk-toggleable\"><input class=\"sk-toggleable__control sk-hidden--visually\" id=\"sk-estimator-id-20\" type=\"checkbox\" ><label for=\"sk-estimator-id-20\" class=\"sk-toggleable__label sk-toggleable__label-arrow\">estimator: RandomForestClassifier</label><div class=\"sk-toggleable__content\"><pre>RandomForestClassifier()</pre></div></div></div><div class=\"sk-serial\"><div class=\"sk-item\"><div class=\"sk-estimator sk-toggleable\"><input class=\"sk-toggleable__control sk-hidden--visually\" id=\"sk-estimator-id-21\" type=\"checkbox\" ><label for=\"sk-estimator-id-21\" class=\"sk-toggleable__label sk-toggleable__label-arrow\">RandomForestClassifier</label><div class=\"sk-toggleable__content\"><pre>RandomForestClassifier()</pre></div></div></div></div></div></div></div></div></div></div>"
      ],
      "text/plain": [
       "RFE(estimator=RandomForestClassifier(), n_features_to_select=30)"
      ]
     },
     "execution_count": 322,
     "metadata": {},
     "output_type": "execute_result"
    }
   ],
   "source": [
    "rfe.fit(one_hot_encoded_data, Y)"
   ]
  },
  {
   "cell_type": "code",
   "execution_count": 323,
   "metadata": {},
   "outputs": [],
   "source": [
    "# correlated_features = set()\n",
    "# correlation_matrix = clinical_data.drop('Recurrence', axis=1).corr()\n",
    "\n",
    "# for i in range(len(correlation_matrix.columns)):\n",
    "#     for j in range(i):\n",
    "#         if abs(correlation_matrix.iloc[i, j]) > 0.8:\n",
    "#             colname = correlation_matrix.columns[i]\n",
    "#             correlated_features.add(colname)"
   ]
  },
  {
   "cell_type": "code",
   "execution_count": 324,
   "metadata": {},
   "outputs": [
    {
     "data": {
      "text/html": [
       "<div>\n",
       "<style scoped>\n",
       "    .dataframe tbody tr th:only-of-type {\n",
       "        vertical-align: middle;\n",
       "    }\n",
       "\n",
       "    .dataframe tbody tr th {\n",
       "        vertical-align: top;\n",
       "    }\n",
       "\n",
       "    .dataframe thead th {\n",
       "        text-align: right;\n",
       "    }\n",
       "</style>\n",
       "<table border=\"1\" class=\"dataframe\">\n",
       "  <thead>\n",
       "    <tr style=\"text-align: right;\">\n",
       "      <th></th>\n",
       "      <th>Age at Histological Diagnosis</th>\n",
       "      <th>Weight (lbs)</th>\n",
       "      <th>Tumor Location (choice=RUL)</th>\n",
       "      <th>Tumor Location (choice=RML)</th>\n",
       "      <th>Tumor Location (choice=RLL)</th>\n",
       "      <th>Tumor Location (choice=LUL)</th>\n",
       "      <th>Tumor Location (choice=LLL)</th>\n",
       "      <th>Tumor Location (choice=L Lingula)</th>\n",
       "      <th>Tumor Location (choice=Unknown)</th>\n",
       "      <th>Adjuvant Treatment</th>\n",
       "      <th>...</th>\n",
       "      <th>EGFR mutation status_Wildtype</th>\n",
       "      <th>KRAS mutation status_Mutant</th>\n",
       "      <th>KRAS mutation status_Unknown</th>\n",
       "      <th>KRAS mutation status_Wildtype</th>\n",
       "      <th>ALK translocation status_Translocated</th>\n",
       "      <th>ALK translocation status_Unknown</th>\n",
       "      <th>ALK translocation status_Wildtype</th>\n",
       "      <th>Histology_Adenocarcinoma</th>\n",
       "      <th>Histology_NSCLC NOS (not otherwise specified)</th>\n",
       "      <th>Histology_Squamous cell carcinoma</th>\n",
       "    </tr>\n",
       "  </thead>\n",
       "  <tbody>\n",
       "    <tr>\n",
       "      <th>0</th>\n",
       "      <td>34</td>\n",
       "      <td>171.0</td>\n",
       "      <td>0</td>\n",
       "      <td>0</td>\n",
       "      <td>1</td>\n",
       "      <td>0</td>\n",
       "      <td>0</td>\n",
       "      <td>0</td>\n",
       "      <td>0</td>\n",
       "      <td>0</td>\n",
       "      <td>...</td>\n",
       "      <td>1</td>\n",
       "      <td>1</td>\n",
       "      <td>0</td>\n",
       "      <td>0</td>\n",
       "      <td>0</td>\n",
       "      <td>0</td>\n",
       "      <td>1</td>\n",
       "      <td>1</td>\n",
       "      <td>0</td>\n",
       "      <td>0</td>\n",
       "    </tr>\n",
       "    <tr>\n",
       "      <th>1</th>\n",
       "      <td>33</td>\n",
       "      <td>171.0</td>\n",
       "      <td>0</td>\n",
       "      <td>0</td>\n",
       "      <td>0</td>\n",
       "      <td>0</td>\n",
       "      <td>1</td>\n",
       "      <td>0</td>\n",
       "      <td>0</td>\n",
       "      <td>0</td>\n",
       "      <td>...</td>\n",
       "      <td>1</td>\n",
       "      <td>0</td>\n",
       "      <td>0</td>\n",
       "      <td>1</td>\n",
       "      <td>0</td>\n",
       "      <td>0</td>\n",
       "      <td>0</td>\n",
       "      <td>1</td>\n",
       "      <td>0</td>\n",
       "      <td>0</td>\n",
       "    </tr>\n",
       "    <tr>\n",
       "      <th>2</th>\n",
       "      <td>69</td>\n",
       "      <td>171.0</td>\n",
       "      <td>0</td>\n",
       "      <td>0</td>\n",
       "      <td>1</td>\n",
       "      <td>0</td>\n",
       "      <td>0</td>\n",
       "      <td>0</td>\n",
       "      <td>0</td>\n",
       "      <td>0</td>\n",
       "      <td>...</td>\n",
       "      <td>0</td>\n",
       "      <td>0</td>\n",
       "      <td>0</td>\n",
       "      <td>1</td>\n",
       "      <td>0</td>\n",
       "      <td>0</td>\n",
       "      <td>1</td>\n",
       "      <td>1</td>\n",
       "      <td>0</td>\n",
       "      <td>0</td>\n",
       "    </tr>\n",
       "    <tr>\n",
       "      <th>3</th>\n",
       "      <td>80</td>\n",
       "      <td>171.0</td>\n",
       "      <td>0</td>\n",
       "      <td>0</td>\n",
       "      <td>0</td>\n",
       "      <td>0</td>\n",
       "      <td>0</td>\n",
       "      <td>1</td>\n",
       "      <td>0</td>\n",
       "      <td>0</td>\n",
       "      <td>...</td>\n",
       "      <td>1</td>\n",
       "      <td>0</td>\n",
       "      <td>0</td>\n",
       "      <td>1</td>\n",
       "      <td>0</td>\n",
       "      <td>0</td>\n",
       "      <td>1</td>\n",
       "      <td>1</td>\n",
       "      <td>0</td>\n",
       "      <td>0</td>\n",
       "    </tr>\n",
       "    <tr>\n",
       "      <th>4</th>\n",
       "      <td>76</td>\n",
       "      <td>171.0</td>\n",
       "      <td>0</td>\n",
       "      <td>0</td>\n",
       "      <td>0</td>\n",
       "      <td>0</td>\n",
       "      <td>1</td>\n",
       "      <td>0</td>\n",
       "      <td>0</td>\n",
       "      <td>0</td>\n",
       "      <td>...</td>\n",
       "      <td>0</td>\n",
       "      <td>0</td>\n",
       "      <td>0</td>\n",
       "      <td>1</td>\n",
       "      <td>0</td>\n",
       "      <td>0</td>\n",
       "      <td>1</td>\n",
       "      <td>1</td>\n",
       "      <td>0</td>\n",
       "      <td>0</td>\n",
       "    </tr>\n",
       "    <tr>\n",
       "      <th>...</th>\n",
       "      <td>...</td>\n",
       "      <td>...</td>\n",
       "      <td>...</td>\n",
       "      <td>...</td>\n",
       "      <td>...</td>\n",
       "      <td>...</td>\n",
       "      <td>...</td>\n",
       "      <td>...</td>\n",
       "      <td>...</td>\n",
       "      <td>...</td>\n",
       "      <td>...</td>\n",
       "      <td>...</td>\n",
       "      <td>...</td>\n",
       "      <td>...</td>\n",
       "      <td>...</td>\n",
       "      <td>...</td>\n",
       "      <td>...</td>\n",
       "      <td>...</td>\n",
       "      <td>...</td>\n",
       "      <td>...</td>\n",
       "      <td>...</td>\n",
       "    </tr>\n",
       "    <tr>\n",
       "      <th>206</th>\n",
       "      <td>75</td>\n",
       "      <td>184.0</td>\n",
       "      <td>0</td>\n",
       "      <td>0</td>\n",
       "      <td>0</td>\n",
       "      <td>0</td>\n",
       "      <td>1</td>\n",
       "      <td>0</td>\n",
       "      <td>0</td>\n",
       "      <td>0</td>\n",
       "      <td>...</td>\n",
       "      <td>0</td>\n",
       "      <td>0</td>\n",
       "      <td>1</td>\n",
       "      <td>0</td>\n",
       "      <td>0</td>\n",
       "      <td>1</td>\n",
       "      <td>0</td>\n",
       "      <td>0</td>\n",
       "      <td>0</td>\n",
       "      <td>1</td>\n",
       "    </tr>\n",
       "    <tr>\n",
       "      <th>207</th>\n",
       "      <td>61</td>\n",
       "      <td>231.5</td>\n",
       "      <td>1</td>\n",
       "      <td>0</td>\n",
       "      <td>0</td>\n",
       "      <td>0</td>\n",
       "      <td>0</td>\n",
       "      <td>0</td>\n",
       "      <td>0</td>\n",
       "      <td>1</td>\n",
       "      <td>...</td>\n",
       "      <td>0</td>\n",
       "      <td>1</td>\n",
       "      <td>0</td>\n",
       "      <td>0</td>\n",
       "      <td>0</td>\n",
       "      <td>1</td>\n",
       "      <td>0</td>\n",
       "      <td>1</td>\n",
       "      <td>0</td>\n",
       "      <td>0</td>\n",
       "    </tr>\n",
       "    <tr>\n",
       "      <th>208</th>\n",
       "      <td>52</td>\n",
       "      <td>171.0</td>\n",
       "      <td>0</td>\n",
       "      <td>0</td>\n",
       "      <td>0</td>\n",
       "      <td>1</td>\n",
       "      <td>0</td>\n",
       "      <td>0</td>\n",
       "      <td>0</td>\n",
       "      <td>0</td>\n",
       "      <td>...</td>\n",
       "      <td>1</td>\n",
       "      <td>0</td>\n",
       "      <td>0</td>\n",
       "      <td>1</td>\n",
       "      <td>0</td>\n",
       "      <td>0</td>\n",
       "      <td>1</td>\n",
       "      <td>1</td>\n",
       "      <td>0</td>\n",
       "      <td>0</td>\n",
       "    </tr>\n",
       "    <tr>\n",
       "      <th>209</th>\n",
       "      <td>67</td>\n",
       "      <td>158.0</td>\n",
       "      <td>0</td>\n",
       "      <td>0</td>\n",
       "      <td>0</td>\n",
       "      <td>1</td>\n",
       "      <td>0</td>\n",
       "      <td>0</td>\n",
       "      <td>0</td>\n",
       "      <td>0</td>\n",
       "      <td>...</td>\n",
       "      <td>0</td>\n",
       "      <td>0</td>\n",
       "      <td>0</td>\n",
       "      <td>1</td>\n",
       "      <td>0</td>\n",
       "      <td>0</td>\n",
       "      <td>1</td>\n",
       "      <td>1</td>\n",
       "      <td>0</td>\n",
       "      <td>0</td>\n",
       "    </tr>\n",
       "    <tr>\n",
       "      <th>210</th>\n",
       "      <td>68</td>\n",
       "      <td>229.0</td>\n",
       "      <td>0</td>\n",
       "      <td>0</td>\n",
       "      <td>0</td>\n",
       "      <td>0</td>\n",
       "      <td>0</td>\n",
       "      <td>1</td>\n",
       "      <td>0</td>\n",
       "      <td>1</td>\n",
       "      <td>...</td>\n",
       "      <td>0</td>\n",
       "      <td>0</td>\n",
       "      <td>0</td>\n",
       "      <td>0</td>\n",
       "      <td>0</td>\n",
       "      <td>0</td>\n",
       "      <td>0</td>\n",
       "      <td>0</td>\n",
       "      <td>1</td>\n",
       "      <td>0</td>\n",
       "    </tr>\n",
       "  </tbody>\n",
       "</table>\n",
       "<p>210 rows × 111 columns</p>\n",
       "</div>"
      ],
      "text/plain": [
       "     Age at Histological Diagnosis  Weight (lbs)  Tumor Location (choice=RUL)  \\\n",
       "0                               34         171.0                            0   \n",
       "1                               33         171.0                            0   \n",
       "2                               69         171.0                            0   \n",
       "3                               80         171.0                            0   \n",
       "4                               76         171.0                            0   \n",
       "..                             ...           ...                          ...   \n",
       "206                             75         184.0                            0   \n",
       "207                             61         231.5                            1   \n",
       "208                             52         171.0                            0   \n",
       "209                             67         158.0                            0   \n",
       "210                             68         229.0                            0   \n",
       "\n",
       "     Tumor Location (choice=RML)  Tumor Location (choice=RLL)  \\\n",
       "0                              0                            1   \n",
       "1                              0                            0   \n",
       "2                              0                            1   \n",
       "3                              0                            0   \n",
       "4                              0                            0   \n",
       "..                           ...                          ...   \n",
       "206                            0                            0   \n",
       "207                            0                            0   \n",
       "208                            0                            0   \n",
       "209                            0                            0   \n",
       "210                            0                            0   \n",
       "\n",
       "     Tumor Location (choice=LUL)  Tumor Location (choice=LLL)  \\\n",
       "0                              0                            0   \n",
       "1                              0                            1   \n",
       "2                              0                            0   \n",
       "3                              0                            0   \n",
       "4                              0                            1   \n",
       "..                           ...                          ...   \n",
       "206                            0                            1   \n",
       "207                            0                            0   \n",
       "208                            1                            0   \n",
       "209                            1                            0   \n",
       "210                            0                            0   \n",
       "\n",
       "     Tumor Location (choice=L Lingula)  Tumor Location (choice=Unknown)  \\\n",
       "0                                    0                                0   \n",
       "1                                    0                                0   \n",
       "2                                    0                                0   \n",
       "3                                    1                                0   \n",
       "4                                    0                                0   \n",
       "..                                 ...                              ...   \n",
       "206                                  0                                0   \n",
       "207                                  0                                0   \n",
       "208                                  0                                0   \n",
       "209                                  0                                0   \n",
       "210                                  1                                0   \n",
       "\n",
       "     Adjuvant Treatment  ...  EGFR mutation status_Wildtype  \\\n",
       "0                     0  ...                              1   \n",
       "1                     0  ...                              1   \n",
       "2                     0  ...                              0   \n",
       "3                     0  ...                              1   \n",
       "4                     0  ...                              0   \n",
       "..                  ...  ...                            ...   \n",
       "206                   0  ...                              0   \n",
       "207                   1  ...                              0   \n",
       "208                   0  ...                              1   \n",
       "209                   0  ...                              0   \n",
       "210                   1  ...                              0   \n",
       "\n",
       "     KRAS mutation status_Mutant  KRAS mutation status_Unknown  \\\n",
       "0                              1                             0   \n",
       "1                              0                             0   \n",
       "2                              0                             0   \n",
       "3                              0                             0   \n",
       "4                              0                             0   \n",
       "..                           ...                           ...   \n",
       "206                            0                             1   \n",
       "207                            1                             0   \n",
       "208                            0                             0   \n",
       "209                            0                             0   \n",
       "210                            0                             0   \n",
       "\n",
       "     KRAS mutation status_Wildtype  ALK translocation status_Translocated  \\\n",
       "0                                0                                      0   \n",
       "1                                1                                      0   \n",
       "2                                1                                      0   \n",
       "3                                1                                      0   \n",
       "4                                1                                      0   \n",
       "..                             ...                                    ...   \n",
       "206                              0                                      0   \n",
       "207                              0                                      0   \n",
       "208                              1                                      0   \n",
       "209                              1                                      0   \n",
       "210                              0                                      0   \n",
       "\n",
       "     ALK translocation status_Unknown  ALK translocation status_Wildtype  \\\n",
       "0                                   0                                  1   \n",
       "1                                   0                                  0   \n",
       "2                                   0                                  1   \n",
       "3                                   0                                  1   \n",
       "4                                   0                                  1   \n",
       "..                                ...                                ...   \n",
       "206                                 1                                  0   \n",
       "207                                 1                                  0   \n",
       "208                                 0                                  1   \n",
       "209                                 0                                  1   \n",
       "210                                 0                                  0   \n",
       "\n",
       "     Histology_Adenocarcinoma  Histology_NSCLC NOS (not otherwise specified)  \\\n",
       "0                           1                                              0   \n",
       "1                           1                                              0   \n",
       "2                           1                                              0   \n",
       "3                           1                                              0   \n",
       "4                           1                                              0   \n",
       "..                        ...                                            ...   \n",
       "206                         0                                              0   \n",
       "207                         1                                              0   \n",
       "208                         1                                              0   \n",
       "209                         1                                              0   \n",
       "210                         0                                              1   \n",
       "\n",
       "     Histology_Squamous cell carcinoma  \n",
       "0                                    0  \n",
       "1                                    0  \n",
       "2                                    0  \n",
       "3                                    0  \n",
       "4                                    0  \n",
       "..                                 ...  \n",
       "206                                  1  \n",
       "207                                  0  \n",
       "208                                  0  \n",
       "209                                  0  \n",
       "210                                  0  \n",
       "\n",
       "[210 rows x 111 columns]"
      ]
     },
     "execution_count": 324,
     "metadata": {},
     "output_type": "execute_result"
    }
   ],
   "source": [
    "one_hot_encoded_data"
   ]
  },
  {
   "cell_type": "code",
   "execution_count": 325,
   "metadata": {},
   "outputs": [],
   "source": [
    "# correlated_features"
   ]
  },
  {
   "cell_type": "code",
   "execution_count": 326,
   "metadata": {},
   "outputs": [
    {
     "data": {
      "text/html": [
       "<div>\n",
       "<style scoped>\n",
       "    .dataframe tbody tr th:only-of-type {\n",
       "        vertical-align: middle;\n",
       "    }\n",
       "\n",
       "    .dataframe tbody tr th {\n",
       "        vertical-align: top;\n",
       "    }\n",
       "\n",
       "    .dataframe thead th {\n",
       "        text-align: right;\n",
       "    }\n",
       "</style>\n",
       "<table border=\"1\" class=\"dataframe\">\n",
       "  <thead>\n",
       "    <tr style=\"text-align: right;\">\n",
       "      <th></th>\n",
       "      <th>Age at Histological Diagnosis</th>\n",
       "      <th>Weight (lbs)</th>\n",
       "      <th>Tumor Location (choice=RUL)</th>\n",
       "      <th>Tumor Location (choice=RML)</th>\n",
       "      <th>Tumor Location (choice=RLL)</th>\n",
       "      <th>Tumor Location (choice=LUL)</th>\n",
       "      <th>Tumor Location (choice=LLL)</th>\n",
       "      <th>Tumor Location (choice=L Lingula)</th>\n",
       "      <th>Tumor Location (choice=Unknown)</th>\n",
       "      <th>Adjuvant Treatment</th>\n",
       "      <th>...</th>\n",
       "      <th>EGFR mutation status_Wildtype</th>\n",
       "      <th>KRAS mutation status_Mutant</th>\n",
       "      <th>KRAS mutation status_Unknown</th>\n",
       "      <th>KRAS mutation status_Wildtype</th>\n",
       "      <th>ALK translocation status_Translocated</th>\n",
       "      <th>ALK translocation status_Unknown</th>\n",
       "      <th>ALK translocation status_Wildtype</th>\n",
       "      <th>Histology_Adenocarcinoma</th>\n",
       "      <th>Histology_NSCLC NOS (not otherwise specified)</th>\n",
       "      <th>Histology_Squamous cell carcinoma</th>\n",
       "    </tr>\n",
       "  </thead>\n",
       "  <tbody>\n",
       "    <tr>\n",
       "      <th>0</th>\n",
       "      <td>34</td>\n",
       "      <td>171.0</td>\n",
       "      <td>0</td>\n",
       "      <td>0</td>\n",
       "      <td>1</td>\n",
       "      <td>0</td>\n",
       "      <td>0</td>\n",
       "      <td>0</td>\n",
       "      <td>0</td>\n",
       "      <td>0</td>\n",
       "      <td>...</td>\n",
       "      <td>1</td>\n",
       "      <td>1</td>\n",
       "      <td>0</td>\n",
       "      <td>0</td>\n",
       "      <td>0</td>\n",
       "      <td>0</td>\n",
       "      <td>1</td>\n",
       "      <td>1</td>\n",
       "      <td>0</td>\n",
       "      <td>0</td>\n",
       "    </tr>\n",
       "    <tr>\n",
       "      <th>1</th>\n",
       "      <td>33</td>\n",
       "      <td>171.0</td>\n",
       "      <td>0</td>\n",
       "      <td>0</td>\n",
       "      <td>0</td>\n",
       "      <td>0</td>\n",
       "      <td>1</td>\n",
       "      <td>0</td>\n",
       "      <td>0</td>\n",
       "      <td>0</td>\n",
       "      <td>...</td>\n",
       "      <td>1</td>\n",
       "      <td>0</td>\n",
       "      <td>0</td>\n",
       "      <td>1</td>\n",
       "      <td>0</td>\n",
       "      <td>0</td>\n",
       "      <td>0</td>\n",
       "      <td>1</td>\n",
       "      <td>0</td>\n",
       "      <td>0</td>\n",
       "    </tr>\n",
       "    <tr>\n",
       "      <th>2</th>\n",
       "      <td>69</td>\n",
       "      <td>171.0</td>\n",
       "      <td>0</td>\n",
       "      <td>0</td>\n",
       "      <td>1</td>\n",
       "      <td>0</td>\n",
       "      <td>0</td>\n",
       "      <td>0</td>\n",
       "      <td>0</td>\n",
       "      <td>0</td>\n",
       "      <td>...</td>\n",
       "      <td>0</td>\n",
       "      <td>0</td>\n",
       "      <td>0</td>\n",
       "      <td>1</td>\n",
       "      <td>0</td>\n",
       "      <td>0</td>\n",
       "      <td>1</td>\n",
       "      <td>1</td>\n",
       "      <td>0</td>\n",
       "      <td>0</td>\n",
       "    </tr>\n",
       "    <tr>\n",
       "      <th>3</th>\n",
       "      <td>80</td>\n",
       "      <td>171.0</td>\n",
       "      <td>0</td>\n",
       "      <td>0</td>\n",
       "      <td>0</td>\n",
       "      <td>0</td>\n",
       "      <td>0</td>\n",
       "      <td>1</td>\n",
       "      <td>0</td>\n",
       "      <td>0</td>\n",
       "      <td>...</td>\n",
       "      <td>1</td>\n",
       "      <td>0</td>\n",
       "      <td>0</td>\n",
       "      <td>1</td>\n",
       "      <td>0</td>\n",
       "      <td>0</td>\n",
       "      <td>1</td>\n",
       "      <td>1</td>\n",
       "      <td>0</td>\n",
       "      <td>0</td>\n",
       "    </tr>\n",
       "    <tr>\n",
       "      <th>4</th>\n",
       "      <td>76</td>\n",
       "      <td>171.0</td>\n",
       "      <td>0</td>\n",
       "      <td>0</td>\n",
       "      <td>0</td>\n",
       "      <td>0</td>\n",
       "      <td>1</td>\n",
       "      <td>0</td>\n",
       "      <td>0</td>\n",
       "      <td>0</td>\n",
       "      <td>...</td>\n",
       "      <td>0</td>\n",
       "      <td>0</td>\n",
       "      <td>0</td>\n",
       "      <td>1</td>\n",
       "      <td>0</td>\n",
       "      <td>0</td>\n",
       "      <td>1</td>\n",
       "      <td>1</td>\n",
       "      <td>0</td>\n",
       "      <td>0</td>\n",
       "    </tr>\n",
       "    <tr>\n",
       "      <th>...</th>\n",
       "      <td>...</td>\n",
       "      <td>...</td>\n",
       "      <td>...</td>\n",
       "      <td>...</td>\n",
       "      <td>...</td>\n",
       "      <td>...</td>\n",
       "      <td>...</td>\n",
       "      <td>...</td>\n",
       "      <td>...</td>\n",
       "      <td>...</td>\n",
       "      <td>...</td>\n",
       "      <td>...</td>\n",
       "      <td>...</td>\n",
       "      <td>...</td>\n",
       "      <td>...</td>\n",
       "      <td>...</td>\n",
       "      <td>...</td>\n",
       "      <td>...</td>\n",
       "      <td>...</td>\n",
       "      <td>...</td>\n",
       "      <td>...</td>\n",
       "    </tr>\n",
       "    <tr>\n",
       "      <th>206</th>\n",
       "      <td>75</td>\n",
       "      <td>184.0</td>\n",
       "      <td>0</td>\n",
       "      <td>0</td>\n",
       "      <td>0</td>\n",
       "      <td>0</td>\n",
       "      <td>1</td>\n",
       "      <td>0</td>\n",
       "      <td>0</td>\n",
       "      <td>0</td>\n",
       "      <td>...</td>\n",
       "      <td>0</td>\n",
       "      <td>0</td>\n",
       "      <td>1</td>\n",
       "      <td>0</td>\n",
       "      <td>0</td>\n",
       "      <td>1</td>\n",
       "      <td>0</td>\n",
       "      <td>0</td>\n",
       "      <td>0</td>\n",
       "      <td>1</td>\n",
       "    </tr>\n",
       "    <tr>\n",
       "      <th>207</th>\n",
       "      <td>61</td>\n",
       "      <td>231.5</td>\n",
       "      <td>1</td>\n",
       "      <td>0</td>\n",
       "      <td>0</td>\n",
       "      <td>0</td>\n",
       "      <td>0</td>\n",
       "      <td>0</td>\n",
       "      <td>0</td>\n",
       "      <td>1</td>\n",
       "      <td>...</td>\n",
       "      <td>0</td>\n",
       "      <td>1</td>\n",
       "      <td>0</td>\n",
       "      <td>0</td>\n",
       "      <td>0</td>\n",
       "      <td>1</td>\n",
       "      <td>0</td>\n",
       "      <td>1</td>\n",
       "      <td>0</td>\n",
       "      <td>0</td>\n",
       "    </tr>\n",
       "    <tr>\n",
       "      <th>208</th>\n",
       "      <td>52</td>\n",
       "      <td>171.0</td>\n",
       "      <td>0</td>\n",
       "      <td>0</td>\n",
       "      <td>0</td>\n",
       "      <td>1</td>\n",
       "      <td>0</td>\n",
       "      <td>0</td>\n",
       "      <td>0</td>\n",
       "      <td>0</td>\n",
       "      <td>...</td>\n",
       "      <td>1</td>\n",
       "      <td>0</td>\n",
       "      <td>0</td>\n",
       "      <td>1</td>\n",
       "      <td>0</td>\n",
       "      <td>0</td>\n",
       "      <td>1</td>\n",
       "      <td>1</td>\n",
       "      <td>0</td>\n",
       "      <td>0</td>\n",
       "    </tr>\n",
       "    <tr>\n",
       "      <th>209</th>\n",
       "      <td>67</td>\n",
       "      <td>158.0</td>\n",
       "      <td>0</td>\n",
       "      <td>0</td>\n",
       "      <td>0</td>\n",
       "      <td>1</td>\n",
       "      <td>0</td>\n",
       "      <td>0</td>\n",
       "      <td>0</td>\n",
       "      <td>0</td>\n",
       "      <td>...</td>\n",
       "      <td>0</td>\n",
       "      <td>0</td>\n",
       "      <td>0</td>\n",
       "      <td>1</td>\n",
       "      <td>0</td>\n",
       "      <td>0</td>\n",
       "      <td>1</td>\n",
       "      <td>1</td>\n",
       "      <td>0</td>\n",
       "      <td>0</td>\n",
       "    </tr>\n",
       "    <tr>\n",
       "      <th>210</th>\n",
       "      <td>68</td>\n",
       "      <td>229.0</td>\n",
       "      <td>0</td>\n",
       "      <td>0</td>\n",
       "      <td>0</td>\n",
       "      <td>0</td>\n",
       "      <td>0</td>\n",
       "      <td>1</td>\n",
       "      <td>0</td>\n",
       "      <td>1</td>\n",
       "      <td>...</td>\n",
       "      <td>0</td>\n",
       "      <td>0</td>\n",
       "      <td>0</td>\n",
       "      <td>0</td>\n",
       "      <td>0</td>\n",
       "      <td>0</td>\n",
       "      <td>0</td>\n",
       "      <td>0</td>\n",
       "      <td>1</td>\n",
       "      <td>0</td>\n",
       "    </tr>\n",
       "  </tbody>\n",
       "</table>\n",
       "<p>210 rows × 111 columns</p>\n",
       "</div>"
      ],
      "text/plain": [
       "     Age at Histological Diagnosis  Weight (lbs)  Tumor Location (choice=RUL)  \\\n",
       "0                               34         171.0                            0   \n",
       "1                               33         171.0                            0   \n",
       "2                               69         171.0                            0   \n",
       "3                               80         171.0                            0   \n",
       "4                               76         171.0                            0   \n",
       "..                             ...           ...                          ...   \n",
       "206                             75         184.0                            0   \n",
       "207                             61         231.5                            1   \n",
       "208                             52         171.0                            0   \n",
       "209                             67         158.0                            0   \n",
       "210                             68         229.0                            0   \n",
       "\n",
       "     Tumor Location (choice=RML)  Tumor Location (choice=RLL)  \\\n",
       "0                              0                            1   \n",
       "1                              0                            0   \n",
       "2                              0                            1   \n",
       "3                              0                            0   \n",
       "4                              0                            0   \n",
       "..                           ...                          ...   \n",
       "206                            0                            0   \n",
       "207                            0                            0   \n",
       "208                            0                            0   \n",
       "209                            0                            0   \n",
       "210                            0                            0   \n",
       "\n",
       "     Tumor Location (choice=LUL)  Tumor Location (choice=LLL)  \\\n",
       "0                              0                            0   \n",
       "1                              0                            1   \n",
       "2                              0                            0   \n",
       "3                              0                            0   \n",
       "4                              0                            1   \n",
       "..                           ...                          ...   \n",
       "206                            0                            1   \n",
       "207                            0                            0   \n",
       "208                            1                            0   \n",
       "209                            1                            0   \n",
       "210                            0                            0   \n",
       "\n",
       "     Tumor Location (choice=L Lingula)  Tumor Location (choice=Unknown)  \\\n",
       "0                                    0                                0   \n",
       "1                                    0                                0   \n",
       "2                                    0                                0   \n",
       "3                                    1                                0   \n",
       "4                                    0                                0   \n",
       "..                                 ...                              ...   \n",
       "206                                  0                                0   \n",
       "207                                  0                                0   \n",
       "208                                  0                                0   \n",
       "209                                  0                                0   \n",
       "210                                  1                                0   \n",
       "\n",
       "     Adjuvant Treatment  ...  EGFR mutation status_Wildtype  \\\n",
       "0                     0  ...                              1   \n",
       "1                     0  ...                              1   \n",
       "2                     0  ...                              0   \n",
       "3                     0  ...                              1   \n",
       "4                     0  ...                              0   \n",
       "..                  ...  ...                            ...   \n",
       "206                   0  ...                              0   \n",
       "207                   1  ...                              0   \n",
       "208                   0  ...                              1   \n",
       "209                   0  ...                              0   \n",
       "210                   1  ...                              0   \n",
       "\n",
       "     KRAS mutation status_Mutant  KRAS mutation status_Unknown  \\\n",
       "0                              1                             0   \n",
       "1                              0                             0   \n",
       "2                              0                             0   \n",
       "3                              0                             0   \n",
       "4                              0                             0   \n",
       "..                           ...                           ...   \n",
       "206                            0                             1   \n",
       "207                            1                             0   \n",
       "208                            0                             0   \n",
       "209                            0                             0   \n",
       "210                            0                             0   \n",
       "\n",
       "     KRAS mutation status_Wildtype  ALK translocation status_Translocated  \\\n",
       "0                                0                                      0   \n",
       "1                                1                                      0   \n",
       "2                                1                                      0   \n",
       "3                                1                                      0   \n",
       "4                                1                                      0   \n",
       "..                             ...                                    ...   \n",
       "206                              0                                      0   \n",
       "207                              0                                      0   \n",
       "208                              1                                      0   \n",
       "209                              1                                      0   \n",
       "210                              0                                      0   \n",
       "\n",
       "     ALK translocation status_Unknown  ALK translocation status_Wildtype  \\\n",
       "0                                   0                                  1   \n",
       "1                                   0                                  0   \n",
       "2                                   0                                  1   \n",
       "3                                   0                                  1   \n",
       "4                                   0                                  1   \n",
       "..                                ...                                ...   \n",
       "206                                 1                                  0   \n",
       "207                                 1                                  0   \n",
       "208                                 0                                  1   \n",
       "209                                 0                                  1   \n",
       "210                                 0                                  0   \n",
       "\n",
       "     Histology_Adenocarcinoma  Histology_NSCLC NOS (not otherwise specified)  \\\n",
       "0                           1                                              0   \n",
       "1                           1                                              0   \n",
       "2                           1                                              0   \n",
       "3                           1                                              0   \n",
       "4                           1                                              0   \n",
       "..                        ...                                            ...   \n",
       "206                         0                                              0   \n",
       "207                         1                                              0   \n",
       "208                         1                                              0   \n",
       "209                         1                                              0   \n",
       "210                         0                                              1   \n",
       "\n",
       "     Histology_Squamous cell carcinoma  \n",
       "0                                    0  \n",
       "1                                    0  \n",
       "2                                    0  \n",
       "3                                    0  \n",
       "4                                    0  \n",
       "..                                 ...  \n",
       "206                                  1  \n",
       "207                                  0  \n",
       "208                                  0  \n",
       "209                                  0  \n",
       "210                                  0  \n",
       "\n",
       "[210 rows x 111 columns]"
      ]
     },
     "execution_count": 326,
     "metadata": {},
     "output_type": "execute_result"
    }
   ],
   "source": [
    "one_hot_encoded_data"
   ]
  },
  {
   "cell_type": "code",
   "execution_count": 327,
   "metadata": {},
   "outputs": [
    {
     "data": {
      "text/plain": [
       "array([0.1168015 , 0.10439369, 0.03055387, 0.02219439, 0.02102274,\n",
       "       0.02224686, 0.02966784, 0.02676755, 0.04144323, 0.12331158,\n",
       "       0.02016791, 0.02104788, 0.02133719, 0.03884497, 0.02051259,\n",
       "       0.02272795, 0.0234173 , 0.0223145 , 0.01959849, 0.01669991,\n",
       "       0.02782368, 0.03419579, 0.02178538, 0.02896257, 0.02116504,\n",
       "       0.02181521, 0.02056006, 0.02070986, 0.02009374, 0.01781674])"
      ]
     },
     "execution_count": 327,
     "metadata": {},
     "output_type": "execute_result"
    }
   ],
   "source": [
    "rfe.estimator_.feature_importances_"
   ]
  },
  {
   "cell_type": "code",
   "execution_count": 328,
   "metadata": {},
   "outputs": [
    {
     "data": {
      "text/plain": [
       "array([ True,  True,  True, False,  True,  True,  True, False, False,\n",
       "        True,  True,  True,  True,  True,  True, False, False,  True,\n",
       "       False, False, False,  True,  True, False, False, False, False,\n",
       "       False, False, False, False, False, False, False, False, False,\n",
       "       False, False, False, False, False, False, False, False, False,\n",
       "       False, False, False, False, False, False, False,  True, False,\n",
       "       False, False, False, False, False, False, False, False, False,\n",
       "       False, False, False, False, False, False, False,  True, False,\n",
       "       False, False, False,  True, False, False, False,  True, False,\n",
       "        True, False, False,  True, False,  True, False, False,  True,\n",
       "       False,  True,  True, False, False, False, False,  True, False,\n",
       "        True, False,  True, False, False,  True, False, False, False,\n",
       "        True, False, False])"
      ]
     },
     "execution_count": 328,
     "metadata": {},
     "output_type": "execute_result"
    }
   ],
   "source": [
    "rfe.get_support()"
   ]
  },
  {
   "cell_type": "code",
   "execution_count": 329,
   "metadata": {},
   "outputs": [
    {
     "data": {
      "text/plain": [
       "30"
      ]
     },
     "execution_count": 329,
     "metadata": {},
     "output_type": "execute_result"
    }
   ],
   "source": [
    "selected_feat= one_hot_encoded_data.columns[(rfe.get_support())]\n",
    "len(selected_feat)"
   ]
  },
  {
   "cell_type": "code",
   "execution_count": 330,
   "metadata": {},
   "outputs": [
    {
     "data": {
      "text/plain": [
       "Index(['Age at Histological Diagnosis', 'Weight (lbs)',\n",
       "       'Tumor Location (choice=RUL)', 'Tumor Location (choice=RLL)',\n",
       "       'Tumor Location (choice=LUL)', 'Tumor Location (choice=LLL)',\n",
       "       'Adjuvant Treatment', 'Chemotherapy', 'Radiation',\n",
       "       'Days between CT and surgery', 'Gender_Female', 'Gender_Male',\n",
       "       'Ethnicity_Caucasian', 'Smoking status_Former',\n",
       "       'Smoking status_Nonsmoker', 'Pack Years_50', '%GG_0%', '%GG_>0 - 25%',\n",
       "       'Pathological T stage_T2a', 'Pathological T stage_T3',\n",
       "       'Pathological N stage_N0', 'Pathological N stage_N2',\n",
       "       'Pathological M stage_M1b',\n",
       "       'Histopathological Grade_G2 Moderately differentiated',\n",
       "       'Histopathological Grade_G3 Poorly differentiated',\n",
       "       'Pleural invasion (elastic, visceral, or parietal)_No',\n",
       "       'EGFR mutation status_Mutant', 'EGFR mutation status_Wildtype',\n",
       "       'KRAS mutation status_Wildtype', 'Histology_Adenocarcinoma'],\n",
       "      dtype='object')"
      ]
     },
     "execution_count": 330,
     "metadata": {},
     "output_type": "execute_result"
    }
   ],
   "source": [
    "selected_feat"
   ]
  },
  {
   "cell_type": "code",
   "execution_count": 331,
   "metadata": {},
   "outputs": [
    {
     "name": "stdout",
     "output_type": "stream",
     "text": [
      "Column: 0, Selected: True, Rank: 1.000\n",
      "Column: 1, Selected: True, Rank: 1.000\n",
      "Column: 2, Selected: True, Rank: 1.000\n",
      "Column: 3, Selected: False, Rank: 17.000\n",
      "Column: 4, Selected: True, Rank: 1.000\n",
      "Column: 5, Selected: True, Rank: 1.000\n",
      "Column: 6, Selected: True, Rank: 1.000\n",
      "Column: 7, Selected: False, Rank: 29.000\n",
      "Column: 8, Selected: False, Rank: 79.000\n",
      "Column: 9, Selected: True, Rank: 1.000\n",
      "Column: 10, Selected: True, Rank: 1.000\n",
      "Column: 11, Selected: True, Rank: 1.000\n",
      "Column: 12, Selected: True, Rank: 1.000\n",
      "Column: 13, Selected: True, Rank: 1.000\n",
      "Column: 14, Selected: True, Rank: 1.000\n",
      "Column: 15, Selected: False, Rank: 14.000\n",
      "Column: 16, Selected: False, Rank: 20.000\n",
      "Column: 17, Selected: True, Rank: 1.000\n",
      "Column: 18, Selected: False, Rank: 22.000\n",
      "Column: 19, Selected: False, Rank: 45.000\n",
      "Column: 20, Selected: False, Rank: 2.000\n",
      "Column: 21, Selected: True, Rank: 1.000\n",
      "Column: 22, Selected: True, Rank: 1.000\n",
      "Column: 23, Selected: False, Rank: 62.000\n",
      "Column: 24, Selected: False, Rank: 41.000\n",
      "Column: 25, Selected: False, Rank: 56.000\n",
      "Column: 26, Selected: False, Rank: 82.000\n",
      "Column: 27, Selected: False, Rank: 40.000\n",
      "Column: 28, Selected: False, Rank: 65.000\n",
      "Column: 29, Selected: False, Rank: 43.000\n",
      "Column: 30, Selected: False, Rank: 31.000\n",
      "Column: 31, Selected: False, Rank: 76.000\n",
      "Column: 32, Selected: False, Rank: 72.000\n",
      "Column: 33, Selected: False, Rank: 52.000\n",
      "Column: 34, Selected: False, Rank: 42.000\n",
      "Column: 35, Selected: False, Rank: 53.000\n",
      "Column: 36, Selected: False, Rank: 48.000\n",
      "Column: 37, Selected: False, Rank: 60.000\n",
      "Column: 38, Selected: False, Rank: 70.000\n",
      "Column: 39, Selected: False, Rank: 24.000\n",
      "Column: 40, Selected: False, Rank: 44.000\n",
      "Column: 41, Selected: False, Rank: 34.000\n",
      "Column: 42, Selected: False, Rank: 68.000\n",
      "Column: 43, Selected: False, Rank: 47.000\n",
      "Column: 44, Selected: False, Rank: 64.000\n",
      "Column: 45, Selected: False, Rank: 37.000\n",
      "Column: 46, Selected: False, Rank: 66.000\n",
      "Column: 47, Selected: False, Rank: 77.000\n",
      "Column: 48, Selected: False, Rank: 78.000\n",
      "Column: 49, Selected: False, Rank: 30.000\n",
      "Column: 50, Selected: False, Rank: 38.000\n",
      "Column: 51, Selected: False, Rank: 32.000\n",
      "Column: 52, Selected: True, Rank: 1.000\n",
      "Column: 53, Selected: False, Rank: 57.000\n",
      "Column: 54, Selected: False, Rank: 33.000\n",
      "Column: 55, Selected: False, Rank: 35.000\n",
      "Column: 56, Selected: False, Rank: 67.000\n",
      "Column: 57, Selected: False, Rank: 69.000\n",
      "Column: 58, Selected: False, Rank: 61.000\n",
      "Column: 59, Selected: False, Rank: 25.000\n",
      "Column: 60, Selected: False, Rank: 75.000\n",
      "Column: 61, Selected: False, Rank: 73.000\n",
      "Column: 62, Selected: False, Rank: 81.000\n",
      "Column: 63, Selected: False, Rank: 71.000\n",
      "Column: 64, Selected: False, Rank: 59.000\n",
      "Column: 65, Selected: False, Rank: 74.000\n",
      "Column: 66, Selected: False, Rank: 49.000\n",
      "Column: 67, Selected: False, Rank: 50.000\n",
      "Column: 68, Selected: False, Rank: 19.000\n",
      "Column: 69, Selected: False, Rank: 80.000\n",
      "Column: 70, Selected: True, Rank: 1.000\n",
      "Column: 71, Selected: False, Rank: 63.000\n",
      "Column: 72, Selected: False, Rank: 36.000\n",
      "Column: 73, Selected: False, Rank: 55.000\n",
      "Column: 74, Selected: False, Rank: 54.000\n",
      "Column: 75, Selected: True, Rank: 1.000\n",
      "Column: 76, Selected: False, Rank: 15.000\n",
      "Column: 77, Selected: False, Rank: 9.000\n",
      "Column: 78, Selected: False, Rank: 4.000\n",
      "Column: 79, Selected: True, Rank: 1.000\n",
      "Column: 80, Selected: False, Rank: 23.000\n",
      "Column: 81, Selected: True, Rank: 1.000\n",
      "Column: 82, Selected: False, Rank: 27.000\n",
      "Column: 83, Selected: False, Rank: 28.000\n",
      "Column: 84, Selected: True, Rank: 1.000\n",
      "Column: 85, Selected: False, Rank: 7.000\n",
      "Column: 86, Selected: True, Rank: 1.000\n",
      "Column: 87, Selected: False, Rank: 6.000\n",
      "Column: 88, Selected: False, Rank: 58.000\n",
      "Column: 89, Selected: True, Rank: 1.000\n",
      "Column: 90, Selected: False, Rank: 13.000\n",
      "Column: 91, Selected: True, Rank: 1.000\n",
      "Column: 92, Selected: True, Rank: 1.000\n",
      "Column: 93, Selected: False, Rank: 51.000\n",
      "Column: 94, Selected: False, Rank: 39.000\n",
      "Column: 95, Selected: False, Rank: 8.000\n",
      "Column: 96, Selected: False, Rank: 21.000\n",
      "Column: 97, Selected: True, Rank: 1.000\n",
      "Column: 98, Selected: False, Rank: 5.000\n",
      "Column: 99, Selected: True, Rank: 1.000\n",
      "Column: 100, Selected: False, Rank: 16.000\n",
      "Column: 101, Selected: True, Rank: 1.000\n",
      "Column: 102, Selected: False, Rank: 10.000\n",
      "Column: 103, Selected: False, Rank: 12.000\n",
      "Column: 104, Selected: True, Rank: 1.000\n",
      "Column: 105, Selected: False, Rank: 46.000\n",
      "Column: 106, Selected: False, Rank: 26.000\n",
      "Column: 107, Selected: False, Rank: 3.000\n",
      "Column: 108, Selected: True, Rank: 1.000\n",
      "Column: 109, Selected: False, Rank: 11.000\n",
      "Column: 110, Selected: False, Rank: 18.000\n"
     ]
    }
   ],
   "source": [
    "for i in range(X_train.shape[1]):\n",
    "\tprint('Column: %d, Selected: %s, Rank: %.3f' % (i, rfe.support_[i], rfe.ranking_[i]))"
   ]
  },
  {
   "cell_type": "code",
   "execution_count": 332,
   "metadata": {},
   "outputs": [],
   "source": [
    "selected = one_hot_encoded_data == rfe.get_support()"
   ]
  },
  {
   "cell_type": "code",
   "execution_count": 333,
   "metadata": {},
   "outputs": [
    {
     "data": {
      "text/plain": [
       "111"
      ]
     },
     "execution_count": 333,
     "metadata": {},
     "output_type": "execute_result"
    }
   ],
   "source": [
    "len(selected.columns)"
   ]
  },
  {
   "cell_type": "code",
   "execution_count": 334,
   "metadata": {},
   "outputs": [
    {
     "data": {
      "text/plain": [
       "111"
      ]
     },
     "execution_count": 334,
     "metadata": {},
     "output_type": "execute_result"
    }
   ],
   "source": [
    "len(one_hot_encoded_data.columns)"
   ]
  },
  {
   "cell_type": "code",
   "execution_count": 335,
   "metadata": {},
   "outputs": [],
   "source": [
    "selected_data = one_hot_encoded_data[selected_feat]"
   ]
  },
  {
   "cell_type": "markdown",
   "metadata": {},
   "source": [
    "```\n",
    "Codes after Feature Selection\n",
    "```"
   ]
  },
  {
   "cell_type": "code",
   "execution_count": 336,
   "metadata": {},
   "outputs": [],
   "source": [
    "from sklearn.model_selection import train_test_split\n",
    "X_train, X_test, y_train, y_test = train_test_split(selected_data, Y, test_size = 0.30, random_state = 0)"
   ]
  },
  {
   "cell_type": "code",
   "execution_count": 337,
   "metadata": {},
   "outputs": [],
   "source": [
    "from sklearn.preprocessing import StandardScaler\n",
    "sc = StandardScaler()\n",
    "X_train = sc.fit_transform(X_train)\n",
    "X_test = sc.transform(X_test)"
   ]
  },
  {
   "cell_type": "code",
   "execution_count": 338,
   "metadata": {},
   "outputs": [
    {
     "data": {
      "text/html": [
       "<style>#sk-container-id-12 {color: black;background-color: white;}#sk-container-id-12 pre{padding: 0;}#sk-container-id-12 div.sk-toggleable {background-color: white;}#sk-container-id-12 label.sk-toggleable__label {cursor: pointer;display: block;width: 100%;margin-bottom: 0;padding: 0.3em;box-sizing: border-box;text-align: center;}#sk-container-id-12 label.sk-toggleable__label-arrow:before {content: \"▸\";float: left;margin-right: 0.25em;color: #696969;}#sk-container-id-12 label.sk-toggleable__label-arrow:hover:before {color: black;}#sk-container-id-12 div.sk-estimator:hover label.sk-toggleable__label-arrow:before {color: black;}#sk-container-id-12 div.sk-toggleable__content {max-height: 0;max-width: 0;overflow: hidden;text-align: left;background-color: #f0f8ff;}#sk-container-id-12 div.sk-toggleable__content pre {margin: 0.2em;color: black;border-radius: 0.25em;background-color: #f0f8ff;}#sk-container-id-12 input.sk-toggleable__control:checked~div.sk-toggleable__content {max-height: 200px;max-width: 100%;overflow: auto;}#sk-container-id-12 input.sk-toggleable__control:checked~label.sk-toggleable__label-arrow:before {content: \"▾\";}#sk-container-id-12 div.sk-estimator input.sk-toggleable__control:checked~label.sk-toggleable__label {background-color: #d4ebff;}#sk-container-id-12 div.sk-label input.sk-toggleable__control:checked~label.sk-toggleable__label {background-color: #d4ebff;}#sk-container-id-12 input.sk-hidden--visually {border: 0;clip: rect(1px 1px 1px 1px);clip: rect(1px, 1px, 1px, 1px);height: 1px;margin: -1px;overflow: hidden;padding: 0;position: absolute;width: 1px;}#sk-container-id-12 div.sk-estimator {font-family: monospace;background-color: #f0f8ff;border: 1px dotted black;border-radius: 0.25em;box-sizing: border-box;margin-bottom: 0.5em;}#sk-container-id-12 div.sk-estimator:hover {background-color: #d4ebff;}#sk-container-id-12 div.sk-parallel-item::after {content: \"\";width: 100%;border-bottom: 1px solid gray;flex-grow: 1;}#sk-container-id-12 div.sk-label:hover label.sk-toggleable__label {background-color: #d4ebff;}#sk-container-id-12 div.sk-serial::before {content: \"\";position: absolute;border-left: 1px solid gray;box-sizing: border-box;top: 0;bottom: 0;left: 50%;z-index: 0;}#sk-container-id-12 div.sk-serial {display: flex;flex-direction: column;align-items: center;background-color: white;padding-right: 0.2em;padding-left: 0.2em;position: relative;}#sk-container-id-12 div.sk-item {position: relative;z-index: 1;}#sk-container-id-12 div.sk-parallel {display: flex;align-items: stretch;justify-content: center;background-color: white;position: relative;}#sk-container-id-12 div.sk-item::before, #sk-container-id-12 div.sk-parallel-item::before {content: \"\";position: absolute;border-left: 1px solid gray;box-sizing: border-box;top: 0;bottom: 0;left: 50%;z-index: -1;}#sk-container-id-12 div.sk-parallel-item {display: flex;flex-direction: column;z-index: 1;position: relative;background-color: white;}#sk-container-id-12 div.sk-parallel-item:first-child::after {align-self: flex-end;width: 50%;}#sk-container-id-12 div.sk-parallel-item:last-child::after {align-self: flex-start;width: 50%;}#sk-container-id-12 div.sk-parallel-item:only-child::after {width: 0;}#sk-container-id-12 div.sk-dashed-wrapped {border: 1px dashed gray;margin: 0 0.4em 0.5em 0.4em;box-sizing: border-box;padding-bottom: 0.4em;background-color: white;}#sk-container-id-12 div.sk-label label {font-family: monospace;font-weight: bold;display: inline-block;line-height: 1.2em;}#sk-container-id-12 div.sk-label-container {text-align: center;}#sk-container-id-12 div.sk-container {/* jupyter's `normalize.less` sets `[hidden] { display: none; }` but bootstrap.min.css set `[hidden] { display: none !important; }` so we also need the `!important` here to be able to override the default hidden behavior on the sphinx rendered scikit-learn.org. See: https://github.com/scikit-learn/scikit-learn/issues/21755 */display: inline-block !important;position: relative;}#sk-container-id-12 div.sk-text-repr-fallback {display: none;}</style><div id=\"sk-container-id-12\" class=\"sk-top-container\"><div class=\"sk-text-repr-fallback\"><pre>GradientBoostingClassifier()</pre><b>In a Jupyter environment, please rerun this cell to show the HTML representation or trust the notebook. <br />On GitHub, the HTML representation is unable to render, please try loading this page with nbviewer.org.</b></div><div class=\"sk-container\" hidden><div class=\"sk-item\"><div class=\"sk-estimator sk-toggleable\"><input class=\"sk-toggleable__control sk-hidden--visually\" id=\"sk-estimator-id-22\" type=\"checkbox\" checked><label for=\"sk-estimator-id-22\" class=\"sk-toggleable__label sk-toggleable__label-arrow\">GradientBoostingClassifier</label><div class=\"sk-toggleable__content\"><pre>GradientBoostingClassifier()</pre></div></div></div></div></div>"
      ],
      "text/plain": [
       "GradientBoostingClassifier()"
      ]
     },
     "execution_count": 338,
     "metadata": {},
     "output_type": "execute_result"
    }
   ],
   "source": [
    "from sklearn.naive_bayes import GaussianNB\n",
    "nb_classifier_afs = GaussianNB()\n",
    "nb_classifier_afs.fit(X_train, y_train)\n",
    "\n",
    "from sklearn.svm import SVC\n",
    "svm_classifier_afs = SVC()\n",
    "svm_classifier_afs.fit(X_train, y_train)\n",
    "\n",
    "from sklearn.tree import DecisionTreeClassifier\n",
    "dt_classifier_afs = DecisionTreeClassifier()\n",
    "dt_classifier_afs.fit(X_train, y_train)\n",
    "\n",
    "from sklearn.ensemble import GradientBoostingClassifier\n",
    "gb_classifier_afs = GradientBoostingClassifier()\n",
    "gb_classifier_afs.fit(X_train, y_train)"
   ]
  },
  {
   "cell_type": "code",
   "execution_count": 341,
   "metadata": {},
   "outputs": [
    {
     "name": "stdout",
     "output_type": "stream",
     "text": [
      "\n",
      "nb_y_predict_afs\n",
      "[[42  0]\n",
      " [17  4]]\n",
      "0.7301587301587301\n",
      "0.19047619047619047\n",
      "1.0\n",
      "\n",
      "svm_y_predict_afs\n",
      "[[42  0]\n",
      " [20  1]]\n",
      "0.6825396825396826\n",
      "0.047619047619047616\n",
      "1.0\n",
      "\n",
      "dt_y_predict_afs\n",
      "[[32 10]\n",
      " [15  6]]\n",
      "0.6031746031746031\n",
      "0.2857142857142857\n",
      "0.375\n",
      "\n",
      "gb_y_predict_afs\n",
      "[[39  3]\n",
      " [17  4]]\n",
      "0.6825396825396826\n",
      "0.19047619047619047\n",
      "0.5714285714285714\n"
     ]
    }
   ],
   "source": [
    "nb_y_predict_afs = nb_classifier_afs.predict(X_test)\n",
    "print('\\nnb_y_predict_afs')\n",
    "print_evaluations(nb_y_predict_afs)\n",
    "\n",
    "svm_y_predict_afs = svm_classifier_afs.predict(X_test)\n",
    "print('\\nsvm_y_predict_afs')\n",
    "print_evaluations(svm_y_predict_afs)\n",
    "\n",
    "dt_y_predict_afs = dt_classifier_afs.predict(X_test)\n",
    "print('\\ndt_y_predict_afs')\n",
    "print_evaluations(dt_y_predict_afs)\n",
    "\n",
    "gb_y_predict_afs = gb_classifier_afs.predict(X_test)\n",
    "print('\\ngb_y_predict_afs')\n",
    "print_evaluations(gb_y_predict_afs)"
   ]
  },
  {
   "cell_type": "code",
   "execution_count": 342,
   "metadata": {},
   "outputs": [
    {
     "data": {
      "text/html": [
       "<style>#sk-container-id-13 {color: black;background-color: white;}#sk-container-id-13 pre{padding: 0;}#sk-container-id-13 div.sk-toggleable {background-color: white;}#sk-container-id-13 label.sk-toggleable__label {cursor: pointer;display: block;width: 100%;margin-bottom: 0;padding: 0.3em;box-sizing: border-box;text-align: center;}#sk-container-id-13 label.sk-toggleable__label-arrow:before {content: \"▸\";float: left;margin-right: 0.25em;color: #696969;}#sk-container-id-13 label.sk-toggleable__label-arrow:hover:before {color: black;}#sk-container-id-13 div.sk-estimator:hover label.sk-toggleable__label-arrow:before {color: black;}#sk-container-id-13 div.sk-toggleable__content {max-height: 0;max-width: 0;overflow: hidden;text-align: left;background-color: #f0f8ff;}#sk-container-id-13 div.sk-toggleable__content pre {margin: 0.2em;color: black;border-radius: 0.25em;background-color: #f0f8ff;}#sk-container-id-13 input.sk-toggleable__control:checked~div.sk-toggleable__content {max-height: 200px;max-width: 100%;overflow: auto;}#sk-container-id-13 input.sk-toggleable__control:checked~label.sk-toggleable__label-arrow:before {content: \"▾\";}#sk-container-id-13 div.sk-estimator input.sk-toggleable__control:checked~label.sk-toggleable__label {background-color: #d4ebff;}#sk-container-id-13 div.sk-label input.sk-toggleable__control:checked~label.sk-toggleable__label {background-color: #d4ebff;}#sk-container-id-13 input.sk-hidden--visually {border: 0;clip: rect(1px 1px 1px 1px);clip: rect(1px, 1px, 1px, 1px);height: 1px;margin: -1px;overflow: hidden;padding: 0;position: absolute;width: 1px;}#sk-container-id-13 div.sk-estimator {font-family: monospace;background-color: #f0f8ff;border: 1px dotted black;border-radius: 0.25em;box-sizing: border-box;margin-bottom: 0.5em;}#sk-container-id-13 div.sk-estimator:hover {background-color: #d4ebff;}#sk-container-id-13 div.sk-parallel-item::after {content: \"\";width: 100%;border-bottom: 1px solid gray;flex-grow: 1;}#sk-container-id-13 div.sk-label:hover label.sk-toggleable__label {background-color: #d4ebff;}#sk-container-id-13 div.sk-serial::before {content: \"\";position: absolute;border-left: 1px solid gray;box-sizing: border-box;top: 0;bottom: 0;left: 50%;z-index: 0;}#sk-container-id-13 div.sk-serial {display: flex;flex-direction: column;align-items: center;background-color: white;padding-right: 0.2em;padding-left: 0.2em;position: relative;}#sk-container-id-13 div.sk-item {position: relative;z-index: 1;}#sk-container-id-13 div.sk-parallel {display: flex;align-items: stretch;justify-content: center;background-color: white;position: relative;}#sk-container-id-13 div.sk-item::before, #sk-container-id-13 div.sk-parallel-item::before {content: \"\";position: absolute;border-left: 1px solid gray;box-sizing: border-box;top: 0;bottom: 0;left: 50%;z-index: -1;}#sk-container-id-13 div.sk-parallel-item {display: flex;flex-direction: column;z-index: 1;position: relative;background-color: white;}#sk-container-id-13 div.sk-parallel-item:first-child::after {align-self: flex-end;width: 50%;}#sk-container-id-13 div.sk-parallel-item:last-child::after {align-self: flex-start;width: 50%;}#sk-container-id-13 div.sk-parallel-item:only-child::after {width: 0;}#sk-container-id-13 div.sk-dashed-wrapped {border: 1px dashed gray;margin: 0 0.4em 0.5em 0.4em;box-sizing: border-box;padding-bottom: 0.4em;background-color: white;}#sk-container-id-13 div.sk-label label {font-family: monospace;font-weight: bold;display: inline-block;line-height: 1.2em;}#sk-container-id-13 div.sk-label-container {text-align: center;}#sk-container-id-13 div.sk-container {/* jupyter's `normalize.less` sets `[hidden] { display: none; }` but bootstrap.min.css set `[hidden] { display: none !important; }` so we also need the `!important` here to be able to override the default hidden behavior on the sphinx rendered scikit-learn.org. See: https://github.com/scikit-learn/scikit-learn/issues/21755 */display: inline-block !important;position: relative;}#sk-container-id-13 div.sk-text-repr-fallback {display: none;}</style><div id=\"sk-container-id-13\" class=\"sk-top-container\"><div class=\"sk-text-repr-fallback\"><pre>RandomForestClassifier()</pre><b>In a Jupyter environment, please rerun this cell to show the HTML representation or trust the notebook. <br />On GitHub, the HTML representation is unable to render, please try loading this page with nbviewer.org.</b></div><div class=\"sk-container\" hidden><div class=\"sk-item\"><div class=\"sk-estimator sk-toggleable\"><input class=\"sk-toggleable__control sk-hidden--visually\" id=\"sk-estimator-id-23\" type=\"checkbox\" checked><label for=\"sk-estimator-id-23\" class=\"sk-toggleable__label sk-toggleable__label-arrow\">RandomForestClassifier</label><div class=\"sk-toggleable__content\"><pre>RandomForestClassifier()</pre></div></div></div></div></div>"
      ],
      "text/plain": [
       "RandomForestClassifier()"
      ]
     },
     "execution_count": 342,
     "metadata": {},
     "output_type": "execute_result"
    }
   ],
   "source": [
    "from sklearn.ensemble import AdaBoostClassifier\n",
    "adaboost_classifier_afs = AdaBoostClassifier()\n",
    "adaboost_classifier_afs.fit(X_train, y_train)\n",
    "\n",
    "from sklearn.ensemble import RandomForestClassifier\n",
    "rf_classifier_afs = RandomForestClassifier()\n",
    "rf_classifier_afs.fit(X_train, y_train)\n"
   ]
  },
  {
   "cell_type": "code",
   "execution_count": 343,
   "metadata": {},
   "outputs": [
    {
     "name": "stdout",
     "output_type": "stream",
     "text": [
      "\n",
      "adaboost_y_predict_afs\n",
      "[[35  7]\n",
      " [15  6]]\n",
      "0.6507936507936508\n",
      "0.2857142857142857\n",
      "0.46153846153846156\n",
      "\n",
      "rf_y_predict_afs\n",
      "[[41  1]\n",
      " [18  3]]\n",
      "0.6984126984126984\n",
      "0.14285714285714285\n",
      "0.75\n"
     ]
    }
   ],
   "source": [
    "adaboost_y_predict_afs = adaboost_classifier_afs.predict(X_test)\n",
    "print('\\nadaboost_y_predict_afs')\n",
    "print_evaluations(adaboost_y_predict_afs)\n",
    "\n",
    "rf_y_predict_afs = rf_classifier_afs.predict(X_test)\n",
    "print('\\nrf_y_predict_afs')\n",
    "print_evaluations(rf_y_predict_afs)"
   ]
  },
  {
   "cell_type": "code",
   "execution_count": 348,
   "metadata": {},
   "outputs": [],
   "source": [
    "from sklearn.ensemble import BaggingClassifier\n",
    "bag_model_afs = BaggingClassifier(\n",
    "base_estimator=DecisionTreeClassifier(), \n",
    "    n_estimators=100, \n",
    "    max_samples=1.0, \n",
    "    bootstrap=True,\n",
    "    oob_score=True,\n",
    "    random_state=0\n",
    ")\n"
   ]
  },
  {
   "cell_type": "code",
   "execution_count": 349,
   "metadata": {},
   "outputs": [
    {
     "data": {
      "text/html": [
       "<style>#sk-container-id-15 {color: black;background-color: white;}#sk-container-id-15 pre{padding: 0;}#sk-container-id-15 div.sk-toggleable {background-color: white;}#sk-container-id-15 label.sk-toggleable__label {cursor: pointer;display: block;width: 100%;margin-bottom: 0;padding: 0.3em;box-sizing: border-box;text-align: center;}#sk-container-id-15 label.sk-toggleable__label-arrow:before {content: \"▸\";float: left;margin-right: 0.25em;color: #696969;}#sk-container-id-15 label.sk-toggleable__label-arrow:hover:before {color: black;}#sk-container-id-15 div.sk-estimator:hover label.sk-toggleable__label-arrow:before {color: black;}#sk-container-id-15 div.sk-toggleable__content {max-height: 0;max-width: 0;overflow: hidden;text-align: left;background-color: #f0f8ff;}#sk-container-id-15 div.sk-toggleable__content pre {margin: 0.2em;color: black;border-radius: 0.25em;background-color: #f0f8ff;}#sk-container-id-15 input.sk-toggleable__control:checked~div.sk-toggleable__content {max-height: 200px;max-width: 100%;overflow: auto;}#sk-container-id-15 input.sk-toggleable__control:checked~label.sk-toggleable__label-arrow:before {content: \"▾\";}#sk-container-id-15 div.sk-estimator input.sk-toggleable__control:checked~label.sk-toggleable__label {background-color: #d4ebff;}#sk-container-id-15 div.sk-label input.sk-toggleable__control:checked~label.sk-toggleable__label {background-color: #d4ebff;}#sk-container-id-15 input.sk-hidden--visually {border: 0;clip: rect(1px 1px 1px 1px);clip: rect(1px, 1px, 1px, 1px);height: 1px;margin: -1px;overflow: hidden;padding: 0;position: absolute;width: 1px;}#sk-container-id-15 div.sk-estimator {font-family: monospace;background-color: #f0f8ff;border: 1px dotted black;border-radius: 0.25em;box-sizing: border-box;margin-bottom: 0.5em;}#sk-container-id-15 div.sk-estimator:hover {background-color: #d4ebff;}#sk-container-id-15 div.sk-parallel-item::after {content: \"\";width: 100%;border-bottom: 1px solid gray;flex-grow: 1;}#sk-container-id-15 div.sk-label:hover label.sk-toggleable__label {background-color: #d4ebff;}#sk-container-id-15 div.sk-serial::before {content: \"\";position: absolute;border-left: 1px solid gray;box-sizing: border-box;top: 0;bottom: 0;left: 50%;z-index: 0;}#sk-container-id-15 div.sk-serial {display: flex;flex-direction: column;align-items: center;background-color: white;padding-right: 0.2em;padding-left: 0.2em;position: relative;}#sk-container-id-15 div.sk-item {position: relative;z-index: 1;}#sk-container-id-15 div.sk-parallel {display: flex;align-items: stretch;justify-content: center;background-color: white;position: relative;}#sk-container-id-15 div.sk-item::before, #sk-container-id-15 div.sk-parallel-item::before {content: \"\";position: absolute;border-left: 1px solid gray;box-sizing: border-box;top: 0;bottom: 0;left: 50%;z-index: -1;}#sk-container-id-15 div.sk-parallel-item {display: flex;flex-direction: column;z-index: 1;position: relative;background-color: white;}#sk-container-id-15 div.sk-parallel-item:first-child::after {align-self: flex-end;width: 50%;}#sk-container-id-15 div.sk-parallel-item:last-child::after {align-self: flex-start;width: 50%;}#sk-container-id-15 div.sk-parallel-item:only-child::after {width: 0;}#sk-container-id-15 div.sk-dashed-wrapped {border: 1px dashed gray;margin: 0 0.4em 0.5em 0.4em;box-sizing: border-box;padding-bottom: 0.4em;background-color: white;}#sk-container-id-15 div.sk-label label {font-family: monospace;font-weight: bold;display: inline-block;line-height: 1.2em;}#sk-container-id-15 div.sk-label-container {text-align: center;}#sk-container-id-15 div.sk-container {/* jupyter's `normalize.less` sets `[hidden] { display: none; }` but bootstrap.min.css set `[hidden] { display: none !important; }` so we also need the `!important` here to be able to override the default hidden behavior on the sphinx rendered scikit-learn.org. See: https://github.com/scikit-learn/scikit-learn/issues/21755 */display: inline-block !important;position: relative;}#sk-container-id-15 div.sk-text-repr-fallback {display: none;}</style><div id=\"sk-container-id-15\" class=\"sk-top-container\"><div class=\"sk-text-repr-fallback\"><pre>BaggingClassifier(base_estimator=DecisionTreeClassifier(), n_estimators=100,\n",
       "                  oob_score=True, random_state=0)</pre><b>In a Jupyter environment, please rerun this cell to show the HTML representation or trust the notebook. <br />On GitHub, the HTML representation is unable to render, please try loading this page with nbviewer.org.</b></div><div class=\"sk-container\" hidden><div class=\"sk-item sk-dashed-wrapped\"><div class=\"sk-label-container\"><div class=\"sk-label sk-toggleable\"><input class=\"sk-toggleable__control sk-hidden--visually\" id=\"sk-estimator-id-27\" type=\"checkbox\" ><label for=\"sk-estimator-id-27\" class=\"sk-toggleable__label sk-toggleable__label-arrow\">BaggingClassifier</label><div class=\"sk-toggleable__content\"><pre>BaggingClassifier(base_estimator=DecisionTreeClassifier(), n_estimators=100,\n",
       "                  oob_score=True, random_state=0)</pre></div></div></div><div class=\"sk-parallel\"><div class=\"sk-parallel-item\"><div class=\"sk-item\"><div class=\"sk-label-container\"><div class=\"sk-label sk-toggleable\"><input class=\"sk-toggleable__control sk-hidden--visually\" id=\"sk-estimator-id-28\" type=\"checkbox\" ><label for=\"sk-estimator-id-28\" class=\"sk-toggleable__label sk-toggleable__label-arrow\">base_estimator: DecisionTreeClassifier</label><div class=\"sk-toggleable__content\"><pre>DecisionTreeClassifier()</pre></div></div></div><div class=\"sk-serial\"><div class=\"sk-item\"><div class=\"sk-estimator sk-toggleable\"><input class=\"sk-toggleable__control sk-hidden--visually\" id=\"sk-estimator-id-29\" type=\"checkbox\" ><label for=\"sk-estimator-id-29\" class=\"sk-toggleable__label sk-toggleable__label-arrow\">DecisionTreeClassifier</label><div class=\"sk-toggleable__content\"><pre>DecisionTreeClassifier()</pre></div></div></div></div></div></div></div></div></div></div>"
      ],
      "text/plain": [
       "BaggingClassifier(base_estimator=DecisionTreeClassifier(), n_estimators=100,\n",
       "                  oob_score=True, random_state=0)"
      ]
     },
     "execution_count": 349,
     "metadata": {},
     "output_type": "execute_result"
    }
   ],
   "source": [
    "bag_model_afs.fit(X_train, y_train)"
   ]
  },
  {
   "cell_type": "code",
   "execution_count": 351,
   "metadata": {},
   "outputs": [
    {
     "name": "stdout",
     "output_type": "stream",
     "text": [
      "\n",
      "bag_y_predict_afs\n",
      "[[41  1]\n",
      " [17  4]]\n",
      "0.7142857142857143\n",
      "0.19047619047619047\n",
      "0.8\n"
     ]
    }
   ],
   "source": [
    "bag_y_predict_afs = bag_model_afs.predict(X_test)\n",
    "print('\\nbag_y_predict_afs')\n",
    "print_evaluations(bag_y_predict_afs)"
   ]
  },
  {
   "cell_type": "code",
   "execution_count": 383,
   "metadata": {},
   "outputs": [],
   "source": [
    "from sklearn.model_selection import StratifiedKFold\n",
    "\n",
    "\n",
    "scoring = {'acc': 'accuracy',\n",
    "           'prec': 'precision_macro',\n",
    "           'rec': 'recall_macro',\n",
    "           'f1': 'f1_macro',\n",
    "           'mse': 'neg_mean_squared_error',\n",
    "           'rmse': 'neg_root_mean_squared_error'}\n",
    "n_splits = 15 #total number of splits in cross validation\n",
    "cv = StratifiedKFold(n_splits=n_splits, random_state=50, shuffle=True) #cross validation\n",
    "\n",
    "def get_mean(cv_result):       \n",
    "    ac = cv_result['test_acc'].mean()\n",
    "    ps = cv_result['test_prec'].mean()\n",
    "    rs = cv_result['test_rec'].mean()\n",
    "    f1 = cv_result['test_f1'].mean()\n",
    "    rmse = cv_result['test_rmse'].mean()\n",
    "\n",
    "    result = {\n",
    "        'ac': ac,\n",
    "        'ps': rs,\n",
    "        'rs': ps,\n",
    "        'f1': f1,\n",
    "        'rmse': rmse\n",
    "    }\n",
    "\n",
    "    print(f\"ac: {ac}\")\n",
    "    print(f\"ps: {rs}\")\n",
    "    print(f\"rs: {ps}\")\n",
    "    print(f\"f1: {f1}\")\n",
    "    print(f\"rmse: {rmse}\")\n",
    "\n",
    "    return result\n",
    "\n",
    "def get_graph(cv_result, metric):\n",
    "    X_a = np.arange(1,16)\n",
    "    X_axis = np.arange(len(X_a))\n",
    "\n",
    "    if type(cv_result) == list:\n",
    "        distance_for_bars = -0.2\n",
    "        for i in range(len(cv_result)):\n",
    "            if i/2 == 1: \n",
    "                distance_for_bars = -(distance_for_bars)\n",
    "            plt.bar(X_a + distance_for_bars,height=-cv_result[i][f'test_{metric}'], width=0.4)\n",
    "    else:\n",
    "        plt.bar(X_a, -cv_result[f'test_{metric}'])\n",
    "\n",
    "    plt.ylim(0,1,0.1)\n",
    "    plt.xticks(X_axis, X_a)\n",
    "\n",
    "    plt.title(\"Graph\")\n",
    "    plt.xlabel(\"Cross Validation Group\")\n",
    "    plt.ylabel(\"Percentage\")\n",
    "    plt.legend('G')\n",
    "    plt.show()\n",
    "\n",
    "    return"
   ]
  },
  {
   "cell_type": "code",
   "execution_count": null,
   "metadata": {},
   "outputs": [],
   "source": [
    "# import numpy as np \n",
    "# import matplotlib.pyplot as plt \n",
    "  \n",
    "# X = ['Group A','Group B','Group C','Group D']\n",
    "# Ygirls = [10,20,20,40]\n",
    "# Zboys = [20,30,25,30]\n",
    "  \n",
    "# X_axis = np.arange(len(X))\n",
    "  \n",
    "# plt.bar(X_axis - 0.2, Ygirls, 0.4, label = 'Girls')\n",
    "# plt.bar(X_axis + 0.2, Zboys, 0.4, label = 'Boys')\n",
    "  \n",
    "# plt.xticks(X_axis, X)\n",
    "# plt.xlabel(\"Groups\")\n",
    "# plt.ylabel(\"Number of Students\")\n",
    "# plt.title(\"Number of Students in each group\")\n",
    "# plt.legend()\n",
    "# plt.show()"
   ]
  },
  {
   "cell_type": "code",
   "execution_count": null,
   "metadata": {},
   "outputs": [
    {
     "data": {
      "text/plain": [
       "True"
      ]
     },
     "execution_count": 204,
     "metadata": {},
     "output_type": "execute_result"
    }
   ],
   "source": [
    "type(['asdf', 'asdf']) == list"
   ]
  },
  {
   "cell_type": "code",
   "execution_count": 354,
   "metadata": {},
   "outputs": [
    {
     "name": "stderr",
     "output_type": "stream",
     "text": [
      "/Users/ms/miniforge3/envs/tensorflow-metal/lib/python3.9/site-packages/sklearn/metrics/_classification.py:1327: UndefinedMetricWarning: Precision is ill-defined and being set to 0.0 in labels with no predicted samples. Use `zero_division` parameter to control this behavior.\n",
      "  _warn_prf(average, modifier, msg_start, len(result))\n",
      "/Users/ms/miniforge3/envs/tensorflow-metal/lib/python3.9/site-packages/sklearn/metrics/_classification.py:1327: UndefinedMetricWarning: Precision is ill-defined and being set to 0.0 in labels with no predicted samples. Use `zero_division` parameter to control this behavior.\n",
      "  _warn_prf(average, modifier, msg_start, len(result))\n",
      "/Users/ms/miniforge3/envs/tensorflow-metal/lib/python3.9/site-packages/sklearn/metrics/_classification.py:1327: UndefinedMetricWarning: Precision is ill-defined and being set to 0.0 in labels with no predicted samples. Use `zero_division` parameter to control this behavior.\n",
      "  _warn_prf(average, modifier, msg_start, len(result))\n",
      "/Users/ms/miniforge3/envs/tensorflow-metal/lib/python3.9/site-packages/sklearn/metrics/_classification.py:1327: UndefinedMetricWarning: Precision is ill-defined and being set to 0.0 in labels with no predicted samples. Use `zero_division` parameter to control this behavior.\n",
      "  _warn_prf(average, modifier, msg_start, len(result))\n",
      "/Users/ms/miniforge3/envs/tensorflow-metal/lib/python3.9/site-packages/sklearn/metrics/_classification.py:1327: UndefinedMetricWarning: Precision is ill-defined and being set to 0.0 in labels with no predicted samples. Use `zero_division` parameter to control this behavior.\n",
      "  _warn_prf(average, modifier, msg_start, len(result))\n"
     ]
    }
   ],
   "source": [
    "from sklearn.model_selection import cross_validate\n",
    "\n",
    "\n",
    "rf_cv_result = cross_validate(RandomForestClassifier(),one_hot_encoded_data, Y, cv=cv, scoring=scoring, n_jobs=1)"
   ]
  },
  {
   "cell_type": "code",
   "execution_count": 355,
   "metadata": {},
   "outputs": [
    {
     "name": "stdout",
     "output_type": "stream",
     "text": [
      "ac: 0.7523809523809526\n",
      "ps: 0.5531313131313131\n",
      "rs: 0.5994810744810746\n",
      "f1: 0.5301914800175671\n",
      "rmse: -0.49478960699134183\n"
     ]
    }
   ],
   "source": [
    "get_mean(rf_cv_result)"
   ]
  },
  {
   "cell_type": "code",
   "execution_count": 356,
   "metadata": {},
   "outputs": [
    {
     "data": {
      "text/plain": [
       "{'fit_time': array([0.08239579, 0.07733822, 0.07887697, 0.0779283 , 0.07837081,\n",
       "        0.07738686, 0.07816172, 0.07712197, 0.07801223, 0.07734084,\n",
       "        0.0790391 , 0.07797408, 0.0780108 , 0.07783818, 0.07862115]),\n",
       " 'score_time': array([0.00775909, 0.007936  , 0.00750995, 0.007442  , 0.00744319,\n",
       "        0.00735188, 0.0072031 , 0.00779891, 0.00743198, 0.0076611 ,\n",
       "        0.00752997, 0.00745988, 0.00732732, 0.00744581, 0.00741076]),\n",
       " 'test_acc': array([0.78571429, 0.71428571, 0.71428571, 0.78571429, 0.57142857,\n",
       "        0.78571429, 0.78571429, 0.71428571, 0.78571429, 0.78571429,\n",
       "        0.78571429, 0.71428571, 0.78571429, 0.78571429, 0.78571429]),\n",
       " 'test_prec': array([0.88461538, 0.35714286, 0.625     , 0.88461538, 0.33333333,\n",
       "        0.88461538, 0.88461538, 0.35714286, 0.88461538, 0.39285714,\n",
       "        0.66666667, 0.38461538, 0.39285714, 0.39285714, 0.66666667]),\n",
       " 'test_rec': array([0.625     , 0.5       , 0.575     , 0.625     , 0.4       ,\n",
       "        0.625     , 0.625     , 0.5       , 0.625     , 0.5       ,\n",
       "        0.62121212, 0.45454545, 0.5       , 0.5       , 0.62121212]),\n",
       " 'test_f1': array([0.63478261, 0.41666667, 0.57575758, 0.63478261, 0.36363636,\n",
       "        0.63478261, 0.63478261, 0.41666667, 0.63478261, 0.44      ,\n",
       "        0.63478261, 0.41666667, 0.44      , 0.44      , 0.63478261]),\n",
       " 'test_mse': array([-0.21428571, -0.28571429, -0.28571429, -0.21428571, -0.42857143,\n",
       "        -0.21428571, -0.21428571, -0.28571429, -0.21428571, -0.21428571,\n",
       "        -0.21428571, -0.28571429, -0.21428571, -0.21428571, -0.21428571]),\n",
       " 'test_rmse': array([-0.46291005, -0.53452248, -0.53452248, -0.46291005, -0.65465367,\n",
       "        -0.46291005, -0.46291005, -0.53452248, -0.46291005, -0.46291005,\n",
       "        -0.46291005, -0.53452248, -0.46291005, -0.46291005, -0.46291005])}"
      ]
     },
     "execution_count": 356,
     "metadata": {},
     "output_type": "execute_result"
    }
   ],
   "source": [
    "rf_cv_result"
   ]
  },
  {
   "cell_type": "code",
   "execution_count": null,
   "metadata": {},
   "outputs": [
    {
     "data": {
      "image/png": "[encoded data removed]",
      "text/plain": [
       "<Figure size 432x288 with 1 Axes>"
      ]
     },
     "metadata": {
      "needs_background": "light"
     },
     "output_type": "display_data"
    }
   ],
   "source": [
    "get_graph(rf_cv_result, \"rmse\")"
   ]
  },
  {
   "cell_type": "code",
   "execution_count": 358,
   "metadata": {},
   "outputs": [
    {
     "name": "stderr",
     "output_type": "stream",
     "text": [
      "/Users/ms/miniforge3/envs/tensorflow-metal/lib/python3.9/site-packages/sklearn/metrics/_classification.py:1327: UndefinedMetricWarning: Precision is ill-defined and being set to 0.0 in labels with no predicted samples. Use `zero_division` parameter to control this behavior.\n",
      "  _warn_prf(average, modifier, msg_start, len(result))\n",
      "/Users/ms/miniforge3/envs/tensorflow-metal/lib/python3.9/site-packages/sklearn/metrics/_classification.py:1327: UndefinedMetricWarning: Precision is ill-defined and being set to 0.0 in labels with no predicted samples. Use `zero_division` parameter to control this behavior.\n",
      "  _warn_prf(average, modifier, msg_start, len(result))\n",
      "/Users/ms/miniforge3/envs/tensorflow-metal/lib/python3.9/site-packages/sklearn/metrics/_classification.py:1327: UndefinedMetricWarning: Precision is ill-defined and being set to 0.0 in labels with no predicted samples. Use `zero_division` parameter to control this behavior.\n",
      "  _warn_prf(average, modifier, msg_start, len(result))\n",
      "/Users/ms/miniforge3/envs/tensorflow-metal/lib/python3.9/site-packages/sklearn/metrics/_classification.py:1327: UndefinedMetricWarning: Precision is ill-defined and being set to 0.0 in labels with no predicted samples. Use `zero_division` parameter to control this behavior.\n",
      "  _warn_prf(average, modifier, msg_start, len(result))\n",
      "/Users/ms/miniforge3/envs/tensorflow-metal/lib/python3.9/site-packages/sklearn/metrics/_classification.py:1327: UndefinedMetricWarning: Precision is ill-defined and being set to 0.0 in labels with no predicted samples. Use `zero_division` parameter to control this behavior.\n",
      "  _warn_prf(average, modifier, msg_start, len(result))\n",
      "/Users/ms/miniforge3/envs/tensorflow-metal/lib/python3.9/site-packages/sklearn/metrics/_classification.py:1327: UndefinedMetricWarning: Precision is ill-defined and being set to 0.0 in labels with no predicted samples. Use `zero_division` parameter to control this behavior.\n",
      "  _warn_prf(average, modifier, msg_start, len(result))\n",
      "/Users/ms/miniforge3/envs/tensorflow-metal/lib/python3.9/site-packages/sklearn/metrics/_classification.py:1327: UndefinedMetricWarning: Precision is ill-defined and being set to 0.0 in labels with no predicted samples. Use `zero_division` parameter to control this behavior.\n",
      "  _warn_prf(average, modifier, msg_start, len(result))\n",
      "/Users/ms/miniforge3/envs/tensorflow-metal/lib/python3.9/site-packages/sklearn/metrics/_classification.py:1327: UndefinedMetricWarning: Precision is ill-defined and being set to 0.0 in labels with no predicted samples. Use `zero_division` parameter to control this behavior.\n",
      "  _warn_prf(average, modifier, msg_start, len(result))\n",
      "/Users/ms/miniforge3/envs/tensorflow-metal/lib/python3.9/site-packages/sklearn/metrics/_classification.py:1327: UndefinedMetricWarning: Precision is ill-defined and being set to 0.0 in labels with no predicted samples. Use `zero_division` parameter to control this behavior.\n",
      "  _warn_prf(average, modifier, msg_start, len(result))\n",
      "/Users/ms/miniforge3/envs/tensorflow-metal/lib/python3.9/site-packages/sklearn/metrics/_classification.py:1327: UndefinedMetricWarning: Precision is ill-defined and being set to 0.0 in labels with no predicted samples. Use `zero_division` parameter to control this behavior.\n",
      "  _warn_prf(average, modifier, msg_start, len(result))\n",
      "/Users/ms/miniforge3/envs/tensorflow-metal/lib/python3.9/site-packages/sklearn/metrics/_classification.py:1327: UndefinedMetricWarning: Precision is ill-defined and being set to 0.0 in labels with no predicted samples. Use `zero_division` parameter to control this behavior.\n",
      "  _warn_prf(average, modifier, msg_start, len(result))\n",
      "/Users/ms/miniforge3/envs/tensorflow-metal/lib/python3.9/site-packages/sklearn/metrics/_classification.py:1327: UndefinedMetricWarning: Precision is ill-defined and being set to 0.0 in labels with no predicted samples. Use `zero_division` parameter to control this behavior.\n",
      "  _warn_prf(average, modifier, msg_start, len(result))\n",
      "/Users/ms/miniforge3/envs/tensorflow-metal/lib/python3.9/site-packages/sklearn/metrics/_classification.py:1327: UndefinedMetricWarning: Precision is ill-defined and being set to 0.0 in labels with no predicted samples. Use `zero_division` parameter to control this behavior.\n",
      "  _warn_prf(average, modifier, msg_start, len(result))\n",
      "/Users/ms/miniforge3/envs/tensorflow-metal/lib/python3.9/site-packages/sklearn/metrics/_classification.py:1327: UndefinedMetricWarning: Precision is ill-defined and being set to 0.0 in labels with no predicted samples. Use `zero_division` parameter to control this behavior.\n",
      "  _warn_prf(average, modifier, msg_start, len(result))\n",
      "/Users/ms/miniforge3/envs/tensorflow-metal/lib/python3.9/site-packages/sklearn/metrics/_classification.py:1327: UndefinedMetricWarning: Precision is ill-defined and being set to 0.0 in labels with no predicted samples. Use `zero_division` parameter to control this behavior.\n",
      "  _warn_prf(average, modifier, msg_start, len(result))\n",
      "/Users/ms/miniforge3/envs/tensorflow-metal/lib/python3.9/site-packages/sklearn/metrics/_classification.py:1327: UndefinedMetricWarning: Precision is ill-defined and being set to 0.0 in labels with no predicted samples. Use `zero_division` parameter to control this behavior.\n",
      "  _warn_prf(average, modifier, msg_start, len(result))\n",
      "/Users/ms/miniforge3/envs/tensorflow-metal/lib/python3.9/site-packages/sklearn/metrics/_classification.py:1327: UndefinedMetricWarning: Precision is ill-defined and being set to 0.0 in labels with no predicted samples. Use `zero_division` parameter to control this behavior.\n",
      "  _warn_prf(average, modifier, msg_start, len(result))\n",
      "/Users/ms/miniforge3/envs/tensorflow-metal/lib/python3.9/site-packages/sklearn/metrics/_classification.py:1327: UndefinedMetricWarning: Precision is ill-defined and being set to 0.0 in labels with no predicted samples. Use `zero_division` parameter to control this behavior.\n",
      "  _warn_prf(average, modifier, msg_start, len(result))\n",
      "/Users/ms/miniforge3/envs/tensorflow-metal/lib/python3.9/site-packages/sklearn/metrics/_classification.py:1327: UndefinedMetricWarning: Precision is ill-defined and being set to 0.0 in labels with no predicted samples. Use `zero_division` parameter to control this behavior.\n",
      "  _warn_prf(average, modifier, msg_start, len(result))\n",
      "/Users/ms/miniforge3/envs/tensorflow-metal/lib/python3.9/site-packages/sklearn/metrics/_classification.py:1327: UndefinedMetricWarning: Precision is ill-defined and being set to 0.0 in labels with no predicted samples. Use `zero_division` parameter to control this behavior.\n",
      "  _warn_prf(average, modifier, msg_start, len(result))\n"
     ]
    }
   ],
   "source": [
    "from sklearn.linear_model import SGDClassifier\n",
    "\n",
    "bag_cv_results = cross_validate(bag_model,one_hot_encoded_data, Y, cv=cv, scoring=scoring, n_jobs=1)\n",
    "rf_cv_results = cross_validate(rf_classifier,one_hot_encoded_data, Y, cv=cv, scoring=scoring, n_jobs=1)\n",
    "gd_cv_results = cross_validate(gb_classifier,one_hot_encoded_data, Y, cv=cv, scoring=scoring, n_jobs=1)\n",
    "sgd_cv_results = cross_validate(SGDClassifier(),one_hot_encoded_data, Y, cv=cv, scoring=scoring, n_jobs=1)"
   ]
  },
  {
   "cell_type": "code",
   "execution_count": 362,
   "metadata": {},
   "outputs": [
    {
     "name": "stdout",
     "output_type": "stream",
     "text": [
      "ac: 0.7428571428571428\n",
      "ps: 0.582929292929293\n",
      "rs: 0.5993534243534243\n",
      "f1: 0.570144551101073\n",
      "rmse: -0.5019921382516065\n",
      "ac: 0.7095238095238094\n",
      "ps: 0.5502020202020201\n",
      "rs: 0.5590564990564991\n",
      "f1: 0.5350793375621752\n",
      "rmse: -0.5338867803086755\n",
      "ac: 0.5952380952380951\n",
      "ps: 0.5013131313131313\n",
      "rs: 0.3797258297258298\n",
      "f1: 0.3854322714322715\n",
      "rmse: -0.615937088256913\n",
      "ac: 0.5952380952380951\n",
      "ps: 0.5013131313131313\n",
      "rs: 0.3797258297258298\n",
      "f1: 0.3854322714322715\n",
      "rmse: -0.615937088256913\n"
     ]
    }
   ],
   "source": [
    "get_mean(bag_cv_results)\n",
    "get_mean(gd_cv_results)\n",
    "get_mean(sgd_cv_results)\n",
    "get_mean(sgd_cv_results)"
   ]
  },
  {
   "cell_type": "code",
   "execution_count": 373,
   "metadata": {},
   "outputs": [
    {
     "data": {
      "image/png": "[encoded data removed]",
      "text/plain": [
       "<Figure size 432x288 with 1 Axes>"
      ]
     },
     "metadata": {
      "needs_background": "light"
     },
     "output_type": "display_data"
    }
   ],
   "source": [
    "val1 = [\"{:X}\".format(i) for i in range(10)] \n",
    "val2 = [\"{:02X}\".format(10 * i) for i in range(10)] \n",
    "val3 = [[\"\" for c in range(10)] for r in range(10)] \n",
    "   \n",
    "fig, ax = plt.subplots() \n",
    "ax.set_axis_off() \n",
    "table = ax.table( \n",
    "    cellText = val3,  \n",
    "    rowLabels = val2,  \n",
    "    colLabels = val1, \n",
    "    rowColours =[\"palegreen\"] * 10,  \n",
    "    colColours =[\"palegreen\"] * 10, \n",
    "    cellLoc ='center',  \n",
    "    loc ='upper left') \n",
    "   \n",
    "plt.show() "
   ]
  },
  {
   "cell_type": "code",
   "execution_count": 412,
   "metadata": {},
   "outputs": [
    {
     "name": "stdout",
     "output_type": "stream",
     "text": [
      "ac: 0.7428571428571428\n",
      "ps: 0.582929292929293\n",
      "rs: 0.5993534243534243\n",
      "f1: 0.570144551101073\n",
      "rmse: -0.5019921382516065\n",
      "ac: 0.7619047619047622\n",
      "ps: 0.5725757575757575\n",
      "rs: 0.647960372960373\n",
      "f1: 0.5587585795846667\n",
      "rmse: -0.48532394413015323\n",
      "ac: 0.7095238095238094\n",
      "ps: 0.5502020202020201\n",
      "rs: 0.5590564990564991\n",
      "f1: 0.5350793375621752\n",
      "rmse: -0.5338867803086755\n",
      "ac: 0.5952380952380951\n",
      "ps: 0.5013131313131313\n",
      "rs: 0.3797258297258298\n",
      "f1: 0.3854322714322715\n",
      "rmse: -0.615937088256913\n"
     ]
    }
   ],
   "source": [
    "bag_cv_means = get_mean(bag_cv_results)\n",
    "rf_cv_means = get_mean(rf_cv_results )\n",
    "gd_cv_means = get_mean(gd_cv_results )\n",
    "sgd_cv_means = get_mean(sgd_cv_results)"
   ]
  },
  {
   "cell_type": "code",
   "execution_count": 415,
   "metadata": {},
   "outputs": [
    {
     "data": {
      "text/plain": [
       "{'ac': 0.7095238095238094,\n",
       " 'ps': 0.5502020202020201,\n",
       " 'rs': 0.5590564990564991,\n",
       " 'f1': 0.5350793375621752,\n",
       " 'rmse': -0.5338867803086755}"
      ]
     },
     "execution_count": 415,
     "metadata": {},
     "output_type": "execute_result"
    }
   ],
   "source": [
    "gd_cv_means"
   ]
  },
  {
   "cell_type": "code",
   "execution_count": 420,
   "metadata": {},
   "outputs": [],
   "source": [
    "df = pd.DataFrame(\n",
    "    # columns=['Bagging', 'Boosting', 'Stacking', 'NB', 'SGD', 'DT'],\n",
    "    columns=['ac', 'ps', 'rs', 'f1', 'rmse'],\n",
    "    data=[bag_cv_means, rf_cv_means, gd_cv_means, sgd_cv_means],\n",
    "    index=['Bagging', 'RF', 'GD', 'SGD']\n",
    ")"
   ]
  },
  {
   "cell_type": "code",
   "execution_count": 421,
   "metadata": {},
   "outputs": [
    {
     "data": {
      "text/html": [
       "<div>\n",
       "<style scoped>\n",
       "    .dataframe tbody tr th:only-of-type {\n",
       "        vertical-align: middle;\n",
       "    }\n",
       "\n",
       "    .dataframe tbody tr th {\n",
       "        vertical-align: top;\n",
       "    }\n",
       "\n",
       "    .dataframe thead th {\n",
       "        text-align: right;\n",
       "    }\n",
       "</style>\n",
       "<table border=\"1\" class=\"dataframe\">\n",
       "  <thead>\n",
       "    <tr style=\"text-align: right;\">\n",
       "      <th></th>\n",
       "      <th>ac</th>\n",
       "      <th>ps</th>\n",
       "      <th>rs</th>\n",
       "      <th>f1</th>\n",
       "      <th>rmse</th>\n",
       "    </tr>\n",
       "  </thead>\n",
       "  <tbody>\n",
       "    <tr>\n",
       "      <th>Bagging</th>\n",
       "      <td>0.742857</td>\n",
       "      <td>0.582929</td>\n",
       "      <td>0.599353</td>\n",
       "      <td>0.570145</td>\n",
       "      <td>-0.501992</td>\n",
       "    </tr>\n",
       "    <tr>\n",
       "      <th>RF</th>\n",
       "      <td>0.761905</td>\n",
       "      <td>0.572576</td>\n",
       "      <td>0.647960</td>\n",
       "      <td>0.558759</td>\n",
       "      <td>-0.485324</td>\n",
       "    </tr>\n",
       "    <tr>\n",
       "      <th>GD</th>\n",
       "      <td>0.709524</td>\n",
       "      <td>0.550202</td>\n",
       "      <td>0.559056</td>\n",
       "      <td>0.535079</td>\n",
       "      <td>-0.533887</td>\n",
       "    </tr>\n",
       "    <tr>\n",
       "      <th>SGD</th>\n",
       "      <td>0.595238</td>\n",
       "      <td>0.501313</td>\n",
       "      <td>0.379726</td>\n",
       "      <td>0.385432</td>\n",
       "      <td>-0.615937</td>\n",
       "    </tr>\n",
       "  </tbody>\n",
       "</table>\n",
       "</div>"
      ],
      "text/plain": [
       "               ac        ps        rs        f1      rmse\n",
       "Bagging  0.742857  0.582929  0.599353  0.570145 -0.501992\n",
       "RF       0.761905  0.572576  0.647960  0.558759 -0.485324\n",
       "GD       0.709524  0.550202  0.559056  0.535079 -0.533887\n",
       "SGD      0.595238  0.501313  0.379726  0.385432 -0.615937"
      ]
     },
     "execution_count": 421,
     "metadata": {},
     "output_type": "execute_result"
    }
   ],
   "source": [
    "df"
   ]
  },
  {
   "cell_type": "code",
   "execution_count": null,
   "metadata": {},
   "outputs": [
    {
     "data": {
      "image/png": "[encoded data removed]",
      "text/plain": [
       "<Figure size 432x288 with 1 Axes>"
      ]
     },
     "metadata": {
      "needs_background": "light"
     },
     "output_type": "display_data"
    },
    {
     "data": {
      "image/png": "[encoded data removed]",
      "text/plain": [
       "<Figure size 432x288 with 1 Axes>"
      ]
     },
     "metadata": {
      "needs_background": "light"
     },
     "output_type": "display_data"
    },
    {
     "data": {
      "image/png": "[encoded data removed]",
      "text/plain": [
       "<Figure size 432x288 with 1 Axes>"
      ]
     },
     "metadata": {
      "needs_background": "light"
     },
     "output_type": "display_data"
    },
    {
     "data": {
      "image/png": "[encoded data removed]",
      "text/plain": [
       "<Figure size 432x288 with 1 Axes>"
      ]
     },
     "metadata": {
      "needs_background": "light"
     },
     "output_type": "display_data"
    }
   ],
   "source": [
    "metric = 'rmse'\n",
    "get_graph(bag_cv_results, metric)\n",
    "get_graph(gd_cv_results, metric)\n",
    "get_graph(sgd_cv_results, metric)\n",
    "get_graph(sgd_cv_results, metric)"
   ]
  },
  {
   "cell_type": "code",
   "execution_count": null,
   "metadata": {},
   "outputs": [],
   "source": [
    "from sklearn.linear_model import SGDClassifier\n",
    "\n",
    "# afs = after feature selection\n",
    "rf_afs_cv_results = cross_validate(RandomForestClassifier(),selected_data, Y, cv=cv, scoring=scoring, n_jobs=1)\n",
    "gd_afs_cv_results = cross_validate(GradientBoostingClassifier(),selected_data, Y, cv=cv, scoring=scoring, n_jobs=1)\n",
    "sgd_afs_cv_results = cross_validate(SGDClassifier(),selected_data, Y, cv=cv, scoring=scoring, n_jobs=1)"
   ]
  },
  {
   "cell_type": "code",
   "execution_count": null,
   "metadata": {},
   "outputs": [
    {
     "data": {
      "image/png": "[encoded data removed]",
      "text/plain": [
       "<Figure size 432x288 with 1 Axes>"
      ]
     },
     "metadata": {
      "needs_background": "light"
     },
     "output_type": "display_data"
    }
   ],
   "source": [
    "get_graph([rf_afs_cv_results,rf_cv_results] , \"rmse\")"
   ]
  },
  {
   "cell_type": "code",
   "execution_count": null,
   "metadata": {},
   "outputs": [
    {
     "data": {
      "image/png": "[encoded data removed]",
      "text/plain": [
       "<Figure size 432x288 with 1 Axes>"
      ]
     },
     "metadata": {
      "needs_background": "light"
     },
     "output_type": "display_data"
    }
   ],
   "source": [
    "get_graph([gd_cv_results,gd_afs_cv_results] , \"rmse\")"
   ]
  },
  {
   "cell_type": "code",
   "execution_count": null,
   "metadata": {},
   "outputs": [
    {
     "data": {
      "image/png": "[encoded data removed]",
      "text/plain": [
       "<Figure size 432x288 with 1 Axes>"
      ]
     },
     "metadata": {
      "needs_background": "light"
     },
     "output_type": "display_data"
    }
   ],
   "source": [
    "get_graph([sgd_cv_results,sgd_afs_cv_results] , \"rmse\")"
   ]
  },
  {
   "cell_type": "code",
   "execution_count": null,
   "metadata": {},
   "outputs": [
    {
     "name": "stdout",
     "output_type": "stream",
     "text": [
      "ac: 0.7619047619047621\n",
      "ps: 0.5828787878787878\n",
      "rs: 0.6015290265290266\n",
      "f1: 0.5659955455172848\n",
      "rmse: -0.4835461917383565\n",
      "ac: 0.7666666666666668\n",
      "ps: 0.5783838383838383\n",
      "rs: 0.6433899433899434\n",
      "f1: 0.5622189597841772\n",
      "rmse: -0.4786893678118305\n"
     ]
    }
   ],
   "source": [
    "get_mean(rf_afs_cv_results)\n",
    "get_mean(rf_cv_results)"
   ]
  },
  {
   "cell_type": "code",
   "execution_count": null,
   "metadata": {},
   "outputs": [],
   "source": []
  },
  {
   "cell_type": "code",
   "execution_count": null,
   "metadata": {},
   "outputs": [],
   "source": []
  }
 ],
 "metadata": {
  "kernelspec": {
   "display_name": "Python 3",
   "language": "python",
   "name": "python3"
  },
  "language_info": {
   "codemirror_mode": {
    "name": "ipython",
    "version": 3
   },
   "file_extension": ".py",
   "mimetype": "text/x-python",
   "name": "python",
   "nbconvert_exporter": "python",
   "pygments_lexer": "ipython3",
   "version": "3.10.8 (main, Oct 13 2022, 09:48:40) [Clang 14.0.0 (clang-1400.0.29.102)]"
  },
  "vscode": {
   "interpreter": {
    "hash": "b0fa6594d8f4cbf19f97940f81e996739fb7646882a419484c72d19e05852a7e"
   }
  }
 },
 "nbformat": 4,
 "nbformat_minor": 4
}

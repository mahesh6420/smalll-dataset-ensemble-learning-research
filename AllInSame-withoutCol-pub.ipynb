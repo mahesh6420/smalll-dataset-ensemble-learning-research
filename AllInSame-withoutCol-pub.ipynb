{
 "cells": [
  {
   "cell_type": "code",
   "execution_count": 1,
   "metadata": {},
   "outputs": [],
   "source": [
    "import pandas as pd\n",
    "import numpy as np\n",
    "import sklearn\n",
    "import matplotlib.pyplot as plt"
   ]
  },
  {
   "cell_type": "code",
   "execution_count": 3,
   "metadata": {},
   "outputs": [],
   "source": [
    "clinical_data = pd.read_csv('..\\\\data\\\\NSCLCR01Radiogenomic_DATA_LABELS_2018-05-22_1500.csv', index_col=False)"
   ]
  },
  {
   "cell_type": "code",
   "execution_count": 4,
   "metadata": {},
   "outputs": [
    {
     "output_type": "execute_result",
     "data": {
      "text/plain": [
       "   Age at Histological Diagnosis Weight (lbs)  Gender  Ethnicity  \\\n",
       "0                             79          146  Female  Caucasian   \n",
       "1                             65          195  Female      Asian   \n",
       "\n",
       "  Smoking status Tumor Location (choice=RUL) Tumor Location (choice=RML)  \\\n",
       "0         Former                     Checked                   Unchecked   \n",
       "1      Nonsmoker                     Checked                   Unchecked   \n",
       "\n",
       "  Tumor Location (choice=RLL) Tumor Location (choice=LUL)  \\\n",
       "0                   Unchecked                   Unchecked   \n",
       "1                   Unchecked                   Unchecked   \n",
       "\n",
       "  Tumor Location (choice=LLL)  ...  \\\n",
       "0                   Unchecked  ...   \n",
       "1                   Unchecked  ...   \n",
       "\n",
       "  Pleural invasion (elastic, visceral, or parietal) EGFR mutation status  \\\n",
       "0                                                No              Unknown   \n",
       "1                                                No              Unknown   \n",
       "\n",
       "  KRAS mutation status ALK translocation status Adjuvant Treatment  \\\n",
       "0              Unknown                  Unknown                 No   \n",
       "1              Unknown                  Unknown                 No   \n",
       "\n",
       "  Chemotherapy Radiation Recurrence Location Days between CT and surgery  \\\n",
       "0           No        No                 NaN                          42   \n",
       "1           No        No                 NaN                          23   \n",
       "\n",
       "  Recurrence  \n",
       "0         no  \n",
       "1         no  \n",
       "\n",
       "[2 rows x 28 columns]"
      ],
      "text/html": "<div>\n<style scoped>\n    .dataframe tbody tr th:only-of-type {\n        vertical-align: middle;\n    }\n\n    .dataframe tbody tr th {\n        vertical-align: top;\n    }\n\n    .dataframe thead th {\n        text-align: right;\n    }\n</style>\n<table border=\"1\" class=\"dataframe\">\n  <thead>\n    <tr style=\"text-align: right;\">\n      <th></th>\n      <th>Age at Histological Diagnosis</th>\n      <th>Weight (lbs)</th>\n      <th>Gender</th>\n      <th>Ethnicity</th>\n      <th>Smoking status</th>\n      <th>Tumor Location (choice=RUL)</th>\n      <th>Tumor Location (choice=RML)</th>\n      <th>Tumor Location (choice=RLL)</th>\n      <th>Tumor Location (choice=LUL)</th>\n      <th>Tumor Location (choice=LLL)</th>\n      <th>...</th>\n      <th>Pleural invasion (elastic, visceral, or parietal)</th>\n      <th>EGFR mutation status</th>\n      <th>KRAS mutation status</th>\n      <th>ALK translocation status</th>\n      <th>Adjuvant Treatment</th>\n      <th>Chemotherapy</th>\n      <th>Radiation</th>\n      <th>Recurrence Location</th>\n      <th>Days between CT and surgery</th>\n      <th>Recurrence</th>\n    </tr>\n  </thead>\n  <tbody>\n    <tr>\n      <th>0</th>\n      <td>79</td>\n      <td>146</td>\n      <td>Female</td>\n      <td>Caucasian</td>\n      <td>Former</td>\n      <td>Checked</td>\n      <td>Unchecked</td>\n      <td>Unchecked</td>\n      <td>Unchecked</td>\n      <td>Unchecked</td>\n      <td>...</td>\n      <td>No</td>\n      <td>Unknown</td>\n      <td>Unknown</td>\n      <td>Unknown</td>\n      <td>No</td>\n      <td>No</td>\n      <td>No</td>\n      <td>NaN</td>\n      <td>42</td>\n      <td>no</td>\n    </tr>\n    <tr>\n      <th>1</th>\n      <td>65</td>\n      <td>195</td>\n      <td>Female</td>\n      <td>Asian</td>\n      <td>Nonsmoker</td>\n      <td>Checked</td>\n      <td>Unchecked</td>\n      <td>Unchecked</td>\n      <td>Unchecked</td>\n      <td>Unchecked</td>\n      <td>...</td>\n      <td>No</td>\n      <td>Unknown</td>\n      <td>Unknown</td>\n      <td>Unknown</td>\n      <td>No</td>\n      <td>No</td>\n      <td>No</td>\n      <td>NaN</td>\n      <td>23</td>\n      <td>no</td>\n    </tr>\n  </tbody>\n</table>\n<p>2 rows × 28 columns</p>\n</div>"
     },
     "metadata": {},
     "execution_count": 4
    }
   ],
   "source": [
    "# clinical_data = clinical_data.drop(['Case ID','Patient affiliation','%GG', 'Survival Status','Date of Last Known Alive', 'Date of Last Known Alive', 'CT Date', 'PET Date', 'Date of Recurrence'], axis=1)\n",
    "clinical_data.head(2)"
   ]
  },
  {
   "cell_type": "code",
   "execution_count": 6,
   "metadata": {},
   "outputs": [],
   "source": [
    "# clinical_data['Quit Smoking Year'] = pd.to_datetime(clinical_data['Quit Smoking Year'], format='%Y')"
   ]
  },
  {
   "cell_type": "code",
   "execution_count": 7,
   "metadata": {},
   "outputs": [],
   "source": [
    "# clinical_data['Quit Smoking Year']"
   ]
  },
  {
   "cell_type": "code",
   "execution_count": 8,
   "metadata": {},
   "outputs": [],
   "source": [
    "#replace Not Collected with NaN\n",
    "clinical_data.replace('Not Collected', 'NaN', inplace=True)\n",
    "clinical_data.replace('Not collected', 'NaN', inplace=True)\n",
    "clinical_data.replace('Not Recorded In Database', 'NaN', inplace=True)\n",
    "clinical_data.replace('NaN', np.nan, inplace=True)"
   ]
  },
  {
   "cell_type": "code",
   "execution_count": 9,
   "metadata": {},
   "outputs": [],
   "source": [
    "#weight to numerical value\n",
    "clinical_data['Weight (lbs)'] = pd.to_numeric(clinical_data['Weight (lbs)'])\n",
    "# clinical_data.astype({'Weight (lbs)':'Int32'})"
   ]
  },
  {
   "cell_type": "code",
   "execution_count": 10,
   "metadata": {},
   "outputs": [],
   "source": [
    "# clinical_data['Quit Smoking'] = clinical_data['Quit Smoking Year'].isnull()\n",
    "# clinical_data['Quit Smoking Year'] = clinical_data.drop('Quit Smoking Year', axis=1)"
   ]
  },
  {
   "cell_type": "code",
   "execution_count": 11,
   "metadata": {},
   "outputs": [],
   "source": [
    "clinical_data['Weight (lbs)'].fillna(-999, inplace=True)"
   ]
  },
  {
   "cell_type": "code",
   "execution_count": 12,
   "metadata": {},
   "outputs": [],
   "source": [
    "dm = pd.DataFrame(pd.get_dummies(clinical_data))"
   ]
  },
  {
   "cell_type": "code",
   "execution_count": 13,
   "metadata": {},
   "outputs": [],
   "source": [
    "dm = dm.drop(['Recurrence_no'], axis=1)"
   ]
  },
  {
   "cell_type": "code",
   "execution_count": 14,
   "metadata": {},
   "outputs": [
    {
     "output_type": "execute_result",
     "data": {
      "text/plain": [
       "0      146.0\n",
       "1      195.0\n",
       "2     -999.0\n",
       "3     -999.0\n",
       "4      145.0\n",
       "       ...  \n",
       "157    184.0\n",
       "158    231.5\n",
       "159   -999.0\n",
       "160    158.0\n",
       "161    229.0\n",
       "Name: Weight (lbs), Length: 162, dtype: float64"
      ]
     },
     "metadata": {},
     "execution_count": 14
    }
   ],
   "source": [
    "clinical_data['Weight (lbs)']"
   ]
  },
  {
   "cell_type": "code",
   "execution_count": 16,
   "metadata": {
    "collapsed": true
   },
   "outputs": [],
   "source": [
    "# clinical_data['Quit Smoking']"
   ]
  },
  {
   "cell_type": "code",
   "execution_count": 17,
   "metadata": {},
   "outputs": [],
   "source": [
    "#define x and y\n",
    "X = dm.iloc[:, dm.columns != 'Recurrence_yes']\n",
    "y = dm.iloc[:,-1].values"
   ]
  },
  {
   "cell_type": "code",
   "execution_count": 20,
   "metadata": {},
   "outputs": [],
   "source": [
    "#clinical_data.iloc[:,-1]"
   ]
  },
  {
   "cell_type": "markdown",
   "metadata": {},
   "source": [
    "Train Test Split"
   ]
  },
  {
   "cell_type": "code",
   "execution_count": 18,
   "metadata": {},
   "outputs": [],
   "source": [
    "from sklearn.model_selection import train_test_split\n",
    "X_train, X_test, y_train, y_test = train_test_split(X, y, test_size = 0.30, random_state = 0)"
   ]
  },
  {
   "cell_type": "code",
   "execution_count": 19,
   "metadata": {
    "collapsed": true
   },
   "outputs": [
    {
     "output_type": "execute_result",
     "data": {
      "text/plain": [
       "     Age at Histological Diagnosis  Weight (lbs)  Days between CT and surgery  \\\n",
       "85                              68       171.990                           14   \n",
       "55                              71       180.810                            9   \n",
       "160                             67       158.000                           65   \n",
       "18                              71       205.000                           42   \n",
       "92                              83       201.000                           73   \n",
       "..                             ...           ...                          ...   \n",
       "9                               72      -999.000                           52   \n",
       "103                             76       229.000                            2   \n",
       "67                              63       183.015                           29   \n",
       "117                             80       201.000                            3   \n",
       "47                              77       185.220                           63   \n",
       "\n",
       "     Gender_Female  Gender_Male  Ethnicity_African-American  Ethnicity_Asian  \\\n",
       "85               0            1                           0                0   \n",
       "55               0            1                           0                0   \n",
       "160              0            1                           0                1   \n",
       "18               0            1                           0                0   \n",
       "92               0            1                           0                0   \n",
       "..             ...          ...                         ...              ...   \n",
       "9                0            1                           0                0   \n",
       "103              0            1                           0                0   \n",
       "67               0            1                           0                0   \n",
       "117              0            1                           0                0   \n",
       "47               0            1                           0                0   \n",
       "\n",
       "     Ethnicity_Caucasian  Ethnicity_Hispanic/Latino  \\\n",
       "85                     0                          0   \n",
       "55                     1                          0   \n",
       "160                    0                          0   \n",
       "18                     1                          0   \n",
       "92                     1                          0   \n",
       "..                   ...                        ...   \n",
       "9                      1                          0   \n",
       "103                    1                          0   \n",
       "67                     1                          0   \n",
       "117                    1                          0   \n",
       "47                     1                          0   \n",
       "\n",
       "     Ethnicity_Native Hawaiian/Pacific Islander  ...  \\\n",
       "85                                            1  ...   \n",
       "55                                            0  ...   \n",
       "160                                           0  ...   \n",
       "18                                            0  ...   \n",
       "92                                            0  ...   \n",
       "..                                          ...  ...   \n",
       "9                                             0  ...   \n",
       "103                                           0  ...   \n",
       "67                                            0  ...   \n",
       "117                                           0  ...   \n",
       "47                                            0  ...   \n",
       "\n",
       "     ALK translocation status_Wildtype  Adjuvant Treatment_No  \\\n",
       "85                                   1                      0   \n",
       "55                                   1                      1   \n",
       "160                                  1                      1   \n",
       "18                                   1                      1   \n",
       "92                                   0                      1   \n",
       "..                                 ...                    ...   \n",
       "9                                    1                      1   \n",
       "103                                  1                      1   \n",
       "67                                   1                      0   \n",
       "117                                  1                      0   \n",
       "47                                   1                      1   \n",
       "\n",
       "     Adjuvant Treatment_Yes  Chemotherapy_No  Chemotherapy_Yes  Radiation_No  \\\n",
       "85                        1                0                 1             1   \n",
       "55                        0                1                 0             1   \n",
       "160                       0                1                 0             1   \n",
       "18                        0                1                 0             1   \n",
       "92                        0                1                 0             1   \n",
       "..                      ...              ...               ...           ...   \n",
       "9                         0                1                 0             1   \n",
       "103                       0                1                 0             1   \n",
       "67                        1                0                 1             1   \n",
       "117                       1                0                 1             1   \n",
       "47                        0                1                 0             1   \n",
       "\n",
       "     Radiation_Yes  Recurrence Location_distant  Recurrence Location_local  \\\n",
       "85               0                            0                          0   \n",
       "55               0                            0                          0   \n",
       "160              0                            0                          0   \n",
       "18               0                            0                          0   \n",
       "92               0                            0                          0   \n",
       "..             ...                          ...                        ...   \n",
       "9                0                            0                          0   \n",
       "103              0                            0                          0   \n",
       "67               0                            0                          0   \n",
       "117              0                            0                          0   \n",
       "47               0                            0                          0   \n",
       "\n",
       "     Recurrence Location_regional  \n",
       "85                              0  \n",
       "55                              0  \n",
       "160                             0  \n",
       "18                              0  \n",
       "92                              1  \n",
       "..                            ...  \n",
       "9                               1  \n",
       "103                             0  \n",
       "67                              1  \n",
       "117                             0  \n",
       "47                              0  \n",
       "\n",
       "[113 rows x 69 columns]"
      ],
      "text/html": "<div>\n<style scoped>\n    .dataframe tbody tr th:only-of-type {\n        vertical-align: middle;\n    }\n\n    .dataframe tbody tr th {\n        vertical-align: top;\n    }\n\n    .dataframe thead th {\n        text-align: right;\n    }\n</style>\n<table border=\"1\" class=\"dataframe\">\n  <thead>\n    <tr style=\"text-align: right;\">\n      <th></th>\n      <th>Age at Histological Diagnosis</th>\n      <th>Weight (lbs)</th>\n      <th>Days between CT and surgery</th>\n      <th>Gender_Female</th>\n      <th>Gender_Male</th>\n      <th>Ethnicity_African-American</th>\n      <th>Ethnicity_Asian</th>\n      <th>Ethnicity_Caucasian</th>\n      <th>Ethnicity_Hispanic/Latino</th>\n      <th>Ethnicity_Native Hawaiian/Pacific Islander</th>\n      <th>...</th>\n      <th>ALK translocation status_Wildtype</th>\n      <th>Adjuvant Treatment_No</th>\n      <th>Adjuvant Treatment_Yes</th>\n      <th>Chemotherapy_No</th>\n      <th>Chemotherapy_Yes</th>\n      <th>Radiation_No</th>\n      <th>Radiation_Yes</th>\n      <th>Recurrence Location_distant</th>\n      <th>Recurrence Location_local</th>\n      <th>Recurrence Location_regional</th>\n    </tr>\n  </thead>\n  <tbody>\n    <tr>\n      <th>85</th>\n      <td>68</td>\n      <td>171.990</td>\n      <td>14</td>\n      <td>0</td>\n      <td>1</td>\n      <td>0</td>\n      <td>0</td>\n      <td>0</td>\n      <td>0</td>\n      <td>1</td>\n      <td>...</td>\n      <td>1</td>\n      <td>0</td>\n      <td>1</td>\n      <td>0</td>\n      <td>1</td>\n      <td>1</td>\n      <td>0</td>\n      <td>0</td>\n      <td>0</td>\n      <td>0</td>\n    </tr>\n    <tr>\n      <th>55</th>\n      <td>71</td>\n      <td>180.810</td>\n      <td>9</td>\n      <td>0</td>\n      <td>1</td>\n      <td>0</td>\n      <td>0</td>\n      <td>1</td>\n      <td>0</td>\n      <td>0</td>\n      <td>...</td>\n      <td>1</td>\n      <td>1</td>\n      <td>0</td>\n      <td>1</td>\n      <td>0</td>\n      <td>1</td>\n      <td>0</td>\n      <td>0</td>\n      <td>0</td>\n      <td>0</td>\n    </tr>\n    <tr>\n      <th>160</th>\n      <td>67</td>\n      <td>158.000</td>\n      <td>65</td>\n      <td>0</td>\n      <td>1</td>\n      <td>0</td>\n      <td>1</td>\n      <td>0</td>\n      <td>0</td>\n      <td>0</td>\n      <td>...</td>\n      <td>1</td>\n      <td>1</td>\n      <td>0</td>\n      <td>1</td>\n      <td>0</td>\n      <td>1</td>\n      <td>0</td>\n      <td>0</td>\n      <td>0</td>\n      <td>0</td>\n    </tr>\n    <tr>\n      <th>18</th>\n      <td>71</td>\n      <td>205.000</td>\n      <td>42</td>\n      <td>0</td>\n      <td>1</td>\n      <td>0</td>\n      <td>0</td>\n      <td>1</td>\n      <td>0</td>\n      <td>0</td>\n      <td>...</td>\n      <td>1</td>\n      <td>1</td>\n      <td>0</td>\n      <td>1</td>\n      <td>0</td>\n      <td>1</td>\n      <td>0</td>\n      <td>0</td>\n      <td>0</td>\n      <td>0</td>\n    </tr>\n    <tr>\n      <th>92</th>\n      <td>83</td>\n      <td>201.000</td>\n      <td>73</td>\n      <td>0</td>\n      <td>1</td>\n      <td>0</td>\n      <td>0</td>\n      <td>1</td>\n      <td>0</td>\n      <td>0</td>\n      <td>...</td>\n      <td>0</td>\n      <td>1</td>\n      <td>0</td>\n      <td>1</td>\n      <td>0</td>\n      <td>1</td>\n      <td>0</td>\n      <td>0</td>\n      <td>0</td>\n      <td>1</td>\n    </tr>\n    <tr>\n      <th>...</th>\n      <td>...</td>\n      <td>...</td>\n      <td>...</td>\n      <td>...</td>\n      <td>...</td>\n      <td>...</td>\n      <td>...</td>\n      <td>...</td>\n      <td>...</td>\n      <td>...</td>\n      <td>...</td>\n      <td>...</td>\n      <td>...</td>\n      <td>...</td>\n      <td>...</td>\n      <td>...</td>\n      <td>...</td>\n      <td>...</td>\n      <td>...</td>\n      <td>...</td>\n      <td>...</td>\n    </tr>\n    <tr>\n      <th>9</th>\n      <td>72</td>\n      <td>-999.000</td>\n      <td>52</td>\n      <td>0</td>\n      <td>1</td>\n      <td>0</td>\n      <td>0</td>\n      <td>1</td>\n      <td>0</td>\n      <td>0</td>\n      <td>...</td>\n      <td>1</td>\n      <td>1</td>\n      <td>0</td>\n      <td>1</td>\n      <td>0</td>\n      <td>1</td>\n      <td>0</td>\n      <td>0</td>\n      <td>0</td>\n      <td>1</td>\n    </tr>\n    <tr>\n      <th>103</th>\n      <td>76</td>\n      <td>229.000</td>\n      <td>2</td>\n      <td>0</td>\n      <td>1</td>\n      <td>0</td>\n      <td>0</td>\n      <td>1</td>\n      <td>0</td>\n      <td>0</td>\n      <td>...</td>\n      <td>1</td>\n      <td>1</td>\n      <td>0</td>\n      <td>1</td>\n      <td>0</td>\n      <td>1</td>\n      <td>0</td>\n      <td>0</td>\n      <td>0</td>\n      <td>0</td>\n    </tr>\n    <tr>\n      <th>67</th>\n      <td>63</td>\n      <td>183.015</td>\n      <td>29</td>\n      <td>0</td>\n      <td>1</td>\n      <td>0</td>\n      <td>0</td>\n      <td>1</td>\n      <td>0</td>\n      <td>0</td>\n      <td>...</td>\n      <td>1</td>\n      <td>0</td>\n      <td>1</td>\n      <td>0</td>\n      <td>1</td>\n      <td>1</td>\n      <td>0</td>\n      <td>0</td>\n      <td>0</td>\n      <td>1</td>\n    </tr>\n    <tr>\n      <th>117</th>\n      <td>80</td>\n      <td>201.000</td>\n      <td>3</td>\n      <td>0</td>\n      <td>1</td>\n      <td>0</td>\n      <td>0</td>\n      <td>1</td>\n      <td>0</td>\n      <td>0</td>\n      <td>...</td>\n      <td>1</td>\n      <td>0</td>\n      <td>1</td>\n      <td>0</td>\n      <td>1</td>\n      <td>1</td>\n      <td>0</td>\n      <td>0</td>\n      <td>0</td>\n      <td>0</td>\n    </tr>\n    <tr>\n      <th>47</th>\n      <td>77</td>\n      <td>185.220</td>\n      <td>63</td>\n      <td>0</td>\n      <td>1</td>\n      <td>0</td>\n      <td>0</td>\n      <td>1</td>\n      <td>0</td>\n      <td>0</td>\n      <td>...</td>\n      <td>1</td>\n      <td>1</td>\n      <td>0</td>\n      <td>1</td>\n      <td>0</td>\n      <td>1</td>\n      <td>0</td>\n      <td>0</td>\n      <td>0</td>\n      <td>0</td>\n    </tr>\n  </tbody>\n</table>\n<p>113 rows × 69 columns</p>\n</div>"
     },
     "metadata": {},
     "execution_count": 19
    }
   ],
   "source": [
    "X_train"
   ]
  },
  {
   "cell_type": "markdown",
   "metadata": {},
   "source": [
    "Feature Scaling"
   ]
  },
  {
   "cell_type": "code",
   "execution_count": 20,
   "metadata": {},
   "outputs": [],
   "source": [
    "from sklearn.preprocessing import StandardScaler\n",
    "sc = StandardScaler()\n",
    "X_train = sc.fit_transform(X_train)\n",
    "X_test = sc.transform(X_test)"
   ]
  },
  {
   "cell_type": "code",
   "execution_count": 21,
   "metadata": {},
   "outputs": [
    {
     "output_type": "execute_result",
     "data": {
      "text/plain": [
       "array([0, 0, 0, 0, 1, 1, 0, 0, 0, 0, 0, 0, 0, 0, 0, 0, 0, 0, 1, 1, 0, 0,\n",
       "       0, 1, 0, 1, 1, 1, 1, 0, 1, 0, 0, 0, 1, 0, 0, 1, 0, 0, 1, 1, 1, 0,\n",
       "       1, 0, 0, 0, 1, 0, 0, 0, 0, 0, 0, 0, 0, 1, 1, 1, 0, 0, 0, 0, 0, 0,\n",
       "       1, 0, 0, 1, 0, 1, 0, 0, 0, 0, 1, 0, 0, 0, 1, 1, 0, 0, 0, 1, 0, 1,\n",
       "       1, 0, 0, 0, 0, 0, 0, 0, 1, 0, 1, 0, 0, 0, 1, 0, 0, 1, 0, 1, 1, 0,\n",
       "       1, 0, 0], dtype=uint8)"
      ]
     },
     "metadata": {},
     "execution_count": 21
    }
   ],
   "source": [
    "y_train"
   ]
  },
  {
   "cell_type": "code",
   "execution_count": 22,
   "metadata": {},
   "outputs": [
    {
     "output_type": "stream",
     "name": "stdout",
     "text": [
      "[[38  1]\n [ 0 10]]\n0.9795918367346939\n1.0\n0.9090909090909091\n"
     ]
    }
   ],
   "source": [
    "from sklearn.naive_bayes import GaussianNB\n",
    "nb_classifier = GaussianNB()\n",
    "nb_classifier.fit(X_train, y_train)\n",
    "\n",
    "nb_y_predict = nb_classifier.predict(X_test)\n",
    "nb_y_predict\n",
    "\n",
    "from sklearn.metrics import confusion_matrix,accuracy_score,recall_score, precision_score\n",
    "cm = confusion_matrix(y_test, nb_y_predict)\n",
    "ac = accuracy_score(y_test,nb_y_predict)\n",
    "rs = recall_score(y_test,nb_y_predict)\n",
    "ps = precision_score(y_test,nb_y_predict)\n",
    "\n",
    "print(cm)\n",
    "print(ac)\n",
    "print(rs)\n",
    "print(ps)"
   ]
  },
  {
   "cell_type": "code",
   "execution_count": 23,
   "metadata": {},
   "outputs": [
    {
     "output_type": "stream",
     "name": "stdout",
     "text": [
      "[[39  0]\n [ 0 10]]\n1.0\n1.0\n1.0\n"
     ]
    }
   ],
   "source": [
    "from sklearn.svm import LinearSVC\n",
    "svm_classifier = LinearSVC(max_iter=50000)\n",
    "svm_classifier.fit(X_train, y_train)\n",
    "\n",
    "svm_y_predict = svm_classifier.predict(X_test)\n",
    "svm_y_predict\n",
    "\n",
    "from sklearn.metrics import confusion_matrix,accuracy_score,recall_score, precision_score\n",
    "cm = confusion_matrix(y_test, svm_y_predict)\n",
    "ac = accuracy_score(y_test,svm_y_predict)\n",
    "rs = recall_score(y_test,svm_y_predict)\n",
    "ps = precision_score(y_test,svm_y_predict)\n",
    "\n",
    "print(cm)\n",
    "print(ac)\n",
    "print(rs)\n",
    "print(ps)"
   ]
  },
  {
   "cell_type": "code",
   "execution_count": 24,
   "metadata": {},
   "outputs": [
    {
     "output_type": "stream",
     "name": "stdout",
     "text": [
      "[[39  0]\n [ 0 10]]\n1.0\n1.0\n1.0\n"
     ]
    }
   ],
   "source": [
    "from sklearn.tree import DecisionTreeClassifier\n",
    "dt_classifier = DecisionTreeClassifier()\n",
    "dt_classifier.fit(X_train, y_train)\n",
    "\n",
    "dt_y_predict = dt_classifier.predict(X_test)\n",
    "dt_y_predict\n",
    "\n",
    "from sklearn.metrics import confusion_matrix,accuracy_score,recall_score, precision_score\n",
    "cm = confusion_matrix(y_test, dt_y_predict)\n",
    "ac = accuracy_score(y_test,dt_y_predict)\n",
    "rs = recall_score(y_test,dt_y_predict)\n",
    "ps = precision_score(y_test,dt_y_predict)\n",
    "\n",
    "print(cm)\n",
    "print(ac)\n",
    "print(rs)\n",
    "print(ps)"
   ]
  },
  {
   "cell_type": "code",
   "execution_count": 25,
   "metadata": {},
   "outputs": [
    {
     "output_type": "stream",
     "name": "stdout",
     "text": [
      "[[39  0]\n",
      " [ 0 10]]\n",
      "1.0\n",
      "1.0\n",
      "1.0\n",
      "C:\\Users\\Mahesh\\anaconda3\\lib\\site-packages\\sklearn\\utils\\deprecation.py:143: FutureWarning: The sklearn.ensemble.voting module is  deprecated in version 0.22 and will be removed in version 0.24. The corresponding classes / functions should instead be imported from sklearn.ensemble. Anything that cannot be imported from sklearn.ensemble is now part of the private API.\n",
      "  warnings.warn(message, FutureWarning)\n"
     ]
    }
   ],
   "source": [
    "from sklearn.ensemble.voting import VotingClassifier\n",
    "vc_classifier = VotingClassifier(\n",
    "    estimators=[('nb', nb_classifier), ('svm', svm_classifier), ('dt', dt_classifier)],\n",
    "    voting='hard'\n",
    ")\n",
    "vc_classifier.fit(X_train, y_train)\n",
    "\n",
    "vc_y_predict = vc_classifier.predict(X_test)\n",
    "vc_y_predict\n",
    "\n",
    "from sklearn.metrics import confusion_matrix,accuracy_score,recall_score, precision_score\n",
    "cm = confusion_matrix(y_test, vc_y_predict)\n",
    "ac = accuracy_score(y_test,vc_y_predict)\n",
    "rs = recall_score(y_test,vc_y_predict)\n",
    "ps = precision_score(y_test,vc_y_predict)\n",
    "\n",
    "print(cm)\n",
    "print(ac)\n",
    "print(rs)\n",
    "print(ps)"
   ]
  },
  {
   "cell_type": "code",
   "execution_count": 26,
   "metadata": {},
   "outputs": [
    {
     "output_type": "stream",
     "name": "stdout",
     "text": [
      "[01:14:26] WARNING: ..\\src\\learner.cc:1061: Starting in XGBoost 1.3.0, the default evaluation metric used with the objective 'binary:logistic' was changed from 'error' to 'logloss'. Explicitly set eval_metric if you'd like to restore the old behavior.\n",
      "Confusion Matrix : \n",
      " [[38  1]\n",
      " [ 0 10]]\n",
      "Accuracy :\n",
      " 0.9795918367346939\n",
      "Recall : \n",
      " 1.0\n",
      "Precesion : \n",
      " 0.9090909090909091\n",
      "C:\\Users\\Mahesh\\anaconda3\\lib\\site-packages\\xgboost\\sklearn.py:888: UserWarning: The use of label encoder in XGBClassifier is deprecated and will be removed in a future release. To remove this warning, do the following: 1) Pass option use_label_encoder=False when constructing XGBClassifier object; and 2) Encode your labels (y) as integers starting with 0, i.e. 0, 1, 2, ..., [num_class - 1].\n",
      "  warnings.warn(label_encoder_deprecation_msg, UserWarning)\n"
     ]
    }
   ],
   "source": [
    "from xgboost import XGBClassifier\n",
    "xgb_classifier = XGBClassifier()\n",
    "xgb_classifier.fit(X_train, y_train)\n",
    "\n",
    "xgb_y_predict = xgb_classifier.predict(X_test)\n",
    "xgb_y_predict\n",
    "\n",
    "from sklearn.metrics import confusion_matrix,accuracy_score,recall_score, precision_score\n",
    "cm = confusion_matrix(y_test, xgb_y_predict)\n",
    "ac = accuracy_score(y_test,xgb_y_predict)\n",
    "rs = recall_score(y_test,xgb_y_predict)\n",
    "ps = precision_score(y_test,xgb_y_predict)\n",
    "\n",
    "print(\"Confusion Matrix : \\n\", cm)\n",
    "print('Accuracy :\\n',ac)\n",
    "print('Recall : \\n', rs)\n",
    "print('Precesion : \\n', ps)"
   ]
  },
  {
   "source": [
    "k-fold validation"
   ],
   "cell_type": "markdown",
   "metadata": {}
  },
  {
   "cell_type": "code",
   "execution_count": 30,
   "metadata": {},
   "outputs": [],
   "source": [
    "from sklearn.model_selection import cross_val_score"
   ]
  },
  {
   "cell_type": "code",
   "execution_count": 31,
   "metadata": {
    "tags": []
   },
   "outputs": [
    {
     "output_type": "stream",
     "name": "stderr",
     "text": [
      "C:\\Users\\Mahesh\\anaconda3\\lib\\site-packages\\sklearn\\svm\\_base.py:976: ConvergenceWarning: Liblinear failed to converge, increase the number of iterations.\n",
      "  warnings.warn(\"Liblinear failed to converge, increase \"\n",
      "C:\\Users\\Mahesh\\anaconda3\\lib\\site-packages\\sklearn\\svm\\_base.py:976: ConvergenceWarning: Liblinear failed to converge, increase the number of iterations.\n",
      "  warnings.warn(\"Liblinear failed to converge, increase \"\n",
      "C:\\Users\\Mahesh\\anaconda3\\lib\\site-packages\\sklearn\\svm\\_base.py:976: ConvergenceWarning: Liblinear failed to converge, increase the number of iterations.\n",
      "  warnings.warn(\"Liblinear failed to converge, increase \"\n",
      "C:\\Users\\Mahesh\\anaconda3\\lib\\site-packages\\sklearn\\svm\\_base.py:976: ConvergenceWarning: Liblinear failed to converge, increase the number of iterations.\n",
      "  warnings.warn(\"Liblinear failed to converge, increase \"\n",
      "C:\\Users\\Mahesh\\anaconda3\\lib\\site-packages\\sklearn\\svm\\_base.py:976: ConvergenceWarning: Liblinear failed to converge, increase the number of iterations.\n",
      "  warnings.warn(\"Liblinear failed to converge, increase \"\n",
      "C:\\Users\\Mahesh\\anaconda3\\lib\\site-packages\\sklearn\\svm\\_base.py:976: ConvergenceWarning: Liblinear failed to converge, increase the number of iterations.\n",
      "  warnings.warn(\"Liblinear failed to converge, increase \"\n",
      "C:\\Users\\Mahesh\\anaconda3\\lib\\site-packages\\sklearn\\svm\\_base.py:976: ConvergenceWarning: Liblinear failed to converge, increase the number of iterations.\n",
      "  warnings.warn(\"Liblinear failed to converge, increase \"\n",
      "C:\\Users\\Mahesh\\anaconda3\\lib\\site-packages\\sklearn\\svm\\_base.py:976: ConvergenceWarning: Liblinear failed to converge, increase the number of iterations.\n",
      "  warnings.warn(\"Liblinear failed to converge, increase \"\n",
      "C:\\Users\\Mahesh\\anaconda3\\lib\\site-packages\\sklearn\\svm\\_base.py:976: ConvergenceWarning: Liblinear failed to converge, increase the number of iterations.\n",
      "  warnings.warn(\"Liblinear failed to converge, increase \"\n",
      "C:\\Users\\Mahesh\\anaconda3\\lib\\site-packages\\sklearn\\svm\\_base.py:976: ConvergenceWarning: Liblinear failed to converge, increase the number of iterations.\n",
      "  warnings.warn(\"Liblinear failed to converge, increase \"\n"
     ]
    },
    {
     "output_type": "execute_result",
     "data": {
      "text/plain": [
       "array([1., 1., 1., 1., 1., 1., 1., 1., 1., 1.])"
      ]
     },
     "metadata": {},
     "execution_count": 31
    }
   ],
   "source": [
    "score = cross_val_score(vc_classifier, X, y, cv=10)#, scoring='recall')\n",
    "score"
   ]
  },
  {
   "cell_type": "code",
   "execution_count": 32,
   "metadata": {},
   "outputs": [
    {
     "output_type": "execute_result",
     "data": {
      "text/plain": [
       "1.0"
      ]
     },
     "metadata": {},
     "execution_count": 32
    }
   ],
   "source": [
    "score.mean()"
   ]
  },
  {
   "cell_type": "code",
   "execution_count": 33,
   "metadata": {},
   "outputs": [
    {
     "output_type": "stream",
     "name": "stderr",
     "text": [
      "C:\\Users\\Mahesh\\anaconda3\\lib\\site-packages\\sklearn\\svm\\_base.py:976: ConvergenceWarning: Liblinear failed to converge, increase the number of iterations.\n",
      "  warnings.warn(\"Liblinear failed to converge, increase \"\n",
      "C:\\Users\\Mahesh\\anaconda3\\lib\\site-packages\\sklearn\\svm\\_base.py:976: ConvergenceWarning: Liblinear failed to converge, increase the number of iterations.\n",
      "  warnings.warn(\"Liblinear failed to converge, increase \"\n",
      "C:\\Users\\Mahesh\\anaconda3\\lib\\site-packages\\sklearn\\svm\\_base.py:976: ConvergenceWarning: Liblinear failed to converge, increase the number of iterations.\n",
      "  warnings.warn(\"Liblinear failed to converge, increase \"\n",
      "C:\\Users\\Mahesh\\anaconda3\\lib\\site-packages\\sklearn\\svm\\_base.py:976: ConvergenceWarning: Liblinear failed to converge, increase the number of iterations.\n",
      "  warnings.warn(\"Liblinear failed to converge, increase \"\n",
      "C:\\Users\\Mahesh\\anaconda3\\lib\\site-packages\\sklearn\\svm\\_base.py:976: ConvergenceWarning: Liblinear failed to converge, increase the number of iterations.\n",
      "  warnings.warn(\"Liblinear failed to converge, increase \"\n",
      "C:\\Users\\Mahesh\\anaconda3\\lib\\site-packages\\sklearn\\svm\\_base.py:976: ConvergenceWarning: Liblinear failed to converge, increase the number of iterations.\n",
      "  warnings.warn(\"Liblinear failed to converge, increase \"\n",
      "C:\\Users\\Mahesh\\anaconda3\\lib\\site-packages\\sklearn\\svm\\_base.py:976: ConvergenceWarning: Liblinear failed to converge, increase the number of iterations.\n",
      "  warnings.warn(\"Liblinear failed to converge, increase \"\n",
      "C:\\Users\\Mahesh\\anaconda3\\lib\\site-packages\\sklearn\\svm\\_base.py:976: ConvergenceWarning: Liblinear failed to converge, increase the number of iterations.\n",
      "  warnings.warn(\"Liblinear failed to converge, increase \"\n",
      "C:\\Users\\Mahesh\\anaconda3\\lib\\site-packages\\sklearn\\svm\\_base.py:976: ConvergenceWarning: Liblinear failed to converge, increase the number of iterations.\n",
      "  warnings.warn(\"Liblinear failed to converge, increase \"\n",
      "C:\\Users\\Mahesh\\anaconda3\\lib\\site-packages\\sklearn\\svm\\_base.py:976: ConvergenceWarning: Liblinear failed to converge, increase the number of iterations.\n",
      "  warnings.warn(\"Liblinear failed to converge, increase \"\n"
     ]
    },
    {
     "output_type": "execute_result",
     "data": {
      "text/plain": [
       "array([1.    , 1.    , 1.    , 1.    , 1.    , 1.    , 1.    , 1.    ,\n",
       "       1.    , 0.9375])"
      ]
     },
     "metadata": {},
     "execution_count": 33
    }
   ],
   "source": [
    "cross_val_score(svm_classifier, X, y, cv=10)"
   ]
  },
  {
   "cell_type": "code",
   "execution_count": 36,
   "metadata": {
    "tags": []
   },
   "outputs": [
    {
     "output_type": "stream",
     "name": "stderr",
     "text": [
      "C:\\Users\\Mahesh\\anaconda3\\lib\\site-packages\\xgboost\\sklearn.py:888: UserWarning: The use of label encoder in XGBClassifier is deprecated and will be removed in a future release. To remove this warning, do the following: 1) Pass option use_label_encoder=False when constructing XGBClassifier object; and 2) Encode your labels (y) as integers starting with 0, i.e. 0, 1, 2, ..., [num_class - 1].\n",
      "  warnings.warn(label_encoder_deprecation_msg, UserWarning)\n",
      "[01:43:24] WARNING: ..\\src\\learner.cc:1061: Starting in XGBoost 1.3.0, the default evaluation metric used with the objective 'binary:logistic' was changed from 'error' to 'logloss'. Explicitly set eval_metric if you'd like to restore the old behavior.\n",
      "[01:43:24] WARNING: ..\\src\\learner.cc:1061: Starting in XGBoost 1.3.0, the default evaluation metric used with the objective 'binary:logistic' was changed from 'error' to 'logloss'. Explicitly set eval_metric if you'd like to restore the old behavior.\n",
      "[01:43:24] WARNING: ..\\src\\learner.cc:1061: Starting in XGBoost 1.3.0, the default evaluation metric used with the objective 'binary:logistic' was changed from 'error' to 'logloss'. Explicitly set eval_metric if you'd like to restore the old behavior.\n",
      "[01:43:24] WARNING: ..\\src\\learner.cc:1061: Starting in XGBoost 1.3.0, the default evaluation metric used with the objective 'binary:logistic' was changed from 'error' to 'logloss'. Explicitly set eval_metric if you'd like to restore the old behavior.\n",
      "[01:43:25] WARNING: ..\\src\\learner.cc:1061: Starting in XGBoost 1.3.0, the default evaluation metric used with the objective 'binary:logistic' was changed from 'error' to 'logloss'. Explicitly set eval_metric if you'd like to restore the old behavior.\n",
      "[01:43:25] WARNING: ..\\src\\learner.cc:1061: Starting in XGBoost 1.3.0, the default evaluation metric used with the objective 'binary:logistic' was changed from 'error' to 'logloss'. Explicitly set eval_metric if you'd like to restore the old behavior.\n",
      "[01:43:25] WARNING: ..\\src\\learner.cc:1061: Starting in XGBoost 1.3.0, the default evaluation metric used with the objective 'binary:logistic' was changed from 'error' to 'logloss'. Explicitly set eval_metric if you'd like to restore the old behavior.\n",
      "[01:43:26] WARNING: ..\\src\\learner.cc:1061: Starting in XGBoost 1.3.0, the default evaluation metric used with the objective 'binary:logistic' was changed from 'error' to 'logloss'. Explicitly set eval_metric if you'd like to restore the old behavior.\n",
      "[01:43:26] WARNING: ..\\src\\learner.cc:1061: Starting in XGBoost 1.3.0, the default evaluation metric used with the objective 'binary:logistic' was changed from 'error' to 'logloss'. Explicitly set eval_metric if you'd like to restore the old behavior.\n",
      "[01:43:26] WARNING: ..\\src\\learner.cc:1061: Starting in XGBoost 1.3.0, the default evaluation metric used with the objective 'binary:logistic' was changed from 'error' to 'logloss'. Explicitly set eval_metric if you'd like to restore the old behavior.\n"
     ]
    },
    {
     "output_type": "execute_result",
     "data": {
      "text/plain": [
       "0.9625"
      ]
     },
     "metadata": {},
     "execution_count": 36
    }
   ],
   "source": [
    "score = cross_val_score(xgb_classifier, X, y, cv=10, error_score='raise')#, scoring='recall')\n",
    "score.mean()"
   ]
  },
  {
   "cell_type": "code",
   "execution_count": 83,
   "metadata": {},
   "outputs": [
    {
     "output_type": "execute_result",
     "data": {
      "text/plain": [
       "array([1., 1., 1., 1., 1., 1., 1., 1., 1., 1.])"
      ]
     },
     "metadata": {},
     "execution_count": 83
    }
   ],
   "source": []
  },
  {
   "cell_type": "code",
   "execution_count": 35,
   "metadata": {},
   "outputs": [
    {
     "output_type": "stream",
     "name": "stderr",
     "text": [
      "C:\\Users\\Mahesh\\anaconda3\\lib\\site-packages\\xgboost\\sklearn.py:888: UserWarning: The use of label encoder in XGBClassifier is deprecated and will be removed in a future release. To remove this warning, do the following: 1) Pass option use_label_encoder=False when constructing XGBClassifier object; and 2) Encode your labels (y) as integers starting with 0, i.e. 0, 1, 2, ..., [num_class - 1].\n",
      "  warnings.warn(label_encoder_deprecation_msg, UserWarning)\n",
      "[01:16:48] WARNING: ..\\src\\learner.cc:1061: Starting in XGBoost 1.3.0, the default evaluation metric used with the objective 'binary:logistic' was changed from 'error' to 'logloss'. Explicitly set eval_metric if you'd like to restore the old behavior.\n",
      "[01:16:48] WARNING: ..\\src\\learner.cc:1061: Starting in XGBoost 1.3.0, the default evaluation metric used with the objective 'binary:logistic' was changed from 'error' to 'logloss'. Explicitly set eval_metric if you'd like to restore the old behavior.\n",
      "[01:16:48] WARNING: ..\\src\\learner.cc:1061: Starting in XGBoost 1.3.0, the default evaluation metric used with the objective 'binary:logistic' was changed from 'error' to 'logloss'. Explicitly set eval_metric if you'd like to restore the old behavior.\n",
      "[01:16:49] WARNING: ..\\src\\learner.cc:1061: Starting in XGBoost 1.3.0, the default evaluation metric used with the objective 'binary:logistic' was changed from 'error' to 'logloss'. Explicitly set eval_metric if you'd like to restore the old behavior.\n",
      "[01:16:49] WARNING: ..\\src\\learner.cc:1061: Starting in XGBoost 1.3.0, the default evaluation metric used with the objective 'binary:logistic' was changed from 'error' to 'logloss'. Explicitly set eval_metric if you'd like to restore the old behavior.\n",
      "[01:16:49] WARNING: ..\\src\\learner.cc:1061: Starting in XGBoost 1.3.0, the default evaluation metric used with the objective 'binary:logistic' was changed from 'error' to 'logloss'. Explicitly set eval_metric if you'd like to restore the old behavior.\n",
      "[01:16:49] WARNING: ..\\src\\learner.cc:1061: Starting in XGBoost 1.3.0, the default evaluation metric used with the objective 'binary:logistic' was changed from 'error' to 'logloss'. Explicitly set eval_metric if you'd like to restore the old behavior.\n",
      "[01:16:50] WARNING: ..\\src\\learner.cc:1061: Starting in XGBoost 1.3.0, the default evaluation metric used with the objective 'binary:logistic' was changed from 'error' to 'logloss'. Explicitly set eval_metric if you'd like to restore the old behavior.\n",
      "[01:16:50] WARNING: ..\\src\\learner.cc:1061: Starting in XGBoost 1.3.0, the default evaluation metric used with the objective 'binary:logistic' was changed from 'error' to 'logloss'. Explicitly set eval_metric if you'd like to restore the old behavior.\n",
      "[01:16:50] WARNING: ..\\src\\learner.cc:1061: Starting in XGBoost 1.3.0, the default evaluation metric used with the objective 'binary:logistic' was changed from 'error' to 'logloss'. Explicitly set eval_metric if you'd like to restore the old behavior.\n"
     ]
    },
    {
     "output_type": "execute_result",
     "data": {
      "text/plain": [
       "array([1.    , 1.    , 0.9375, 0.9375, 1.    , 1.    , 0.9375, 0.9375,\n",
       "       1.    , 0.875 ])"
      ]
     },
     "metadata": {},
     "execution_count": 35
    }
   ],
   "source": [
    "cross_val_score(xgb_classifier, X, y, cv=10)"
   ]
  },
  {
   "cell_type": "code",
   "execution_count": 36,
   "metadata": {},
   "outputs": [
    {
     "output_type": "execute_result",
     "data": {
      "text/plain": [
       "     Age at Histological Diagnosis  Weight (lbs)  Days between CT and surgery  \\\n",
       "0                               34        -999.0                            9   \n",
       "1                               33        -999.0                            3   \n",
       "2                               69        -999.0                           28   \n",
       "3                               80        -999.0                           47   \n",
       "4                               76        -999.0                            2   \n",
       "..                             ...           ...                          ...   \n",
       "206                             75         184.0                           14   \n",
       "207                             61         231.5                           72   \n",
       "208                             52        -999.0                            8   \n",
       "209                             67         158.0                           65   \n",
       "210                             68         229.0                           51   \n",
       "\n",
       "     Quit Smoking  Gender_Female  Gender_Male  Ethnicity_African-American  \\\n",
       "0            True              0            1                           0   \n",
       "1            True              1            0                           0   \n",
       "2            True              1            0                           0   \n",
       "3            True              1            0                           0   \n",
       "4           False              0            1                           0   \n",
       "..            ...            ...          ...                         ...   \n",
       "206         False              0            1                           0   \n",
       "207         False              0            1                           0   \n",
       "208          True              1            0                           0   \n",
       "209         False              0            1                           0   \n",
       "210          True              0            1                           0   \n",
       "\n",
       "     Ethnicity_Asian  Ethnicity_Caucasian  Ethnicity_Hispanic/Latino  ...  \\\n",
       "0                  0                    0                          0  ...   \n",
       "1                  0                    0                          0  ...   \n",
       "2                  0                    0                          0  ...   \n",
       "3                  0                    0                          0  ...   \n",
       "4                  0                    0                          0  ...   \n",
       "..               ...                  ...                        ...  ...   \n",
       "206                0                    1                          0  ...   \n",
       "207                0                    1                          0  ...   \n",
       "208                0                    1                          0  ...   \n",
       "209                1                    0                          0  ...   \n",
       "210                0                    1                          0  ...   \n",
       "\n",
       "     ALK translocation status_Wildtype  Adjuvant Treatment_No  \\\n",
       "0                                    1                      1   \n",
       "1                                    0                      1   \n",
       "2                                    1                      1   \n",
       "3                                    1                      1   \n",
       "4                                    1                      1   \n",
       "..                                 ...                    ...   \n",
       "206                                  0                      1   \n",
       "207                                  0                      0   \n",
       "208                                  1                      1   \n",
       "209                                  1                      1   \n",
       "210                                  0                      0   \n",
       "\n",
       "     Adjuvant Treatment_Yes  Chemotherapy_No  Chemotherapy_Yes  Radiation_No  \\\n",
       "0                         0                1                 0             1   \n",
       "1                         0                1                 0             1   \n",
       "2                         0                1                 0             1   \n",
       "3                         0                1                 0             1   \n",
       "4                         0                1                 0             1   \n",
       "..                      ...              ...               ...           ...   \n",
       "206                       0                1                 0             1   \n",
       "207                       1                0                 1             1   \n",
       "208                       0                1                 0             1   \n",
       "209                       0                1                 0             1   \n",
       "210                       1                0                 1             1   \n",
       "\n",
       "     Radiation_Yes  Recurrence Location_distant  Recurrence Location_local  \\\n",
       "0                0                            1                          0   \n",
       "1                0                            0                          0   \n",
       "2                0                            0                          0   \n",
       "3                0                            0                          0   \n",
       "4                0                            1                          0   \n",
       "..             ...                          ...                        ...   \n",
       "206              0                            0                          0   \n",
       "207              0                            0                          0   \n",
       "208              0                            0                          0   \n",
       "209              0                            0                          0   \n",
       "210              0                            1                          0   \n",
       "\n",
       "     Recurrence Location_regional  \n",
       "0                               0  \n",
       "1                               0  \n",
       "2                               0  \n",
       "3                               0  \n",
       "4                               0  \n",
       "..                            ...  \n",
       "206                             0  \n",
       "207                             0  \n",
       "208                             0  \n",
       "209                             0  \n",
       "210                             0  \n",
       "\n",
       "[211 rows x 162 columns]"
      ],
      "text/html": "<div>\n<style scoped>\n    .dataframe tbody tr th:only-of-type {\n        vertical-align: middle;\n    }\n\n    .dataframe tbody tr th {\n        vertical-align: top;\n    }\n\n    .dataframe thead th {\n        text-align: right;\n    }\n</style>\n<table border=\"1\" class=\"dataframe\">\n  <thead>\n    <tr style=\"text-align: right;\">\n      <th></th>\n      <th>Age at Histological Diagnosis</th>\n      <th>Weight (lbs)</th>\n      <th>Days between CT and surgery</th>\n      <th>Quit Smoking</th>\n      <th>Gender_Female</th>\n      <th>Gender_Male</th>\n      <th>Ethnicity_African-American</th>\n      <th>Ethnicity_Asian</th>\n      <th>Ethnicity_Caucasian</th>\n      <th>Ethnicity_Hispanic/Latino</th>\n      <th>...</th>\n      <th>ALK translocation status_Wildtype</th>\n      <th>Adjuvant Treatment_No</th>\n      <th>Adjuvant Treatment_Yes</th>\n      <th>Chemotherapy_No</th>\n      <th>Chemotherapy_Yes</th>\n      <th>Radiation_No</th>\n      <th>Radiation_Yes</th>\n      <th>Recurrence Location_distant</th>\n      <th>Recurrence Location_local</th>\n      <th>Recurrence Location_regional</th>\n    </tr>\n  </thead>\n  <tbody>\n    <tr>\n      <th>0</th>\n      <td>34</td>\n      <td>-999.0</td>\n      <td>9</td>\n      <td>True</td>\n      <td>0</td>\n      <td>1</td>\n      <td>0</td>\n      <td>0</td>\n      <td>0</td>\n      <td>0</td>\n      <td>...</td>\n      <td>1</td>\n      <td>1</td>\n      <td>0</td>\n      <td>1</td>\n      <td>0</td>\n      <td>1</td>\n      <td>0</td>\n      <td>1</td>\n      <td>0</td>\n      <td>0</td>\n    </tr>\n    <tr>\n      <th>1</th>\n      <td>33</td>\n      <td>-999.0</td>\n      <td>3</td>\n      <td>True</td>\n      <td>1</td>\n      <td>0</td>\n      <td>0</td>\n      <td>0</td>\n      <td>0</td>\n      <td>0</td>\n      <td>...</td>\n      <td>0</td>\n      <td>1</td>\n      <td>0</td>\n      <td>1</td>\n      <td>0</td>\n      <td>1</td>\n      <td>0</td>\n      <td>0</td>\n      <td>0</td>\n      <td>0</td>\n    </tr>\n    <tr>\n      <th>2</th>\n      <td>69</td>\n      <td>-999.0</td>\n      <td>28</td>\n      <td>True</td>\n      <td>1</td>\n      <td>0</td>\n      <td>0</td>\n      <td>0</td>\n      <td>0</td>\n      <td>0</td>\n      <td>...</td>\n      <td>1</td>\n      <td>1</td>\n      <td>0</td>\n      <td>1</td>\n      <td>0</td>\n      <td>1</td>\n      <td>0</td>\n      <td>0</td>\n      <td>0</td>\n      <td>0</td>\n    </tr>\n    <tr>\n      <th>3</th>\n      <td>80</td>\n      <td>-999.0</td>\n      <td>47</td>\n      <td>True</td>\n      <td>1</td>\n      <td>0</td>\n      <td>0</td>\n      <td>0</td>\n      <td>0</td>\n      <td>0</td>\n      <td>...</td>\n      <td>1</td>\n      <td>1</td>\n      <td>0</td>\n      <td>1</td>\n      <td>0</td>\n      <td>1</td>\n      <td>0</td>\n      <td>0</td>\n      <td>0</td>\n      <td>0</td>\n    </tr>\n    <tr>\n      <th>4</th>\n      <td>76</td>\n      <td>-999.0</td>\n      <td>2</td>\n      <td>False</td>\n      <td>0</td>\n      <td>1</td>\n      <td>0</td>\n      <td>0</td>\n      <td>0</td>\n      <td>0</td>\n      <td>...</td>\n      <td>1</td>\n      <td>1</td>\n      <td>0</td>\n      <td>1</td>\n      <td>0</td>\n      <td>1</td>\n      <td>0</td>\n      <td>1</td>\n      <td>0</td>\n      <td>0</td>\n    </tr>\n    <tr>\n      <th>...</th>\n      <td>...</td>\n      <td>...</td>\n      <td>...</td>\n      <td>...</td>\n      <td>...</td>\n      <td>...</td>\n      <td>...</td>\n      <td>...</td>\n      <td>...</td>\n      <td>...</td>\n      <td>...</td>\n      <td>...</td>\n      <td>...</td>\n      <td>...</td>\n      <td>...</td>\n      <td>...</td>\n      <td>...</td>\n      <td>...</td>\n      <td>...</td>\n      <td>...</td>\n      <td>...</td>\n    </tr>\n    <tr>\n      <th>206</th>\n      <td>75</td>\n      <td>184.0</td>\n      <td>14</td>\n      <td>False</td>\n      <td>0</td>\n      <td>1</td>\n      <td>0</td>\n      <td>0</td>\n      <td>1</td>\n      <td>0</td>\n      <td>...</td>\n      <td>0</td>\n      <td>1</td>\n      <td>0</td>\n      <td>1</td>\n      <td>0</td>\n      <td>1</td>\n      <td>0</td>\n      <td>0</td>\n      <td>0</td>\n      <td>0</td>\n    </tr>\n    <tr>\n      <th>207</th>\n      <td>61</td>\n      <td>231.5</td>\n      <td>72</td>\n      <td>False</td>\n      <td>0</td>\n      <td>1</td>\n      <td>0</td>\n      <td>0</td>\n      <td>1</td>\n      <td>0</td>\n      <td>...</td>\n      <td>0</td>\n      <td>0</td>\n      <td>1</td>\n      <td>0</td>\n      <td>1</td>\n      <td>1</td>\n      <td>0</td>\n      <td>0</td>\n      <td>0</td>\n      <td>0</td>\n    </tr>\n    <tr>\n      <th>208</th>\n      <td>52</td>\n      <td>-999.0</td>\n      <td>8</td>\n      <td>True</td>\n      <td>1</td>\n      <td>0</td>\n      <td>0</td>\n      <td>0</td>\n      <td>1</td>\n      <td>0</td>\n      <td>...</td>\n      <td>1</td>\n      <td>1</td>\n      <td>0</td>\n      <td>1</td>\n      <td>0</td>\n      <td>1</td>\n      <td>0</td>\n      <td>0</td>\n      <td>0</td>\n      <td>0</td>\n    </tr>\n    <tr>\n      <th>209</th>\n      <td>67</td>\n      <td>158.0</td>\n      <td>65</td>\n      <td>False</td>\n      <td>0</td>\n      <td>1</td>\n      <td>0</td>\n      <td>1</td>\n      <td>0</td>\n      <td>0</td>\n      <td>...</td>\n      <td>1</td>\n      <td>1</td>\n      <td>0</td>\n      <td>1</td>\n      <td>0</td>\n      <td>1</td>\n      <td>0</td>\n      <td>0</td>\n      <td>0</td>\n      <td>0</td>\n    </tr>\n    <tr>\n      <th>210</th>\n      <td>68</td>\n      <td>229.0</td>\n      <td>51</td>\n      <td>True</td>\n      <td>0</td>\n      <td>1</td>\n      <td>0</td>\n      <td>0</td>\n      <td>1</td>\n      <td>0</td>\n      <td>...</td>\n      <td>0</td>\n      <td>0</td>\n      <td>1</td>\n      <td>0</td>\n      <td>1</td>\n      <td>1</td>\n      <td>0</td>\n      <td>1</td>\n      <td>0</td>\n      <td>0</td>\n    </tr>\n  </tbody>\n</table>\n<p>211 rows × 162 columns</p>\n</div>"
     },
     "metadata": {},
     "execution_count": 36
    }
   ],
   "source": [
    "X"
   ]
  }
 ],
 "metadata": {
  "kernelspec": {
   "name": "python383jvsc74a57bd0016021b9d1a2f021aa567ca7837caa289f85df1886a5b9aeea1f42b31bf69e43",
   "display_name": "Python 3.8.3 64-bit (conda)"
  },
  "language_info": {
   "file_extension": ".py",
   "mimetype": "text/x-python",
   "name": "python",
   "version": "3.8.3-final"
  }
 },
 "nbformat": 4,
 "nbformat_minor": 4
}